{
 "cells": [
  {
   "cell_type": "code",
   "execution_count": 76,
   "metadata": {},
   "outputs": [],
   "source": [
    "from sympy import Poly, expand, ZZ, ring, symbols\n",
    "from sympy import latex\n",
    "from IPython.display import display, Math"
   ]
  },
  {
   "cell_type": "code",
   "execution_count": 108,
   "metadata": {},
   "outputs": [],
   "source": [
    "\"\"\"\n",
    "The general case.\n",
    "\"\"\"\n",
    "pp,qq = symbols('p q')\n",
    "R, p, q = ring([pp,qq],ZZ)\n",
    "\n",
    "r,s,c,d = p*p, q*q, p*q, p*q\n",
    "\n",
    "def rs_n(r,s,n):\n",
    "    a = R(0) \n",
    "    for i in range(n+1):\n",
    "        a += r**i * s**(n-i)\n",
    "    return a\n",
    "\n",
    "def tail_n(n):\n",
    "    a = rs_n(r,s,n) + rs_n(r,s,n-1)*c + rs_n(r,s,n-1)*d + rs_n(r,s,n-2)*c*d\n",
    "    return a\n",
    "\n",
    "def evalsignature(countres):\n",
    "    DD,RC,SS = countres\n",
    "    a = DD+RC+SS\n",
    "    res = a\n",
    "    return res\n",
    "\n",
    "    \n",
    "def countD(ckO):\n",
    "    \"\"\"\n",
    "    We will check ckO is a valid good parity partition of type D.\n",
    "    Each row of ckO must be even \n",
    "    \"\"\"\n",
    "    assert sum(ckO)%2 ==0, \"total size must be even\"\n",
    "    assert all(r %2 == 1 for r in ckO), \"Each row must be odd length\"\n",
    "    \n",
    "    if len(ckO) == 0:\n",
    "        DD = R(1)\n",
    "        RC = R(0)\n",
    "        SS = R(0)\n",
    "        return (DD,RC,SS)\n",
    "    else:\n",
    "        R1,R2,R3 = ckO[0],ckO[1], ckO[2] if len(ckO)>2 else -1\n",
    "        n = (R1-R2)//2 + 1\n",
    "\n",
    "        #tail ends with d, rc, s\n",
    "        TDD = rs_n(r,s,n-1)*d + rs_n(r,s,n-2)*c*d\n",
    "        TRC = rs_n(r,s,n-1)*c + r*rs_n(r,s,n-1)\n",
    "        TSS = s**n\n",
    "            \n",
    "        if R2 > R3:\n",
    "            \"\"\"\n",
    "            In this case (2,3) is a primitive pair\n",
    "            \"\"\"\n",
    "\n",
    "            C2 = R2-1\n",
    "            \n",
    "            DDp,RCp,SSp = countD(ckO[2:])\n",
    "            \n",
    "            resp = (p**C2*q**C2)*(DDp+RCp+SSp)\n",
    "            resp = resp\n",
    "            DD = resp*TDD\n",
    "            RC = resp*TRC\n",
    "            SS = resp*TSS\n",
    "            return (DD,RC,SS)\n",
    "        else:\n",
    "            scDD = rs_n(r,s,n-2)*c*d + s*rs_n(r,s,n-2)*d\n",
    "            scRC = rs_n(r,s,n-1)*c + s*rs_n(r,s,n-2)*r\n",
    "            scSS = s**n\n",
    "            \n",
    "            C2 = R2\n",
    "            \n",
    "            DDp, RCp, SSp = countD(ckO[2:])\n",
    "            DD = DDp*TDD\n",
    "            RC = DDp*TRC\n",
    "            SS = DDp*TSS\n",
    "            \n",
    "            DD += RCp*scDD\n",
    "            RC += RCp*scRC\n",
    "            SS += RCp*scSS\n",
    "            \n",
    "            DD *= (p**(C2-1)*q**(C2-1))\n",
    "            RC *= (p**(C2-1)*q**(C2-1))\n",
    "            SS *= (p**(C2-1)*q**(C2-1))\n",
    "            return (DD, RC, SS)\n",
    "            \n",
    "def countC(ckO):\n",
    "    \"\"\"\n",
    "    We will check ckO is a valid good parity partition of type B.\n",
    "    Each row of ckO must be even \n",
    "    \"\"\"\n",
    "    assert sum(ckO)%2 == 1, \"total size must be odd\"\n",
    "    assert all(r %2 == 1 for r in ckO), \"Each row must be odd length\"\n",
    "    res = 0\n",
    "    if len(ckO) == 1:\n",
    "        res = 1\n",
    "    else:\n",
    "        R1, R2 = ckO[0], ckO[1]\n",
    "        DD, RC, SS = countD(ckO[1:])\n",
    "        if R1 > R2: \n",
    "            # Primitivie pair case\n",
    "            a = DD+RC+SS\n",
    "            res = 2*a(1,1)\n",
    "        else:\n",
    "            # balanced pair case\n",
    "            a = DD+RC\n",
    "            res = a(1,1)\n",
    "    return res\n"
   ]
  },
  {
   "cell_type": "code",
   "execution_count": 111,
   "metadata": {},
   "outputs": [
    {
     "name": "stdout",
     "output_type": "stream",
     "text": [
      "61824\n"
     ]
    },
    {
     "data": {
      "text/latex": [
       "$\\displaystyle 16 {p}^{97} {q}^{79} + 124 {p}^{96} {q}^{80} + 468 {p}^{95} {q}^{81} + 1176 {p}^{94} {q}^{82} + 2266 {p}^{93} {q}^{83} + 3640 {p}^{92} {q}^{84} + 5136 {p}^{91} {q}^{85} + 6540 {p}^{90} {q}^{86} + 7570 {p}^{89} {q}^{87} + 7952 {p}^{88} {q}^{88} + 7570 {p}^{87} {q}^{89} + 6540 {p}^{86} {q}^{90} + 5136 {p}^{85} {q}^{91} + 3640 {p}^{84} {q}^{92} + 2266 {p}^{83} {q}^{93} + 1176 {p}^{82} {q}^{94} + 468 {p}^{81} {q}^{95} + 124 {p}^{80} {q}^{96} + 16 {p}^{79} {q}^{97}$"
      ],
      "text/plain": [
       "<IPython.core.display.Math object>"
      ]
     },
     "metadata": {},
     "output_type": "display_data"
    },
    {
     "name": "stdout",
     "output_type": "stream",
     "text": [
      "3744\n"
     ]
    }
   ],
   "source": [
    "dO = (19,19,19,19,17,13,9,9,9,9,9,9,9,3,3,1)\n",
    "V = countD(dO)\n",
    "a = evalsignature(V)\n",
    "print(a(1,1))    \n",
    "display(Math(latex(a)))\n",
    "\n",
    "dO = (19,19,19,19,17,13,9,9,9,9,9,9,9,3,3,)\n",
    "res = countC(dO)\n",
    "print(res)"
   ]
  },
  {
   "cell_type": "code",
   "execution_count": 112,
   "metadata": {},
   "outputs": [],
   "source": [
    "def countB (ckO):\n",
    "    \"\"\"\n",
    "    We will check ckO is a valid good parity partition of type B.\n",
    "    \"\"\"\n",
    "    ckO = tuple(r for r in ckO if r!=0)\n",
    "    assert all(r %2 == 0 for r in ckO), \"Each row must be even length\"\n",
    "    if len(ckO) <= 1:\n",
    "        #    DD = R(0)\n",
    "        #    RC = R(p)\n",
    "        #    SS = R(q)\n",
    "        #    return (DD,RC,SS)\n",
    "        #elif len(ckO) == 1:\n",
    "        c1 = ckO[0]//2 if len(ckO)==1 else 0 \n",
    "        DD = d*(p+q)*rs_n(r,s,c1-1)\n",
    "        RC = p*rs_n(r,s,c1) +q*r*rs_n(r,s,c1-1)\n",
    "        SS = q*(s**c1)\n",
    "        return (DD,RC,SS)\n",
    "    else:\n",
    "        R1,R2,R3 = ckO[0],ckO[1], ckO[2] if len(ckO)>2 else 0\n",
    "        n = (R1-R2)//2 + 1\n",
    "\n",
    "        #tail ends with d, rc, s\n",
    "        TDD = rs_n(r,s,n-1)*d + rs_n(r,s,n-2)*c*d\n",
    "        TRC = rs_n(r,s,n-1)*c + r*rs_n(r,s,n-1)\n",
    "        TSS = s**n\n",
    "            \n",
    "        if R2 > R3:\n",
    "            \"\"\"\n",
    "            In this case (2,3) is a primitive pair\n",
    "            \"\"\"\n",
    "            \n",
    "            C2 = R2-1\n",
    "            \n",
    "            DDp,RCp,SSp = countB(ckO[2:])\n",
    "            \n",
    "            resp = (p**C2*q**C2)*(DDp+RCp+SSp)\n",
    "            resp = resp\n",
    "            DD = resp*TDD\n",
    "            RC = resp*TRC\n",
    "            SS = resp*TSS\n",
    "            return (DD,RC,SS)\n",
    "        else:\n",
    "            scDD = rs_n(r,s,n-2)*c*d + s*rs_n(r,s,n-2)*d\n",
    "            scRC = rs_n(r,s,n-1)*c + s*rs_n(r,s,n-2)*r\n",
    "            scSS = s**n\n",
    "            \n",
    "            C2 = R2\n",
    "            \n",
    "            DDp, RCp, SSp = countB(ckO[2:])\n",
    "            DD = DDp*TDD\n",
    "            RC = DDp*TRC\n",
    "            SS = DDp*TSS\n",
    "            \n",
    "            DD += RCp*scDD\n",
    "            RC += RCp*scRC\n",
    "            SS += RCp*scSS\n",
    "            \n",
    "            DD *= (p**(C2-1)*q**(C2-1))\n",
    "            RC *= (p**(C2-1)*q**(C2-1))\n",
    "            SS *= (p**(C2-1)*q**(C2-1))\n",
    "            return (DD, RC, SS)\n",
    "            \n",
    "def countM(ckO):\n",
    "    \"\"\"\n",
    "    We will check ckO is a valid good parity partition of type B.\n",
    "    Each row of ckO must be even \n",
    "    \"\"\"\n",
    "    ckO = tuple(r for r in ckO if r!=0)\n",
    "    assert all(r %2 == 0for r in ckO), \"Each row must be even length\"\n",
    "    res = 0\n",
    "    if len(ckO) == 0:\n",
    "        res = 1\n",
    "    else:\n",
    "        R1, R2 = ckO[0], ckO[1] if len(ckO)>1 else 0\n",
    "        DD, RC, SS = countB(ckO[1:])\n",
    "        if R1 > R2: \n",
    "            # Primitivie pair case\n",
    "            a = DD+RC+SS\n",
    "            res = 2*a(1,1)\n",
    "        else:\n",
    "            # balanced pair case\n",
    "            a = DD+RC\n",
    "            res = a(1,1)\n",
    "    return res\n",
    "\n",
    "        "
   ]
  },
  {
   "cell_type": "code",
   "execution_count": 115,
   "metadata": {},
   "outputs": [
    {
     "name": "stdout",
     "output_type": "stream",
     "text": [
      "48\n"
     ]
    },
    {
     "data": {
      "text/latex": [
       "$\\displaystyle 4 {p}^{27} {q}^{22} + 20 {p}^{26} {q}^{23} + 40 {p}^{25} {q}^{24} + 40 {p}^{24} {q}^{25} + 20 {p}^{23} {q}^{26} + 4 {p}^{22} {q}^{27}$"
      ],
      "text/plain": [
       "<IPython.core.display.Math object>"
      ]
     },
     "metadata": {},
     "output_type": "display_data"
    },
    {
     "name": "stdout",
     "output_type": "stream",
     "text": [
      "64\n",
      "305\n"
     ]
    }
   ],
   "source": [
    "dO = (18,16,16,16,16,10,4,4,4,4,4,4,2,0)\n",
    "dO = (8,8,8,8,4,4,4,4)\n",
    "\n",
    "print(sum(dO))\n",
    "V = countB(dO)\n",
    "\n",
    "a = evalsignature(V)\n",
    "display(Math(latex(a)))\n",
    "print(a.subs([(p,1),(q,1)])/2)\n",
    "\n",
    "res = countM(dO)\n",
    "print(res)"
   ]
  },
  {
   "cell_type": "code",
   "execution_count": 73,
   "metadata": {},
   "outputs": [
    {
     "data": {
      "text/plain": [
       "2*p**23*q**12 + 14*p**22*q**13 + 46*p**21*q**14 + 98*p**20*q**15 + 156*p**19*q**16 + 196*p**18*q**17 + 196*p**17*q**18 + 156*p**16*q**19 + 98*p**15*q**20 + 46*p**14*q**21 + 14*p**13*q**22 + 2*p**12*q**23"
      ]
     },
     "execution_count": 73,
     "metadata": {},
     "output_type": "execute_result"
    }
   ],
   "source": []
  },
  {
   "cell_type": "code",
   "execution_count": 136,
   "metadata": {},
   "outputs": [
    {
     "name": "stdout",
     "output_type": "stream",
     "text": [
      "aaaaaaaaaaaaaaaaaaaaaaaaaaaaaaaaaaaaaaaaaaaaaaaaaaaaaaaaaaaaaaaaaaaaaaaaaaaaaaaaaaaaaaaaaaaaaaaaaaaaaaaaaaaaaaaaaaaaaaaaaaaaaaaaaaaaaaaaaaaaaaaaaaaaaaaaaaaaaaaaaaaaaaaaaaaaaaaaaaaaaaaaaaaaaaaaaaaaaaaaaaaaaaaaaaaaaaaaaaaaaaaaaaaaaaaaaaaaaaaaaaaaaaaaaaaaaaaaaaaaaaaaaaaaaaaaaaaaaaaaaaaaaaaaaaaaaaaaaaaa\n"
     ]
    }
   ],
   "source": [
    "from rich.console import Console, OverflowMethod\n",
    "\n",
    "console = Console(width=50,)\n",
    "print('a'*300)"
   ]
  },
  {
   "cell_type": "code",
   "execution_count": 138,
   "metadata": {},
   "outputs": [
    {
     "ename": "AttributeError",
     "evalue": "module 'rich.console' has no attribute 'is_terminal'",
     "output_type": "error",
     "traceback": [
      "\u001b[0;31m---------------------------------------------------------------------------\u001b[0m",
      "\u001b[0;31mAttributeError\u001b[0m                            Traceback (most recent call last)",
      "\u001b[0;32m<ipython-input-138-f05b935abb9c>\u001b[0m in \u001b[0;36m<module>\u001b[0;34m\u001b[0m\n\u001b[1;32m      1\u001b[0m \u001b[0;32mimport\u001b[0m \u001b[0mrich\u001b[0m\u001b[0;34m.\u001b[0m\u001b[0mconsole\u001b[0m \u001b[0;32mas\u001b[0m \u001b[0mcc\u001b[0m\u001b[0;34m\u001b[0m\u001b[0;34m\u001b[0m\u001b[0m\n\u001b[0;32m----> 2\u001b[0;31m \u001b[0mcc\u001b[0m\u001b[0;34m.\u001b[0m\u001b[0mis_terminal\u001b[0m\u001b[0;34m\u001b[0m\u001b[0;34m\u001b[0m\u001b[0m\n\u001b[0m",
      "\u001b[0;31mAttributeError\u001b[0m: module 'rich.console' has no attribute 'is_terminal'"
     ]
    }
   ],
   "source": [
    "import rich.console as cc\n",
    "cc.is_terminal"
   ]
  },
  {
   "cell_type": "code",
   "execution_count": null,
   "metadata": {},
   "outputs": [],
   "source": []
  }
 ],
 "metadata": {
  "kernelspec": {
   "display_name": "Python 3",
   "language": "python",
   "name": "python3"
  },
  "language_info": {
   "codemirror_mode": {
    "name": "ipython",
    "version": 3
   },
   "file_extension": ".py",
   "mimetype": "text/x-python",
   "name": "python",
   "nbconvert_exporter": "python",
   "pygments_lexer": "ipython3",
   "version": "3.8.10"
  }
 },
 "nbformat": 4,
 "nbformat_minor": 4
}
