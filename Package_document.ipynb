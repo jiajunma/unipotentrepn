{
 "cells": [
  {
   "cell_type": "markdown",
   "metadata": {},
   "source": [
    "This document explains the function in the package"
   ]
  },
  {
   "cell_type": "code",
   "execution_count": null,
   "metadata": {},
   "outputs": [],
   "source": [
    "%reload_ext autoreload\n",
    "%autoreload 2\n",
    "from IPython.display import Markdown as md\n",
    "from IPython.display import Latex as lt\n",
    "from combunipotent import *\n",
    "def displt(*arg):\n",
    "    display(lt(*arg))\n"
   ]
  },
  {
   "cell_type": "code",
   "execution_count": null,
   "metadata": {},
   "outputs": [],
   "source": [
    "# combine several blocks of text into a big block\n",
    "# Example\n",
    "print(concat_strblocks(\"1  \\n2\\n3    \\n\",'1\\n  1\\n',sep='|'))"
   ]
  },
  {
   "cell_type": "code",
   "execution_count": null,
   "metadata": {},
   "outputs": [],
   "source": [
    "# Return the default value if the index is out of range\n",
    "a = {'1':1,'2':2}\n",
    "b = [1,2]\n",
    "print(getz(a,1,'Bad index'))\n",
    "print(getz(b,3,'0'))"
   ]
  },
  {
   "cell_type": "code",
   "execution_count": null,
   "metadata": {},
   "outputs": [],
   "source": [
    "# Regularize partions and bi-partitions\n",
    "# The return is a tuple/a pair of tuple\n",
    "print(reg_part([3,2,0,1,4],reverse=True))\n",
    "print(reg_W_repn(([3,2,0,1,4],[1,2,]),reverse=True))"
   ]
  },
  {
   "cell_type": "code",
   "execution_count": null,
   "metadata": {},
   "outputs": [],
   "source": [
    "# Collapse operations on partitions\n",
    "Dpart = BDcollapse([1,2,3])\n",
    "print(Dpart)\n",
    "print(str_part(Dpart,'.'))\n",
    "Cpart = Ccollapse([3,2,1])\n",
    "print(Cpart)\n",
    "print(str_part(Cpart,'.'))\n",
    "# Test the validity of a partition\n",
    "print(is_part_valid((3,2,1,1),'D'))\n",
    "print(is_part_valid((3,2,1,1),'C'))\n",
    "print(is_part_valid((3,2,1,1),'B'))\n",
    "print(is_part_valid((3,3,1,1,1),'B'))"
   ]
  },
  {
   "cell_type": "code",
   "execution_count": null,
   "metadata": {},
   "outputs": [],
   "source": [
    "# Split the partition into good and bad parity parts\n",
    "print(split_part([4,4,3,2,2,1,1],'B'))\n",
    "\n",
    "gpart,bpart = split_part([4,3,3,2,1,1],'C')\n",
    "displt(f\"Type M: $\\\\mathcal{{\\\\check O}} = \\\\mathcal{{\\\\check O}}_g \\\\cup\\\\mathcal{{\\\\check O}}_b$ = {gpart}, {bpart}\")\n",
    "btau = bpart2Wrepn(bpart, 'M')\n",
    "displt(f\"The $\\\\tau_b$ is {btau}\")\n",
    "\n",
    "gpart,bpart = split_part([4,4,3,3,2,2,1,1],'D')\n",
    "displt(f\"Type D: $\\\\mathcal{{\\\\check O}} = \\\\mathcal{{\\\\check O}}_g \\\\cup\\\\mathcal{{\\\\check O}}_b$ = {gpart}, {bpart}\")\n",
    "btau = bpart2Wrepn(bpart, 'D')\n",
    "displt(f\"The $\\\\tau_b$ is {btau}\")\n"
   ]
  },
  {
   "cell_type": "code",
   "execution_count": null,
   "metadata": {},
   "outputs": [],
   "source": [
    "a = 's'\n",
    "a[:-2]"
   ]
  },
  {
   "cell_type": "code",
   "execution_count": null,
   "metadata": {},
   "outputs": [],
   "source": []
  },
  {
   "cell_type": "code",
   "execution_count": null,
   "metadata": {},
   "outputs": [],
   "source": []
  }
 ],
 "metadata": {
  "kernelspec": {
   "display_name": "Python 3",
   "language": "python",
   "name": "python3"
  },
  "language_info": {
   "codemirror_mode": {
    "name": "ipython",
    "version": 3
   },
   "file_extension": ".py",
   "mimetype": "text/x-python",
   "name": "python",
   "nbconvert_exporter": "python",
   "pygments_lexer": "ipython3",
   "version": "3.8.10"
  }
 },
 "nbformat": 4,
 "nbformat_minor": 4
}
