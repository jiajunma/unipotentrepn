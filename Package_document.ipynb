{
 "cells": [
  {
   "cell_type": "markdown",
   "metadata": {},
   "source": [
    "This document explains the functions in the package"
   ]
  },
  {
   "cell_type": "code",
   "execution_count": 1,
   "metadata": {},
   "outputs": [],
   "source": [
    "%reload_ext autoreload\n",
    "%autoreload 2\n",
    "from IPython.display import Markdown as md\n",
    "from IPython.display import Latex as lt\n",
    "from combunipotent import *\n",
    "def displt(*arg):\n",
    "    display(lt(*arg))\n",
    "dprint = lambda x: display(lt(str(x)))"
   ]
  },
  {
   "cell_type": "code",
   "execution_count": 3,
   "metadata": {},
   "outputs": [
    {
     "data": {
      "text/html": [
       "<pre style=\"white-space:pre;overflow-x:auto;line-height:normal;font-family:Menlo,'DejaVu Sans Mono',consolas,'Courier New',monospace\"><span style=\"color: #000080; font-weight: bold\">1</span>    |<span style=\"color: #000080; font-weight: bold\">1</span>  \n",
       "<span style=\"color: #000080; font-weight: bold\">2</span>    |  <span style=\"color: #000080; font-weight: bold\">1</span>\n",
       "<span style=\"color: #000080; font-weight: bold\">3</span>    |   \n",
       "</pre>\n"
      ],
      "text/plain": [
       "<rich.jupyter.JupyterRenderable at 0x7fc71899e1c0>"
      ]
     },
     "metadata": {},
     "output_type": "display_data"
    }
   ],
   "source": [
    "# combine several blocks of text into a big block\n",
    "# Example\n",
    "print(concat_strblocks(\"1  \\n2\\n3    \\n\",'1\\n  1\\n',sep='|'))"
   ]
  },
  {
   "cell_type": "code",
   "execution_count": 4,
   "metadata": {},
   "outputs": [
    {
     "data": {
      "text/html": [
       "<pre style=\"white-space:pre;overflow-x:auto;line-height:normal;font-family:Menlo,'DejaVu Sans Mono',consolas,'Courier New',monospace\">Bad index\n",
       "</pre>\n"
      ],
      "text/plain": [
       "<rich.jupyter.JupyterRenderable at 0x7fc7189b3f70>"
      ]
     },
     "metadata": {},
     "output_type": "display_data"
    },
    {
     "data": {
      "text/html": [
       "<pre style=\"white-space:pre;overflow-x:auto;line-height:normal;font-family:Menlo,'DejaVu Sans Mono',consolas,'Courier New',monospace\"><span style=\"color: #000080; font-weight: bold\">0</span>\n",
       "</pre>\n"
      ],
      "text/plain": [
       "<rich.jupyter.JupyterRenderable at 0x7fc7189b3af0>"
      ]
     },
     "metadata": {},
     "output_type": "display_data"
    }
   ],
   "source": [
    "# Return the default value if the index is out of range\n",
    "a = {'1':1,'2':2}\n",
    "b = [1,2]\n",
    "print(getz(a,1,'Bad index'))\n",
    "print(getz(b,3,'0'))"
   ]
  },
  {
   "cell_type": "code",
   "execution_count": 5,
   "metadata": {},
   "outputs": [
    {
     "data": {
      "text/html": [
       "<pre style=\"white-space:pre;overflow-x:auto;line-height:normal;font-family:Menlo,'DejaVu Sans Mono',consolas,'Courier New',monospace\"><span style=\"font-weight: bold\">(</span><span style=\"color: #000080; font-weight: bold\">4</span>, <span style=\"color: #000080; font-weight: bold\">3</span>, <span style=\"color: #000080; font-weight: bold\">2</span>, <span style=\"color: #000080; font-weight: bold\">1</span><span style=\"font-weight: bold\">)</span>\n",
       "</pre>\n"
      ],
      "text/plain": [
       "<rich.jupyter.JupyterRenderable at 0x7fc5e6f09eb0>"
      ]
     },
     "metadata": {},
     "output_type": "display_data"
    },
    {
     "data": {
      "text/html": [
       "<pre style=\"white-space:pre;overflow-x:auto;line-height:normal;font-family:Menlo,'DejaVu Sans Mono',consolas,'Courier New',monospace\"><span style=\"font-weight: bold\">((</span><span style=\"color: #000080; font-weight: bold\">4</span>, <span style=\"color: #000080; font-weight: bold\">3</span>, <span style=\"color: #000080; font-weight: bold\">2</span>, <span style=\"color: #000080; font-weight: bold\">1</span><span style=\"font-weight: bold\">)</span>, <span style=\"font-weight: bold\">(</span><span style=\"color: #000080; font-weight: bold\">2</span>, <span style=\"color: #000080; font-weight: bold\">1</span><span style=\"font-weight: bold\">))</span>\n",
       "</pre>\n"
      ],
      "text/plain": [
       "<rich.jupyter.JupyterRenderable at 0x7fc5e6f094c0>"
      ]
     },
     "metadata": {},
     "output_type": "display_data"
    }
   ],
   "source": [
    "# Regularize partions and bi-partitions\n",
    "# The return is a tuple/a pair of tuple\n",
    "print(reg_part([3,2,0,1,4],reverse=True))\n",
    "print(reg_W_repn(([3,2,0,1,4],[1,2,]),reverse=True))"
   ]
  },
  {
   "cell_type": "code",
   "execution_count": 6,
   "metadata": {},
   "outputs": [
    {
     "data": {
      "text/html": [
       "<pre style=\"white-space:pre;overflow-x:auto;line-height:normal;font-family:Menlo,'DejaVu Sans Mono',consolas,'Courier New',monospace\"><span style=\"font-weight: bold\">(</span><span style=\"color: #000080; font-weight: bold\">3</span>, <span style=\"color: #000080; font-weight: bold\">1</span>, <span style=\"color: #000080; font-weight: bold\">1</span>, <span style=\"color: #000080; font-weight: bold\">1</span><span style=\"font-weight: bold\">)</span>\n",
       "</pre>\n"
      ],
      "text/plain": [
       "<rich.jupyter.JupyterRenderable at 0x7fc5e68c5d60>"
      ]
     },
     "metadata": {},
     "output_type": "display_data"
    },
    {
     "data": {
      "text/html": [
       "<pre style=\"white-space:pre;overflow-x:auto;line-height:normal;font-family:Menlo,'DejaVu Sans Mono',consolas,'Courier New',monospace\"><span style=\"color: #808000\">...</span>\n",
       ".\n",
       ".\n",
       ".\n",
       "</pre>\n"
      ],
      "text/plain": [
       "<rich.jupyter.JupyterRenderable at 0x7fc5e6eb73d0>"
      ]
     },
     "metadata": {},
     "output_type": "display_data"
    },
    {
     "data": {
      "text/html": [
       "<pre style=\"white-space:pre;overflow-x:auto;line-height:normal;font-family:Menlo,'DejaVu Sans Mono',consolas,'Courier New',monospace\"><span style=\"font-weight: bold\">(</span><span style=\"color: #000080; font-weight: bold\">2</span>, <span style=\"color: #000080; font-weight: bold\">2</span>, <span style=\"color: #000080; font-weight: bold\">2</span><span style=\"font-weight: bold\">)</span>\n",
       "</pre>\n"
      ],
      "text/plain": [
       "<rich.jupyter.JupyterRenderable at 0x7fc5e6eb7310>"
      ]
     },
     "metadata": {},
     "output_type": "display_data"
    },
    {
     "data": {
      "text/html": [
       "<pre style=\"white-space:pre;overflow-x:auto;line-height:normal;font-family:Menlo,'DejaVu Sans Mono',consolas,'Courier New',monospace\">..\n",
       "..\n",
       "..\n",
       "</pre>\n"
      ],
      "text/plain": [
       "<rich.jupyter.JupyterRenderable at 0x7fc5e68c5d60>"
      ]
     },
     "metadata": {},
     "output_type": "display_data"
    },
    {
     "data": {
      "text/html": [
       "<pre style=\"white-space:pre;overflow-x:auto;line-height:normal;font-family:Menlo,'DejaVu Sans Mono',consolas,'Courier New',monospace\"><span style=\"color: #ff0000; font-style: italic\">False</span>\n",
       "</pre>\n"
      ],
      "text/plain": [
       "<rich.jupyter.JupyterRenderable at 0x7fc5e6eb7070>"
      ]
     },
     "metadata": {},
     "output_type": "display_data"
    },
    {
     "data": {
      "text/html": [
       "<pre style=\"white-space:pre;overflow-x:auto;line-height:normal;font-family:Menlo,'DejaVu Sans Mono',consolas,'Courier New',monospace\"><span style=\"color: #ff0000; font-style: italic\">False</span>\n",
       "</pre>\n"
      ],
      "text/plain": [
       "<rich.jupyter.JupyterRenderable at 0x7fc5e68c5d60>"
      ]
     },
     "metadata": {},
     "output_type": "display_data"
    },
    {
     "data": {
      "text/html": [
       "<pre style=\"white-space:pre;overflow-x:auto;line-height:normal;font-family:Menlo,'DejaVu Sans Mono',consolas,'Courier New',monospace\"><span style=\"color: #ff0000; font-style: italic\">False</span>\n",
       "</pre>\n"
      ],
      "text/plain": [
       "<rich.jupyter.JupyterRenderable at 0x7fc5e6eb7400>"
      ]
     },
     "metadata": {},
     "output_type": "display_data"
    },
    {
     "data": {
      "text/html": [
       "<pre style=\"white-space:pre;overflow-x:auto;line-height:normal;font-family:Menlo,'DejaVu Sans Mono',consolas,'Courier New',monospace\"><span style=\"color: #00ff00; font-style: italic\">True</span>\n",
       "</pre>\n"
      ],
      "text/plain": [
       "<rich.jupyter.JupyterRenderable at 0x7fc5e68c5e20>"
      ]
     },
     "metadata": {},
     "output_type": "display_data"
    }
   ],
   "source": [
    "# Collapse operations on partitions\n",
    "Dpart = BDcollapse([1,2,3])\n",
    "print(Dpart)\n",
    "print(str_part(Dpart,'.'))\n",
    "Cpart = Ccollapse([3,2,1])\n",
    "print(Cpart)\n",
    "print(str_part(Cpart,'.'))\n",
    "# Test the validity of a partition\n",
    "print(is_part_valid((3,2,1,1),'D'))\n",
    "print(is_part_valid((3,2,1,1),'C'))\n",
    "print(is_part_valid((3,2,1,1),'B'))\n",
    "print(is_part_valid((3,3,1,1,1),'B'))"
   ]
  },
  {
   "cell_type": "code",
   "execution_count": 7,
   "metadata": {},
   "outputs": [
    {
     "data": {
      "text/html": [
       "<pre style=\"white-space:pre;overflow-x:auto;line-height:normal;font-family:Menlo,'DejaVu Sans Mono',consolas,'Courier New',monospace\"><span style=\"font-weight: bold\">((</span><span style=\"color: #000080; font-weight: bold\">3</span>, <span style=\"color: #000080; font-weight: bold\">1</span>, <span style=\"color: #000080; font-weight: bold\">1</span><span style=\"font-weight: bold\">)</span>, <span style=\"font-weight: bold\">(</span><span style=\"color: #000080; font-weight: bold\">4</span>, <span style=\"color: #000080; font-weight: bold\">4</span>, <span style=\"color: #000080; font-weight: bold\">2</span>, <span style=\"color: #000080; font-weight: bold\">2</span><span style=\"font-weight: bold\">))</span>\n",
       "</pre>\n"
      ],
      "text/plain": [
       "<rich.jupyter.JupyterRenderable at 0x7fc5e6eb7100>"
      ]
     },
     "metadata": {},
     "output_type": "display_data"
    },
    {
     "data": {
      "text/latex": [
       "Type M: $\\mathcal{\\check O} = \\mathcal{\\check O}_g \\cup\\mathcal{\\check O}_b$ = (4, 2), (3, 3, 1, 1)"
      ],
      "text/plain": [
       "<IPython.core.display.Latex object>"
      ]
     },
     "metadata": {},
     "output_type": "display_data"
    },
    {
     "data": {
      "text/latex": [
       "The $\\tau_b$ is ((2, 1), (1, 0))"
      ],
      "text/plain": [
       "<IPython.core.display.Latex object>"
      ]
     },
     "metadata": {},
     "output_type": "display_data"
    },
    {
     "data": {
      "text/latex": [
       "Type D: $\\mathcal{\\check O} = \\mathcal{\\check O}_g \\cup\\mathcal{\\check O}_b$ = (3, 3, 1, 1), (4, 4, 2, 2)"
      ],
      "text/plain": [
       "<IPython.core.display.Latex object>"
      ]
     },
     "metadata": {},
     "output_type": "display_data"
    },
    {
     "data": {
      "text/latex": [
       "The $\\tau_b$ is ((2, 1), (2, 1))"
      ],
      "text/plain": [
       "<IPython.core.display.Latex object>"
      ]
     },
     "metadata": {},
     "output_type": "display_data"
    }
   ],
   "source": [
    "# Split the partition into good and bad parity parts\n",
    "print(split_part([4,4,3,2,2,1,1],'B'))\n",
    "\n",
    "gpart,bpart = split_part([4,3,3,2,1,1],'C')\n",
    "displt(f\"Type M: $\\\\mathcal{{\\\\check O}} = \\\\mathcal{{\\\\check O}}_g \\\\cup\\\\mathcal{{\\\\check O}}_b$ = {gpart}, {bpart}\")\n",
    "btau = bpart2Wrepn(bpart, 'M')\n",
    "displt(f\"The $\\\\tau_b$ is {btau}\")\n",
    "\n",
    "gpart,bpart = split_part([4,4,3,3,2,2,1,1],'D')\n",
    "displt(f\"Type D: $\\\\mathcal{{\\\\check O}} = \\\\mathcal{{\\\\check O}}_g \\\\cup\\\\mathcal{{\\\\check O}}_b$ = {gpart}, {bpart}\")\n",
    "btau = bpart2Wrepn(bpart, 'D')\n",
    "displt(f\"The $\\\\tau_b$ is {btau}\")\n"
   ]
  },
  {
   "cell_type": "code",
   "execution_count": 2,
   "metadata": {},
   "outputs": [
    {
     "data": {
      "text/latex": [
       "Let $\\mathcal O^\\vee$ has rows $[17, 11, 11, 11, 11, 11, 7, 3, 3, 1, 1]$"
      ],
      "text/plain": [
       "<IPython.core.display.Latex object>"
      ]
     },
     "metadata": {},
     "output_type": "display_data"
    },
    {
     "data": {
      "text/latex": [
       "Then $\\mathcal O$ has columns $[16, 12, 11, 11, 11, 11, 6, 4, 2, 2]$"
      ],
      "text/plain": [
       "<IPython.core.display.Latex object>"
      ]
     },
     "metadata": {},
     "output_type": "display_data"
    },
    {
     "data": {
      "text/latex": [
       "The  $\\wp = $ set()                     $\\mapsto \\tau =$ (6, 6, 6, 2, 1) $\\times$ (8, 5, 5, 3, 1)                     attached to 832 PBPS"
      ],
      "text/plain": [
       "<IPython.core.display.Latex object>"
      ]
     },
     "metadata": {},
     "output_type": "display_data"
    },
    {
     "data": {
      "text/latex": [
       "The non-special $\\wp_{\\uparrow}=$  {0} and $|PBP(\\tau_{\\wp_{\\uparrow}})| = $ 832"
      ],
      "text/plain": [
       "<IPython.core.display.Latex object>"
      ]
     },
     "metadata": {},
     "output_type": "display_data"
    },
    {
     "data": {
      "text/latex": [
       "The  $\\wp = $ {3}                     $\\mapsto \\tau =$ (6, 6, 6, 4, 1) $\\times$ (8, 5, 5, 1, 1)                     attached to 832 PBPS"
      ],
      "text/plain": [
       "<IPython.core.display.Latex object>"
      ]
     },
     "metadata": {},
     "output_type": "display_data"
    },
    {
     "data": {
      "text/latex": [
       "The non-special $\\wp_{\\uparrow}=$  {0, 3} and $|PBP(\\tau_{\\wp_{\\uparrow}})| = $ 832"
      ],
      "text/plain": [
       "<IPython.core.display.Latex object>"
      ]
     },
     "metadata": {},
     "output_type": "display_data"
    },
    {
     "data": {
      "text/latex": [
       "The  $\\wp = $ {4}                     $\\mapsto \\tau =$ (6, 6, 6, 2, 2) $\\times$ (8, 5, 5, 3)                     attached to 832 PBPS"
      ],
      "text/plain": [
       "<IPython.core.display.Latex object>"
      ]
     },
     "metadata": {},
     "output_type": "display_data"
    },
    {
     "data": {
      "text/latex": [
       "The non-special $\\wp_{\\uparrow}=$  {0, 4} and $|PBP(\\tau_{\\wp_{\\uparrow}})| = $ 832"
      ],
      "text/plain": [
       "<IPython.core.display.Latex object>"
      ]
     },
     "metadata": {},
     "output_type": "display_data"
    },
    {
     "data": {
      "text/latex": [
       "The  $\\wp = $ {3, 4}                     $\\mapsto \\tau =$ (6, 6, 6, 4, 2) $\\times$ (8, 5, 5, 1)                     attached to 832 PBPS"
      ],
      "text/plain": [
       "<IPython.core.display.Latex object>"
      ]
     },
     "metadata": {},
     "output_type": "display_data"
    },
    {
     "data": {
      "text/latex": [
       "The non-special $\\wp_{\\uparrow}=$  {0, 3, 4} and $|PBP(\\tau_{\\wp_{\\uparrow}})| = $ 832"
      ],
      "text/plain": [
       "<IPython.core.display.Latex object>"
      ]
     },
     "metadata": {},
     "output_type": "display_data"
    },
    {
     "data": {
      "text/latex": [
       "Let $\\mathcal O^\\vee$ has rows $[14, 12, 12, 8, 8, 6, 4, 4, 0]$"
      ],
      "text/plain": [
       "<IPython.core.display.Latex object>"
      ]
     },
     "metadata": {},
     "output_type": "display_data"
    },
    {
     "data": {
      "text/latex": [
       "Then $\\mathcal O$ has columns $[13, 13, 11, 9, 7, 7, 4, 4]$"
      ],
      "text/plain": [
       "<IPython.core.display.Latex object>"
      ]
     },
     "metadata": {},
     "output_type": "display_data"
    },
    {
     "data": {
      "text/latex": [
       "The  $\\wp = $ set()                     $\\mapsto \\tau =$ (7, 6, 4, 2) $\\times$ (6, 4, 3, 2)                     attached to 992 PBPS"
      ],
      "text/plain": [
       "<IPython.core.display.Latex object>"
      ]
     },
     "metadata": {},
     "output_type": "display_data"
    },
    {
     "data": {
      "text/latex": [
       "The non-special $\\wp_{\\uparrow}=$  {0} and $|PBP(\\tau_{\\wp_{\\uparrow}})| = $ 992"
      ],
      "text/plain": [
       "<IPython.core.display.Latex object>"
      ]
     },
     "metadata": {},
     "output_type": "display_data"
    },
    {
     "data": {
      "text/latex": [
       "The  $\\wp = $ {1}                     $\\mapsto \\tau =$ (7, 4, 4, 2) $\\times$ (6, 6, 3, 2)                     attached to 992 PBPS"
      ],
      "text/plain": [
       "<IPython.core.display.Latex object>"
      ]
     },
     "metadata": {},
     "output_type": "display_data"
    },
    {
     "data": {
      "text/latex": [
       "The non-special $\\wp_{\\uparrow}=$  {0, 1} and $|PBP(\\tau_{\\wp_{\\uparrow}})| = $ 992"
      ],
      "text/plain": [
       "<IPython.core.display.Latex object>"
      ]
     },
     "metadata": {},
     "output_type": "display_data"
    },
    {
     "data": {
      "text/latex": [
       "The  $\\wp = $ {2}                     $\\mapsto \\tau =$ (7, 6, 3, 2) $\\times$ (6, 4, 4, 2)                     attached to 992 PBPS"
      ],
      "text/plain": [
       "<IPython.core.display.Latex object>"
      ]
     },
     "metadata": {},
     "output_type": "display_data"
    },
    {
     "data": {
      "text/latex": [
       "The non-special $\\wp_{\\uparrow}=$  {0, 2} and $|PBP(\\tau_{\\wp_{\\uparrow}})| = $ 992"
      ],
      "text/plain": [
       "<IPython.core.display.Latex object>"
      ]
     },
     "metadata": {},
     "output_type": "display_data"
    },
    {
     "data": {
      "text/latex": [
       "The  $\\wp = $ {1, 2}                     $\\mapsto \\tau =$ (7, 4, 3, 2) $\\times$ (6, 6, 4, 2)                     attached to 992 PBPS"
      ],
      "text/plain": [
       "<IPython.core.display.Latex object>"
      ]
     },
     "metadata": {},
     "output_type": "display_data"
    },
    {
     "data": {
      "text/latex": [
       "The non-special $\\wp_{\\uparrow}=$  {0, 1, 2} and $|PBP(\\tau_{\\wp_{\\uparrow}})| = $ 992"
      ],
      "text/plain": [
       "<IPython.core.display.Latex object>"
      ]
     },
     "metadata": {},
     "output_type": "display_data"
    }
   ],
   "source": [
    "# Suppose that dpart is a good parity C/M partition, test the special-nonspecial twisting algorithm \n",
    "dO, rtype, dtype = (17,11,11,11,11,11,7,3,3,1,1),'C','B'\n",
    "test_sp2nsp_twist(dO,rtype,print=dprint)\n",
    "\n",
    "dO, rtype, dtype = (14,12,12,8,8,6,4,4,0),'M','B'\n",
    "test_sp2nsp_twist(dO,rtype,print=dprint)"
   ]
  },
  {
   "cell_type": "code",
   "execution_count": 5,
   "metadata": {},
   "outputs": [
    {
     "data": {
      "text/latex": [
       "Let $\\mathcal O^\\vee$ has rows $[5, 3, 3, 3, 1]$"
      ],
      "text/plain": [
       "<IPython.core.display.Latex object>"
      ]
     },
     "metadata": {},
     "output_type": "display_data"
    },
    {
     "data": {
      "text/latex": [
       "Then $\\mathcal O$ has columns $[4, 4, 3, 3]$"
      ],
      "text/plain": [
       "<IPython.core.display.Latex object>"
      ]
     },
     "metadata": {},
     "output_type": "display_data"
    },
    {
     "data": {
      "text/latex": [
       "The special representation (columns) $\\tau =$ (2, 2) $\\times$  (2, 1) is paired with $\\bar\\tau = $ (3, 2) $\\times$ (1, 1)  (with $\\wp_{\\bar\\tau} = \\{(1,2)\\}$)"
      ],
      "text/plain": [
       "<IPython.core.display.Latex object>"
      ]
     },
     "metadata": {},
     "output_type": "display_data"
    },
    {
     "data": {
      "text/latex": [
       "The switching between  $\\mathrm{PBP}_C(\\mathcal O^\\vee,\\emptyset)$ and $\\mathrm{PBP}_C(\\mathcal O^\\vee, \\{(1,2)\\})$ is given by:"
      ],
      "text/plain": [
       "<IPython.core.display.Latex object>"
      ]
     },
     "metadata": {},
     "output_type": "display_data"
    },
    {
     "data": {
      "text/html": [
       "<pre style=\"white-space:pre;overflow-x:auto;line-height:normal;font-family:Menlo,'DejaVu Sans Mono',consolas,'Courier New',monospace\">.c|.s <span style=\"font-weight: bold\">&lt;</span><span style=\"color: #000000\">==</span><span style=\"font-weight: bold\">&gt;</span> .c|.s\n",
       "dd|s       rd|  \n",
       "           d |  \n",
       "</pre>\n"
      ],
      "text/plain": [
       "<rich.jupyter.JupyterRenderable at 0x7f9818ceca90>"
      ]
     },
     "metadata": {},
     "output_type": "display_data"
    },
    {
     "data": {
      "text/html": [
       "<pre style=\"white-space:pre;overflow-x:auto;line-height:normal;font-family:Menlo,'DejaVu Sans Mono',consolas,'Courier New',monospace\">.r|.s <span style=\"font-weight: bold\">&lt;</span><span style=\"color: #000000\">==</span><span style=\"font-weight: bold\">&gt;</span> .r|.s\n",
       "dd|s       rd|  \n",
       "           d |  \n",
       "</pre>\n"
      ],
      "text/plain": [
       "<rich.jupyter.JupyterRenderable at 0x7f9818cec790>"
      ]
     },
     "metadata": {},
     "output_type": "display_data"
    },
    {
     "data": {
      "text/html": [
       "<pre style=\"white-space:pre;overflow-x:auto;line-height:normal;font-family:Menlo,'DejaVu Sans Mono',consolas,'Courier New',monospace\">..|.. <span style=\"font-weight: bold\">&lt;</span><span style=\"color: #000000\">==</span><span style=\"font-weight: bold\">&gt;</span> ..|..\n",
       "dd|s       rd|  \n",
       "           d |  \n",
       "</pre>\n"
      ],
      "text/plain": [
       "<rich.jupyter.JupyterRenderable at 0x7f9818cecbb0>"
      ]
     },
     "metadata": {},
     "output_type": "display_data"
    },
    {
     "data": {
      "text/html": [
       "<pre style=\"white-space:pre;overflow-x:auto;line-height:normal;font-family:Menlo,'DejaVu Sans Mono',consolas,'Courier New',monospace\">.c|.s <span style=\"font-weight: bold\">&lt;</span><span style=\"color: #000000\">==</span><span style=\"font-weight: bold\">&gt;</span> .c|.s\n",
       "cd|s       rd|  \n",
       "           c |  \n",
       "</pre>\n"
      ],
      "text/plain": [
       "<rich.jupyter.JupyterRenderable at 0x7f9818cecb20>"
      ]
     },
     "metadata": {},
     "output_type": "display_data"
    },
    {
     "data": {
      "text/html": [
       "<pre style=\"white-space:pre;overflow-x:auto;line-height:normal;font-family:Menlo,'DejaVu Sans Mono',consolas,'Courier New',monospace\">.r|.s <span style=\"font-weight: bold\">&lt;</span><span style=\"color: #000000\">==</span><span style=\"font-weight: bold\">&gt;</span> .r|.s\n",
       "cd|s       rd|  \n",
       "           c |  \n",
       "</pre>\n"
      ],
      "text/plain": [
       "<rich.jupyter.JupyterRenderable at 0x7f9818cecb80>"
      ]
     },
     "metadata": {},
     "output_type": "display_data"
    },
    {
     "data": {
      "text/html": [
       "<pre style=\"white-space:pre;overflow-x:auto;line-height:normal;font-family:Menlo,'DejaVu Sans Mono',consolas,'Courier New',monospace\">..|.. <span style=\"font-weight: bold\">&lt;</span><span style=\"color: #000000\">==</span><span style=\"font-weight: bold\">&gt;</span> ..|..\n",
       "cd|s       rd|  \n",
       "           c |  \n",
       "</pre>\n"
      ],
      "text/plain": [
       "<rich.jupyter.JupyterRenderable at 0x7f9818cec9a0>"
      ]
     },
     "metadata": {},
     "output_type": "display_data"
    },
    {
     "data": {
      "text/html": [
       "<pre style=\"white-space:pre;overflow-x:auto;line-height:normal;font-family:Menlo,'DejaVu Sans Mono',consolas,'Courier New',monospace\">.c|.s <span style=\"font-weight: bold\">&lt;</span><span style=\"color: #000000\">==</span><span style=\"font-weight: bold\">&gt;</span> .c|.s\n",
       "rd|s       rd|  \n",
       "           r |  \n",
       "</pre>\n"
      ],
      "text/plain": [
       "<rich.jupyter.JupyterRenderable at 0x7f9818cecd30>"
      ]
     },
     "metadata": {},
     "output_type": "display_data"
    },
    {
     "data": {
      "text/html": [
       "<pre style=\"white-space:pre;overflow-x:auto;line-height:normal;font-family:Menlo,'DejaVu Sans Mono',consolas,'Courier New',monospace\">.c|.s <span style=\"font-weight: bold\">&lt;</span><span style=\"color: #000000\">==</span><span style=\"font-weight: bold\">&gt;</span> .c|.s\n",
       ".d|.       cd|  \n",
       "           d |  \n",
       "</pre>\n"
      ],
      "text/plain": [
       "<rich.jupyter.JupyterRenderable at 0x7f9818cecd00>"
      ]
     },
     "metadata": {},
     "output_type": "display_data"
    },
    {
     "data": {
      "text/html": [
       "<pre style=\"white-space:pre;overflow-x:auto;line-height:normal;font-family:Menlo,'DejaVu Sans Mono',consolas,'Courier New',monospace\">.r|.s <span style=\"font-weight: bold\">&lt;</span><span style=\"color: #000000\">==</span><span style=\"font-weight: bold\">&gt;</span> .r|.s\n",
       "rd|s       rd|  \n",
       "           r |  \n",
       "</pre>\n"
      ],
      "text/plain": [
       "<rich.jupyter.JupyterRenderable at 0x7f9818ceca90>"
      ]
     },
     "metadata": {},
     "output_type": "display_data"
    },
    {
     "data": {
      "text/html": [
       "<pre style=\"white-space:pre;overflow-x:auto;line-height:normal;font-family:Menlo,'DejaVu Sans Mono',consolas,'Courier New',monospace\">.r|.s <span style=\"font-weight: bold\">&lt;</span><span style=\"color: #000000\">==</span><span style=\"font-weight: bold\">&gt;</span> .r|.s\n",
       ".d|.       cd|  \n",
       "           d |  \n",
       "</pre>\n"
      ],
      "text/plain": [
       "<rich.jupyter.JupyterRenderable at 0x7f9818cec790>"
      ]
     },
     "metadata": {},
     "output_type": "display_data"
    },
    {
     "data": {
      "text/html": [
       "<pre style=\"white-space:pre;overflow-x:auto;line-height:normal;font-family:Menlo,'DejaVu Sans Mono',consolas,'Courier New',monospace\">..|.. <span style=\"font-weight: bold\">&lt;</span><span style=\"color: #000000\">==</span><span style=\"font-weight: bold\">&gt;</span> ..|..\n",
       "rd|s       rd|  \n",
       "           r |  \n",
       "</pre>\n"
      ],
      "text/plain": [
       "<rich.jupyter.JupyterRenderable at 0x7f9818cecbb0>"
      ]
     },
     "metadata": {},
     "output_type": "display_data"
    },
    {
     "data": {
      "text/html": [
       "<pre style=\"white-space:pre;overflow-x:auto;line-height:normal;font-family:Menlo,'DejaVu Sans Mono',consolas,'Courier New',monospace\">..|.. <span style=\"font-weight: bold\">&lt;</span><span style=\"color: #000000\">==</span><span style=\"font-weight: bold\">&gt;</span> ..|..\n",
       ".d|.       cd|  \n",
       "           d |  \n",
       "</pre>\n"
      ],
      "text/plain": [
       "<rich.jupyter.JupyterRenderable at 0x7f9818cecb20>"
      ]
     },
     "metadata": {},
     "output_type": "display_data"
    },
    {
     "data": {
      "text/html": [
       "<pre style=\"white-space:pre;overflow-x:auto;line-height:normal;font-family:Menlo,'DejaVu Sans Mono',consolas,'Courier New',monospace\">.r|.s <span style=\"font-weight: bold\">&lt;</span><span style=\"color: #000000\">==</span><span style=\"font-weight: bold\">&gt;</span> .r|.s\n",
       "cc|s       rc|  \n",
       "           c |  \n",
       "</pre>\n"
      ],
      "text/plain": [
       "<rich.jupyter.JupyterRenderable at 0x7f9818cecb80>"
      ]
     },
     "metadata": {},
     "output_type": "display_data"
    },
    {
     "data": {
      "text/html": [
       "<pre style=\"white-space:pre;overflow-x:auto;line-height:normal;font-family:Menlo,'DejaVu Sans Mono',consolas,'Courier New',monospace\">..|.. <span style=\"font-weight: bold\">&lt;</span><span style=\"color: #000000\">==</span><span style=\"font-weight: bold\">&gt;</span> ..|..\n",
       "cc|s       rc|  \n",
       "           c |  \n",
       "</pre>\n"
      ],
      "text/plain": [
       "<rich.jupyter.JupyterRenderable at 0x7f9818cec9a0>"
      ]
     },
     "metadata": {},
     "output_type": "display_data"
    },
    {
     "data": {
      "text/html": [
       "<pre style=\"white-space:pre;overflow-x:auto;line-height:normal;font-family:Menlo,'DejaVu Sans Mono',consolas,'Courier New',monospace\">.r|.s <span style=\"font-weight: bold\">&lt;</span><span style=\"color: #000000\">==</span><span style=\"font-weight: bold\">&gt;</span> .r|.s\n",
       "rc|s       rc|  \n",
       "           r |  \n",
       "</pre>\n"
      ],
      "text/plain": [
       "<rich.jupyter.JupyterRenderable at 0x7f9818cecd30>"
      ]
     },
     "metadata": {},
     "output_type": "display_data"
    },
    {
     "data": {
      "text/html": [
       "<pre style=\"white-space:pre;overflow-x:auto;line-height:normal;font-family:Menlo,'DejaVu Sans Mono',consolas,'Courier New',monospace\">.r|.s <span style=\"font-weight: bold\">&lt;</span><span style=\"color: #000000\">==</span><span style=\"font-weight: bold\">&gt;</span> .r|.s\n",
       ".c|.       cc|  \n",
       "           d |  \n",
       "</pre>\n"
      ],
      "text/plain": [
       "<rich.jupyter.JupyterRenderable at 0x7f9818cecd00>"
      ]
     },
     "metadata": {},
     "output_type": "display_data"
    },
    {
     "data": {
      "text/html": [
       "<pre style=\"white-space:pre;overflow-x:auto;line-height:normal;font-family:Menlo,'DejaVu Sans Mono',consolas,'Courier New',monospace\">..|.. <span style=\"font-weight: bold\">&lt;</span><span style=\"color: #000000\">==</span><span style=\"font-weight: bold\">&gt;</span> ..|..\n",
       "rc|s       rc|  \n",
       "           r |  \n",
       "</pre>\n"
      ],
      "text/plain": [
       "<rich.jupyter.JupyterRenderable at 0x7f9818ceca90>"
      ]
     },
     "metadata": {},
     "output_type": "display_data"
    },
    {
     "data": {
      "text/html": [
       "<pre style=\"white-space:pre;overflow-x:auto;line-height:normal;font-family:Menlo,'DejaVu Sans Mono',consolas,'Courier New',monospace\">..|.. <span style=\"font-weight: bold\">&lt;</span><span style=\"color: #000000\">==</span><span style=\"font-weight: bold\">&gt;</span> ..|..\n",
       ".c|.       cc|  \n",
       "           d |  \n",
       "</pre>\n"
      ],
      "text/plain": [
       "<rich.jupyter.JupyterRenderable at 0x7f9818cec790>"
      ]
     },
     "metadata": {},
     "output_type": "display_data"
    },
    {
     "data": {
      "text/html": [
       "<pre style=\"white-space:pre;overflow-x:auto;line-height:normal;font-family:Menlo,'DejaVu Sans Mono',consolas,'Courier New',monospace\">.r|.s <span style=\"font-weight: bold\">&lt;</span><span style=\"color: #000000\">==</span><span style=\"font-weight: bold\">&gt;</span> .r|.s\n",
       ".r|.       rc|  \n",
       "           d |  \n",
       "</pre>\n"
      ],
      "text/plain": [
       "<rich.jupyter.JupyterRenderable at 0x7f9818cec730>"
      ]
     },
     "metadata": {},
     "output_type": "display_data"
    },
    {
     "data": {
      "text/html": [
       "<pre style=\"white-space:pre;overflow-x:auto;line-height:normal;font-family:Menlo,'DejaVu Sans Mono',consolas,'Courier New',monospace\">..|.. <span style=\"font-weight: bold\">&lt;</span><span style=\"color: #000000\">==</span><span style=\"font-weight: bold\">&gt;</span> ..|..\n",
       ".r|.       rc|  \n",
       "           d |  \n",
       "</pre>\n"
      ],
      "text/plain": [
       "<rich.jupyter.JupyterRenderable at 0x7f9818cecb20>"
      ]
     },
     "metadata": {},
     "output_type": "display_data"
    }
   ],
   "source": [
    "# More examples on the PBP twisting algorithm \n",
    "# Type C\n",
    "dO, rtype = (5,3,3,3,1),'C' \n",
    "display(lt(r'Let $\\mathcal O^\\vee$ has rows $%s$'%(list(dO),)))\n",
    "O = dualBVW(dO,'C',partrc='c')\n",
    "display(lt(r'Then $\\mathcal O$ has columns $%s$'%(O,)))\n",
    "Wrepns = dualpart2Wrepn(dO,rtype)\n",
    "taus = Wrepns[0]\n",
    "tauns = Wrepns[1]\n",
    "display(lt(r'The special representation (columns) $\\tau =$ %s $\\times$  %s is paired with $\\bar\\tau = $ %s $\\times$ %s  (with $\\wp_{\\bar\\tau} = \\{(1,2)\\}$)'%(taus+tauns)))\n",
    "display(lt(r'The switching between  $\\mathrm{PBP}_C(\\mathcal O^\\vee,\\emptyset)$ and $\\mathrm{PBP}_C(\\mathcal O^\\vee, \\{(1,2)\\})$ is given by:'))\n",
    "Adrcs = [drc for drc in Wrepn2drcs(taus,'C')]\n",
    "for drc in  Adrcs:\n",
    "    assert(verify_drc(drc,'C'))\n",
    "    nsdrc  = twist_C_nonspecial(drc)\n",
    "    assert(verify_drc(nsdrc,'C')) \n",
    "    res = concat_strblocks(str_dgms(drc),\"<==>\",str_dgms(nsdrc))\n",
    "    print(res)\n",
    "    "
   ]
  },
  {
   "cell_type": "code",
   "execution_count": 4,
   "metadata": {},
   "outputs": [
    {
     "data": {
      "text/latex": [
       "Let $\\mathcal O^\\vee$ has rows $[8, 4, 4, 2]$"
      ],
      "text/plain": [
       "<IPython.core.display.Latex object>"
      ]
     },
     "metadata": {},
     "output_type": "display_data"
    },
    {
     "data": {
      "text/latex": [
       "Then $\\mathcal O$ has columns $[7, 5, 3, 3]$"
      ],
      "text/plain": [
       "<IPython.core.display.Latex object>"
      ]
     },
     "metadata": {},
     "output_type": "display_data"
    },
    {
     "data": {
      "text/latex": [
       "The special representation (columns) $\\tau =$ (4, 2) $\\times$  (2, 1) is paired with $\\bar\\tau = $ (2, 2) $\\times$ (4, 1)  (with $\\wp_{\\bar\\tau} = \\{(1,2)\\}$)"
      ],
      "text/plain": [
       "<IPython.core.display.Latex object>"
      ]
     },
     "metadata": {},
     "output_type": "display_data"
    },
    {
     "data": {
      "text/latex": [
       "The switching between  $\\mathrm{PBP}_{M}(\\mathcal O^\\vee,\\emptyset)$ and $\\mathrm{PBP}_{M}(\\mathcal O^\\vee, \\{(1,2)\\})$ is given by:"
      ],
      "text/plain": [
       "<IPython.core.display.Latex object>"
      ]
     },
     "metadata": {},
     "output_type": "display_data"
    },
    {
     "data": {
      "text/html": [
       "<pre style=\"white-space:pre;overflow-x:auto;line-height:normal;font-family:Menlo,'DejaVu Sans Mono',consolas,'Courier New',monospace\">.s|.d <span style=\"font-weight: bold\">&lt;</span><span style=\"color: #000000\">==</span><span style=\"font-weight: bold\">&gt;</span> .s|.d\n",
       "sc|d       cc|r \n",
       "s |          |r \n",
       "c |          |d \n",
       "</pre>\n"
      ],
      "text/plain": [
       "<rich.jupyter.JupyterRenderable at 0x7f9819216730>"
      ]
     },
     "metadata": {},
     "output_type": "display_data"
    },
    {
     "data": {
      "text/html": [
       "<pre style=\"white-space:pre;overflow-x:auto;line-height:normal;font-family:Menlo,'DejaVu Sans Mono',consolas,'Courier New',monospace\">.s|.d <span style=\"font-weight: bold\">&lt;</span><span style=\"color: #000000\">==</span><span style=\"font-weight: bold\">&gt;</span> .s|.d\n",
       "sc|d       cc|r \n",
       "s |          |r \n",
       "s |          |r \n",
       "</pre>\n"
      ],
      "text/plain": [
       "<rich.jupyter.JupyterRenderable at 0x7f98192166a0>"
      ]
     },
     "metadata": {},
     "output_type": "display_data"
    },
    {
     "data": {
      "text/html": [
       "<pre style=\"white-space:pre;overflow-x:auto;line-height:normal;font-family:Menlo,'DejaVu Sans Mono',consolas,'Courier New',monospace\">.s|.r <span style=\"font-weight: bold\">&lt;</span><span style=\"color: #000000\">==</span><span style=\"font-weight: bold\">&gt;</span> .s|.r\n",
       "sc|d       cc|r \n",
       "s |          |r \n",
       "c |          |d \n",
       "</pre>\n"
      ],
      "text/plain": [
       "<rich.jupyter.JupyterRenderable at 0x7f9819216850>"
      ]
     },
     "metadata": {},
     "output_type": "display_data"
    },
    {
     "data": {
      "text/html": [
       "<pre style=\"white-space:pre;overflow-x:auto;line-height:normal;font-family:Menlo,'DejaVu Sans Mono',consolas,'Courier New',monospace\">..|.. <span style=\"font-weight: bold\">&lt;</span><span style=\"color: #000000\">==</span><span style=\"font-weight: bold\">&gt;</span> ..|..\n",
       "sc|d       cc|r \n",
       "s |          |r \n",
       "c |          |d \n",
       "</pre>\n"
      ],
      "text/plain": [
       "<rich.jupyter.JupyterRenderable at 0x7f9819216880>"
      ]
     },
     "metadata": {},
     "output_type": "display_data"
    },
    {
     "data": {
      "text/html": [
       "<pre style=\"white-space:pre;overflow-x:auto;line-height:normal;font-family:Menlo,'DejaVu Sans Mono',consolas,'Courier New',monospace\">.s|.r <span style=\"font-weight: bold\">&lt;</span><span style=\"color: #000000\">==</span><span style=\"font-weight: bold\">&gt;</span> .s|.r\n",
       "sc|d       cc|r \n",
       "s |          |r \n",
       "s |          |r \n",
       "</pre>\n"
      ],
      "text/plain": [
       "<rich.jupyter.JupyterRenderable at 0x7f98192169a0>"
      ]
     },
     "metadata": {},
     "output_type": "display_data"
    },
    {
     "data": {
      "text/html": [
       "<pre style=\"white-space:pre;overflow-x:auto;line-height:normal;font-family:Menlo,'DejaVu Sans Mono',consolas,'Courier New',monospace\">..|.. <span style=\"font-weight: bold\">&lt;</span><span style=\"color: #000000\">==</span><span style=\"font-weight: bold\">&gt;</span> ..|..\n",
       "sc|d       cc|r \n",
       "s |          |r \n",
       "s |          |r \n",
       "</pre>\n"
      ],
      "text/plain": [
       "<rich.jupyter.JupyterRenderable at 0x7f9819216460>"
      ]
     },
     "metadata": {},
     "output_type": "display_data"
    },
    {
     "data": {
      "text/html": [
       "<pre style=\"white-space:pre;overflow-x:auto;line-height:normal;font-family:Menlo,'DejaVu Sans Mono',consolas,'Courier New',monospace\">.s|.d <span style=\"font-weight: bold\">&lt;</span><span style=\"color: #000000\">==</span><span style=\"font-weight: bold\">&gt;</span> .s|.d\n",
       "sc|r       sc|r \n",
       "s |          |r \n",
       "c |          |d \n",
       "</pre>\n"
      ],
      "text/plain": [
       "<rich.jupyter.JupyterRenderable at 0x7f98192169a0>"
      ]
     },
     "metadata": {},
     "output_type": "display_data"
    },
    {
     "data": {
      "text/html": [
       "<pre style=\"white-space:pre;overflow-x:auto;line-height:normal;font-family:Menlo,'DejaVu Sans Mono',consolas,'Courier New',monospace\">.s|.d <span style=\"font-weight: bold\">&lt;</span><span style=\"color: #000000\">==</span><span style=\"font-weight: bold\">&gt;</span> .s|.d\n",
       ".c|.       .c|. \n",
       "s |          |r \n",
       "c |          |d \n",
       "</pre>\n"
      ],
      "text/plain": [
       "<rich.jupyter.JupyterRenderable at 0x7f9819216c10>"
      ]
     },
     "metadata": {},
     "output_type": "display_data"
    },
    {
     "data": {
      "text/html": [
       "<pre style=\"white-space:pre;overflow-x:auto;line-height:normal;font-family:Menlo,'DejaVu Sans Mono',consolas,'Courier New',monospace\">.s|.d <span style=\"font-weight: bold\">&lt;</span><span style=\"color: #000000\">==</span><span style=\"font-weight: bold\">&gt;</span> .s|.d\n",
       ".s|.       .s|. \n",
       "s |          |r \n",
       "c |          |d \n",
       "</pre>\n"
      ],
      "text/plain": [
       "<rich.jupyter.JupyterRenderable at 0x7f9819216790>"
      ]
     },
     "metadata": {},
     "output_type": "display_data"
    },
    {
     "data": {
      "text/html": [
       "<pre style=\"white-space:pre;overflow-x:auto;line-height:normal;font-family:Menlo,'DejaVu Sans Mono',consolas,'Courier New',monospace\">.s|.d <span style=\"font-weight: bold\">&lt;</span><span style=\"color: #000000\">==</span><span style=\"font-weight: bold\">&gt;</span> .s|.d\n",
       "sc|r       sc|r \n",
       "s |          |r \n",
       "s |          |r \n",
       "</pre>\n"
      ],
      "text/plain": [
       "<rich.jupyter.JupyterRenderable at 0x7f9819216c10>"
      ]
     },
     "metadata": {},
     "output_type": "display_data"
    },
    {
     "data": {
      "text/html": [
       "<pre style=\"white-space:pre;overflow-x:auto;line-height:normal;font-family:Menlo,'DejaVu Sans Mono',consolas,'Courier New',monospace\">.s|.d <span style=\"font-weight: bold\">&lt;</span><span style=\"color: #000000\">==</span><span style=\"font-weight: bold\">&gt;</span> .s|.d\n",
       ".c|.       .c|. \n",
       "s |          |r \n",
       "s |          |r \n",
       "</pre>\n"
      ],
      "text/plain": [
       "<rich.jupyter.JupyterRenderable at 0x7f9819216a00>"
      ]
     },
     "metadata": {},
     "output_type": "display_data"
    },
    {
     "data": {
      "text/html": [
       "<pre style=\"white-space:pre;overflow-x:auto;line-height:normal;font-family:Menlo,'DejaVu Sans Mono',consolas,'Courier New',monospace\">.s|.d <span style=\"font-weight: bold\">&lt;</span><span style=\"color: #000000\">==</span><span style=\"font-weight: bold\">&gt;</span> .s|.d\n",
       ".s|.       .s|. \n",
       "s |          |r \n",
       "s |          |r \n",
       "</pre>\n"
      ],
      "text/plain": [
       "<rich.jupyter.JupyterRenderable at 0x7f9819216640>"
      ]
     },
     "metadata": {},
     "output_type": "display_data"
    },
    {
     "data": {
      "text/html": [
       "<pre style=\"white-space:pre;overflow-x:auto;line-height:normal;font-family:Menlo,'DejaVu Sans Mono',consolas,'Courier New',monospace\">.s|.r <span style=\"font-weight: bold\">&lt;</span><span style=\"color: #000000\">==</span><span style=\"font-weight: bold\">&gt;</span> .s|.r\n",
       "sc|r       sc|r \n",
       "s |          |r \n",
       "c |          |d \n",
       "</pre>\n"
      ],
      "text/plain": [
       "<rich.jupyter.JupyterRenderable at 0x7f9819216880>"
      ]
     },
     "metadata": {},
     "output_type": "display_data"
    },
    {
     "data": {
      "text/html": [
       "<pre style=\"white-space:pre;overflow-x:auto;line-height:normal;font-family:Menlo,'DejaVu Sans Mono',consolas,'Courier New',monospace\">.s|.r <span style=\"font-weight: bold\">&lt;</span><span style=\"color: #000000\">==</span><span style=\"font-weight: bold\">&gt;</span> .s|.r\n",
       ".c|.       .c|. \n",
       "s |          |r \n",
       "c |          |d \n",
       "</pre>\n"
      ],
      "text/plain": [
       "<rich.jupyter.JupyterRenderable at 0x7f9819216730>"
      ]
     },
     "metadata": {},
     "output_type": "display_data"
    },
    {
     "data": {
      "text/html": [
       "<pre style=\"white-space:pre;overflow-x:auto;line-height:normal;font-family:Menlo,'DejaVu Sans Mono',consolas,'Courier New',monospace\">..|.. <span style=\"font-weight: bold\">&lt;</span><span style=\"color: #000000\">==</span><span style=\"font-weight: bold\">&gt;</span> ..|..\n",
       "sc|r       sc|r \n",
       "s |          |r \n",
       "c |          |d \n",
       "</pre>\n"
      ],
      "text/plain": [
       "<rich.jupyter.JupyterRenderable at 0x7f9819216460>"
      ]
     },
     "metadata": {},
     "output_type": "display_data"
    },
    {
     "data": {
      "text/html": [
       "<pre style=\"white-space:pre;overflow-x:auto;line-height:normal;font-family:Menlo,'DejaVu Sans Mono',consolas,'Courier New',monospace\">..|.. <span style=\"font-weight: bold\">&lt;</span><span style=\"color: #000000\">==</span><span style=\"font-weight: bold\">&gt;</span> ..|..\n",
       ".c|.       .c|. \n",
       "s |          |r \n",
       "c |          |d \n",
       "</pre>\n"
      ],
      "text/plain": [
       "<rich.jupyter.JupyterRenderable at 0x7f9819216940>"
      ]
     },
     "metadata": {},
     "output_type": "display_data"
    },
    {
     "data": {
      "text/html": [
       "<pre style=\"white-space:pre;overflow-x:auto;line-height:normal;font-family:Menlo,'DejaVu Sans Mono',consolas,'Courier New',monospace\">.s|.r <span style=\"font-weight: bold\">&lt;</span><span style=\"color: #000000\">==</span><span style=\"font-weight: bold\">&gt;</span> .s|.r\n",
       ".s|.       .s|. \n",
       "s |          |r \n",
       "c |          |d \n",
       "</pre>\n"
      ],
      "text/plain": [
       "<rich.jupyter.JupyterRenderable at 0x7f9819216760>"
      ]
     },
     "metadata": {},
     "output_type": "display_data"
    },
    {
     "data": {
      "text/html": [
       "<pre style=\"white-space:pre;overflow-x:auto;line-height:normal;font-family:Menlo,'DejaVu Sans Mono',consolas,'Courier New',monospace\">..|.. <span style=\"font-weight: bold\">&lt;</span><span style=\"color: #000000\">==</span><span style=\"font-weight: bold\">&gt;</span> ..|..\n",
       ".s|.       .s|. \n",
       "s |          |r \n",
       "c |          |d \n",
       "</pre>\n"
      ],
      "text/plain": [
       "<rich.jupyter.JupyterRenderable at 0x7f98192165e0>"
      ]
     },
     "metadata": {},
     "output_type": "display_data"
    },
    {
     "data": {
      "text/html": [
       "<pre style=\"white-space:pre;overflow-x:auto;line-height:normal;font-family:Menlo,'DejaVu Sans Mono',consolas,'Courier New',monospace\">.s|.r <span style=\"font-weight: bold\">&lt;</span><span style=\"color: #000000\">==</span><span style=\"font-weight: bold\">&gt;</span> .s|.r\n",
       "sc|r       sc|r \n",
       "s |          |r \n",
       "s |          |r \n",
       "</pre>\n"
      ],
      "text/plain": [
       "<rich.jupyter.JupyterRenderable at 0x7f9819216bb0>"
      ]
     },
     "metadata": {},
     "output_type": "display_data"
    },
    {
     "data": {
      "text/html": [
       "<pre style=\"white-space:pre;overflow-x:auto;line-height:normal;font-family:Menlo,'DejaVu Sans Mono',consolas,'Courier New',monospace\">.s|.r <span style=\"font-weight: bold\">&lt;</span><span style=\"color: #000000\">==</span><span style=\"font-weight: bold\">&gt;</span> .s|.r\n",
       ".c|.       .c|. \n",
       "s |          |r \n",
       "s |          |r \n",
       "</pre>\n"
      ],
      "text/plain": [
       "<rich.jupyter.JupyterRenderable at 0x7f9819216c10>"
      ]
     },
     "metadata": {},
     "output_type": "display_data"
    },
    {
     "data": {
      "text/html": [
       "<pre style=\"white-space:pre;overflow-x:auto;line-height:normal;font-family:Menlo,'DejaVu Sans Mono',consolas,'Courier New',monospace\">..|.. <span style=\"font-weight: bold\">&lt;</span><span style=\"color: #000000\">==</span><span style=\"font-weight: bold\">&gt;</span> ..|..\n",
       "sc|r       sc|r \n",
       "s |          |r \n",
       "s |          |r \n",
       "</pre>\n"
      ],
      "text/plain": [
       "<rich.jupyter.JupyterRenderable at 0x7f9819216cd0>"
      ]
     },
     "metadata": {},
     "output_type": "display_data"
    },
    {
     "data": {
      "text/html": [
       "<pre style=\"white-space:pre;overflow-x:auto;line-height:normal;font-family:Menlo,'DejaVu Sans Mono',consolas,'Courier New',monospace\">..|.. <span style=\"font-weight: bold\">&lt;</span><span style=\"color: #000000\">==</span><span style=\"font-weight: bold\">&gt;</span> ..|..\n",
       ".c|.       .c|. \n",
       "s |          |r \n",
       "s |          |r \n",
       "</pre>\n"
      ],
      "text/plain": [
       "<rich.jupyter.JupyterRenderable at 0x7f9819216bb0>"
      ]
     },
     "metadata": {},
     "output_type": "display_data"
    },
    {
     "data": {
      "text/html": [
       "<pre style=\"white-space:pre;overflow-x:auto;line-height:normal;font-family:Menlo,'DejaVu Sans Mono',consolas,'Courier New',monospace\">.s|.r <span style=\"font-weight: bold\">&lt;</span><span style=\"color: #000000\">==</span><span style=\"font-weight: bold\">&gt;</span> .s|.r\n",
       ".s|.       .s|. \n",
       "s |          |r \n",
       "s |          |r \n",
       "</pre>\n"
      ],
      "text/plain": [
       "<rich.jupyter.JupyterRenderable at 0x7f9819216b50>"
      ]
     },
     "metadata": {},
     "output_type": "display_data"
    },
    {
     "data": {
      "text/html": [
       "<pre style=\"white-space:pre;overflow-x:auto;line-height:normal;font-family:Menlo,'DejaVu Sans Mono',consolas,'Courier New',monospace\">..|.. <span style=\"font-weight: bold\">&lt;</span><span style=\"color: #000000\">==</span><span style=\"font-weight: bold\">&gt;</span> ..|..\n",
       ".s|.       .s|. \n",
       "s |          |r \n",
       "s |          |r \n",
       "</pre>\n"
      ],
      "text/plain": [
       "<rich.jupyter.JupyterRenderable at 0x7f9819216460>"
      ]
     },
     "metadata": {},
     "output_type": "display_data"
    }
   ],
   "source": [
    "# More examples on the PBP twisting algorithm \n",
    "# Type M\n",
    "dO, rtype = (8,4,4,2),'M' \n",
    "display(lt(r'Let $\\mathcal O^\\vee$ has rows $%s$'%(list(dO),)))\n",
    "O = dualBVW(dO,rtype,partrc='c')\n",
    "display(lt(r'Then $\\mathcal O$ has columns $%s$'%(O,)))\n",
    "Wrepns = dualpart2Wrepn(dO,rtype)\n",
    "taus = Wrepns[0]\n",
    "tauns = Wrepns[1]\n",
    "display(lt(r'The special representation (columns) $\\tau =$ %s $\\times$  %s is paired with $\\bar\\tau = $ %s $\\times$ %s  (with $\\wp_{\\bar\\tau} = \\{(1,2)\\}$)'%(taus+tauns)))\n",
    "display(lt(r'The switching between  $\\mathrm{PBP}_{M}(\\mathcal O^\\vee,\\emptyset)$ and $\\mathrm{PBP}_{M}(\\mathcal O^\\vee, \\{(1,2)\\})$ is given by:'))\n",
    "Adrcs = [drc for drc in Wrepn2drcs(taus,rtype)]\n",
    "for drc in  Adrcs:\n",
    "    assert(verify_drc(drc,rtype='M'))\n",
    "    nsdrc  = twist_M_nonspecial(drc)\n",
    "    assert(verify_drc(nsdrc,rtype='M'))\n",
    "    res = concat_strblocks(str_dgms(drc),\"<==>\",str_dgms(nsdrc))\n",
    "    print(res)"
   ]
  },
  {
   "cell_type": "code",
   "execution_count": null,
   "metadata": {},
   "outputs": [],
   "source": []
  },
  {
   "cell_type": "code",
   "execution_count": null,
   "metadata": {},
   "outputs": [],
   "source": []
  },
  {
   "cell_type": "code",
   "execution_count": null,
   "metadata": {},
   "outputs": [],
   "source": []
  }
 ],
 "metadata": {
  "kernelspec": {
   "display_name": "Python 3",
   "language": "python",
   "name": "python3"
  },
  "language_info": {
   "codemirror_mode": {
    "name": "ipython",
    "version": 3
   },
   "file_extension": ".py",
   "mimetype": "text/x-python",
   "name": "python",
   "nbconvert_exporter": "python",
   "pygments_lexer": "ipython3",
   "version": "3.8.10"
  }
 },
 "nbformat": 4,
 "nbformat_minor": 4
}
