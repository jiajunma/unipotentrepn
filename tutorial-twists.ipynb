{
 "cells": [
  {
   "cell_type": "code",
   "execution_count": 3,
   "metadata": {},
   "outputs": [
    {
     "name": "stdout",
     "output_type": "stream",
     "text": [
      "The autoreload extension is already loaded. To reload it, use:\n",
      "  %reload_ext autoreload\n"
     ]
    }
   ],
   "source": [
    "%load_ext autoreload\n",
    "%autoreload 2\n",
    "from rich import print\n",
    "from IPython.display import Markdown as md\n",
    "from IPython.display import Latex as lt\n",
    "from combunipotent import *\n",
    "dprint = lambda x: display(lt(str(x)))"
   ]
  },
  {
   "cell_type": "code",
   "execution_count": 16,
   "metadata": {},
   "outputs": [
    {
     "data": {
      "text/latex": [
       "Let $\\mathcal O^\\vee$ has rows $[11, 7, 5, 3, 3, 3, 1]$"
      ],
      "text/plain": [
       "<IPython.core.display.Latex object>"
      ]
     },
     "metadata": {},
     "output_type": "display_data"
    },
    {
     "data": {
      "text/latex": [
       "Then $\\mathcal O$ has columns $[10, 8, 4, 4, 3, 3]$"
      ],
      "text/plain": [
       "<IPython.core.display.Latex object>"
      ]
     },
     "metadata": {},
     "output_type": "display_data"
    },
    {
     "data": {
      "text/latex": [
       "The special representation (columns) $\\{\\}\\mapsto \\tau_s =$ (4, 2, 2) $\\times$ (5, 2, 1)."
      ],
      "text/plain": [
       "<IPython.core.display.Latex object>"
      ]
     },
     "metadata": {},
     "output_type": "display_data"
    },
    {
     "data": {
      "text/latex": [
       "a non-special representation {0}$\\mapsto \\tau =$ (6, 2, 2) $\\times$ (3, 2, 1)."
      ],
      "text/plain": [
       "<IPython.core.display.Latex object>"
      ]
     },
     "metadata": {},
     "output_type": "display_data"
    },
    {
     "data": {
      "text/latex": [
       "a non-special representation {1}$\\mapsto \\tau =$ (4, 3, 2) $\\times$ (5, 1, 1)."
      ],
      "text/plain": [
       "<IPython.core.display.Latex object>"
      ]
     },
     "metadata": {},
     "output_type": "display_data"
    },
    {
     "data": {
      "text/latex": [
       "a non-special representation {0, 1}$\\mapsto \\tau =$ (6, 3, 2) $\\times$ (3, 1, 1)."
      ],
      "text/plain": [
       "<IPython.core.display.Latex object>"
      ]
     },
     "metadata": {},
     "output_type": "display_data"
    },
    {
     "data": {
      "text/latex": [
       "The minimal p is 0"
      ],
      "text/plain": [
       "<IPython.core.display.Latex object>"
      ]
     },
     "metadata": {},
     "output_type": "display_data"
    },
    {
     "data": {
      "text/latex": [
       "The pbp-down list has $\\wp=$  set() size 160"
      ],
      "text/plain": [
       "<IPython.core.display.Latex object>"
      ]
     },
     "metadata": {},
     "output_type": "display_data"
    },
    {
     "data": {
      "text/latex": [
       "The pbp-up list has $\\wp'=$  {0} size 160"
      ],
      "text/plain": [
       "<IPython.core.display.Latex object>"
      ]
     },
     "metadata": {},
     "output_type": "display_data"
    },
    {
     "data": {
      "text/latex": [
       "{}"
      ],
      "text/plain": [
       "<IPython.core.display.Latex object>"
      ]
     },
     "metadata": {},
     "output_type": "display_data"
    },
    {
     "data": {
      "text/latex": [
       "{}"
      ],
      "text/plain": [
       "<IPython.core.display.Latex object>"
      ]
     },
     "metadata": {},
     "output_type": "display_data"
    },
    {
     "data": {
      "text/latex": [
       "True"
      ],
      "text/plain": [
       "<IPython.core.display.Latex object>"
      ]
     },
     "metadata": {},
     "output_type": "display_data"
    },
    {
     "data": {
      "text/latex": [
       "The minimal p is 1"
      ],
      "text/plain": [
       "<IPython.core.display.Latex object>"
      ]
     },
     "metadata": {},
     "output_type": "display_data"
    },
    {
     "data": {
      "text/latex": [
       "The pbp-down list has $\\wp=$  set() size 160"
      ],
      "text/plain": [
       "<IPython.core.display.Latex object>"
      ]
     },
     "metadata": {},
     "output_type": "display_data"
    },
    {
     "data": {
      "text/latex": [
       "The pbp-up list has $\\wp'=$  {1} size 160"
      ],
      "text/plain": [
       "<IPython.core.display.Latex object>"
      ]
     },
     "metadata": {},
     "output_type": "display_data"
    },
    {
     "data": {
      "text/latex": [
       "{}"
      ],
      "text/plain": [
       "<IPython.core.display.Latex object>"
      ]
     },
     "metadata": {},
     "output_type": "display_data"
    },
    {
     "data": {
      "text/latex": [
       "{}"
      ],
      "text/plain": [
       "<IPython.core.display.Latex object>"
      ]
     },
     "metadata": {},
     "output_type": "display_data"
    },
    {
     "data": {
      "text/latex": [
       "True"
      ],
      "text/plain": [
       "<IPython.core.display.Latex object>"
      ]
     },
     "metadata": {},
     "output_type": "display_data"
    },
    {
     "data": {
      "text/latex": [
       "The minimal p is 0"
      ],
      "text/plain": [
       "<IPython.core.display.Latex object>"
      ]
     },
     "metadata": {},
     "output_type": "display_data"
    },
    {
     "data": {
      "text/latex": [
       "The pbp-down list has $\\wp=$  {1} size 160"
      ],
      "text/plain": [
       "<IPython.core.display.Latex object>"
      ]
     },
     "metadata": {},
     "output_type": "display_data"
    },
    {
     "data": {
      "text/latex": [
       "The pbp-up list has $\\wp'=$  {0, 1} size 160"
      ],
      "text/plain": [
       "<IPython.core.display.Latex object>"
      ]
     },
     "metadata": {},
     "output_type": "display_data"
    },
    {
     "data": {
      "text/latex": [
       "{}"
      ],
      "text/plain": [
       "<IPython.core.display.Latex object>"
      ]
     },
     "metadata": {},
     "output_type": "display_data"
    },
    {
     "data": {
      "text/latex": [
       "{}"
      ],
      "text/plain": [
       "<IPython.core.display.Latex object>"
      ]
     },
     "metadata": {},
     "output_type": "display_data"
    },
    {
     "data": {
      "text/latex": [
       "True"
      ],
      "text/plain": [
       "<IPython.core.display.Latex object>"
      ]
     },
     "metadata": {},
     "output_type": "display_data"
    }
   ],
   "source": [
    "%reload_ext combunipotent\n",
    "dO, rtype = (8,6,4,4,4,4,4,4,2),'M'\n",
    "dO, rtype = (11,7,5,3,3,3,1),'C'\n",
    "#dO, rtype = (4,2,2,0),'M'\n",
    "testpbptwist(dO,rtype,print=lambda x: display(lt(str(x))))\n",
    "#testpbptwist(dO,rtype)"
   ]
  },
  {
   "cell_type": "code",
   "execution_count": 14,
   "metadata": {},
   "outputs": [
    {
     "data": {
      "text/latex": [
       "Let $\\mathcal O^\\vee$ has rows $[13, 11, 9, 7, 5, 5, 5, 5, 5, 5, 3, 3, 3, 3, 3, 1]$"
      ],
      "text/plain": [
       "<IPython.core.display.Latex object>"
      ]
     },
     "metadata": {},
     "output_type": "display_data"
    },
    {
     "data": {
      "text/latex": [
       "Then $\\mathcal O$ has columns $[14, 10, 10, 6, 6, 6, 5, 5, 4, 4, 4, 4, 3, 3, 2]$"
      ],
      "text/plain": [
       "<IPython.core.display.Latex object>"
      ]
     },
     "metadata": {},
     "output_type": "display_data"
    },
    {
     "data": {
      "text/latex": [
       "The special representation (columns) $\\{\\}\\mapsto \\tau_s =$ (6, 4, 3, 3, 3, 2, 2, 1) $\\times$ (6, 4, 2, 2, 2, 1, 1, 1)."
      ],
      "text/plain": [
       "<IPython.core.display.Latex object>"
      ]
     },
     "metadata": {},
     "output_type": "display_data"
    },
    {
     "data": {
      "text/latex": [
       "a non-special representation {0}$\\mapsto \\tau =$ (7, 4, 3, 3, 3, 2, 2, 1) $\\times$ (5, 4, 2, 2, 2, 1, 1, 1)."
      ],
      "text/plain": [
       "<IPython.core.display.Latex object>"
      ]
     },
     "metadata": {},
     "output_type": "display_data"
    },
    {
     "data": {
      "text/latex": [
       "a non-special representation {1}$\\mapsto \\tau =$ (6, 5, 3, 3, 3, 2, 2, 1) $\\times$ (6, 3, 2, 2, 2, 1, 1, 1)."
      ],
      "text/plain": [
       "<IPython.core.display.Latex object>"
      ]
     },
     "metadata": {},
     "output_type": "display_data"
    },
    {
     "data": {
      "text/latex": [
       "a non-special representation {7}$\\mapsto \\tau =$ (6, 4, 3, 3, 3, 2, 2, 2) $\\times$ (6, 4, 2, 2, 2, 1, 1)."
      ],
      "text/plain": [
       "<IPython.core.display.Latex object>"
      ]
     },
     "metadata": {},
     "output_type": "display_data"
    },
    {
     "data": {
      "text/latex": [
       "a non-special representation {0, 1}$\\mapsto \\tau =$ (7, 5, 3, 3, 3, 2, 2, 1) $\\times$ (5, 3, 2, 2, 2, 1, 1, 1)."
      ],
      "text/plain": [
       "<IPython.core.display.Latex object>"
      ]
     },
     "metadata": {},
     "output_type": "display_data"
    },
    {
     "data": {
      "text/latex": [
       "a non-special representation {0, 7}$\\mapsto \\tau =$ (7, 4, 3, 3, 3, 2, 2, 2) $\\times$ (5, 4, 2, 2, 2, 1, 1)."
      ],
      "text/plain": [
       "<IPython.core.display.Latex object>"
      ]
     },
     "metadata": {},
     "output_type": "display_data"
    },
    {
     "data": {
      "text/latex": [
       "a non-special representation {1, 7}$\\mapsto \\tau =$ (6, 5, 3, 3, 3, 2, 2, 2) $\\times$ (6, 3, 2, 2, 2, 1, 1)."
      ],
      "text/plain": [
       "<IPython.core.display.Latex object>"
      ]
     },
     "metadata": {},
     "output_type": "display_data"
    },
    {
     "data": {
      "text/latex": [
       "a non-special representation {0, 1, 7}$\\mapsto \\tau =$ (7, 5, 3, 3, 3, 2, 2, 2) $\\times$ (5, 3, 2, 2, 2, 1, 1)."
      ],
      "text/plain": [
       "<IPython.core.display.Latex object>"
      ]
     },
     "metadata": {},
     "output_type": "display_data"
    },
    {
     "data": {
      "text/latex": [
       "The minimal p is 0"
      ],
      "text/plain": [
       "<IPython.core.display.Latex object>"
      ]
     },
     "metadata": {},
     "output_type": "display_data"
    },
    {
     "data": {
      "text/latex": [
       "The pbp-down list has $\\wp=$  set() size 14336"
      ],
      "text/plain": [
       "<IPython.core.display.Latex object>"
      ]
     },
     "metadata": {},
     "output_type": "display_data"
    },
    {
     "data": {
      "text/latex": [
       "The pbp-up list has $\\wp'=$  {0} size 14336"
      ],
      "text/plain": [
       "<IPython.core.display.Latex object>"
      ]
     },
     "metadata": {},
     "output_type": "display_data"
    },
    {
     "data": {
      "text/latex": [
       "{}"
      ],
      "text/plain": [
       "<IPython.core.display.Latex object>"
      ]
     },
     "metadata": {},
     "output_type": "display_data"
    },
    {
     "data": {
      "text/latex": [
       "{}"
      ],
      "text/plain": [
       "<IPython.core.display.Latex object>"
      ]
     },
     "metadata": {},
     "output_type": "display_data"
    },
    {
     "data": {
      "text/latex": [
       "True"
      ],
      "text/plain": [
       "<IPython.core.display.Latex object>"
      ]
     },
     "metadata": {},
     "output_type": "display_data"
    },
    {
     "data": {
      "text/latex": [
       "The minimal p is 1"
      ],
      "text/plain": [
       "<IPython.core.display.Latex object>"
      ]
     },
     "metadata": {},
     "output_type": "display_data"
    },
    {
     "data": {
      "text/latex": [
       "The pbp-down list has $\\wp=$  set() size 14336"
      ],
      "text/plain": [
       "<IPython.core.display.Latex object>"
      ]
     },
     "metadata": {},
     "output_type": "display_data"
    },
    {
     "data": {
      "text/latex": [
       "The pbp-up list has $\\wp'=$  {1} size 14336"
      ],
      "text/plain": [
       "<IPython.core.display.Latex object>"
      ]
     },
     "metadata": {},
     "output_type": "display_data"
    },
    {
     "data": {
      "text/latex": [
       "{}"
      ],
      "text/plain": [
       "<IPython.core.display.Latex object>"
      ]
     },
     "metadata": {},
     "output_type": "display_data"
    },
    {
     "data": {
      "text/latex": [
       "{}"
      ],
      "text/plain": [
       "<IPython.core.display.Latex object>"
      ]
     },
     "metadata": {},
     "output_type": "display_data"
    },
    {
     "data": {
      "text/latex": [
       "True"
      ],
      "text/plain": [
       "<IPython.core.display.Latex object>"
      ]
     },
     "metadata": {},
     "output_type": "display_data"
    },
    {
     "data": {
      "text/latex": [
       "The minimal p is 7"
      ],
      "text/plain": [
       "<IPython.core.display.Latex object>"
      ]
     },
     "metadata": {},
     "output_type": "display_data"
    },
    {
     "data": {
      "text/latex": [
       "The pbp-down list has $\\wp=$  set() size 14336"
      ],
      "text/plain": [
       "<IPython.core.display.Latex object>"
      ]
     },
     "metadata": {},
     "output_type": "display_data"
    },
    {
     "data": {
      "text/latex": [
       "The pbp-up list has $\\wp'=$  {7} size 14336"
      ],
      "text/plain": [
       "<IPython.core.display.Latex object>"
      ]
     },
     "metadata": {},
     "output_type": "display_data"
    },
    {
     "data": {
      "text/latex": [
       "{}"
      ],
      "text/plain": [
       "<IPython.core.display.Latex object>"
      ]
     },
     "metadata": {},
     "output_type": "display_data"
    },
    {
     "data": {
      "text/latex": [
       "{}"
      ],
      "text/plain": [
       "<IPython.core.display.Latex object>"
      ]
     },
     "metadata": {},
     "output_type": "display_data"
    },
    {
     "data": {
      "text/latex": [
       "True"
      ],
      "text/plain": [
       "<IPython.core.display.Latex object>"
      ]
     },
     "metadata": {},
     "output_type": "display_data"
    },
    {
     "data": {
      "text/latex": [
       "The minimal p is 0"
      ],
      "text/plain": [
       "<IPython.core.display.Latex object>"
      ]
     },
     "metadata": {},
     "output_type": "display_data"
    },
    {
     "data": {
      "text/latex": [
       "The pbp-down list has $\\wp=$  {1} size 14336"
      ],
      "text/plain": [
       "<IPython.core.display.Latex object>"
      ]
     },
     "metadata": {},
     "output_type": "display_data"
    },
    {
     "data": {
      "text/latex": [
       "The pbp-up list has $\\wp'=$  {0, 1} size 14336"
      ],
      "text/plain": [
       "<IPython.core.display.Latex object>"
      ]
     },
     "metadata": {},
     "output_type": "display_data"
    },
    {
     "data": {
      "text/latex": [
       "{}"
      ],
      "text/plain": [
       "<IPython.core.display.Latex object>"
      ]
     },
     "metadata": {},
     "output_type": "display_data"
    },
    {
     "data": {
      "text/latex": [
       "{}"
      ],
      "text/plain": [
       "<IPython.core.display.Latex object>"
      ]
     },
     "metadata": {},
     "output_type": "display_data"
    },
    {
     "data": {
      "text/latex": [
       "True"
      ],
      "text/plain": [
       "<IPython.core.display.Latex object>"
      ]
     },
     "metadata": {},
     "output_type": "display_data"
    },
    {
     "data": {
      "text/latex": [
       "The minimal p is 0"
      ],
      "text/plain": [
       "<IPython.core.display.Latex object>"
      ]
     },
     "metadata": {},
     "output_type": "display_data"
    },
    {
     "data": {
      "text/latex": [
       "The pbp-down list has $\\wp=$  {7} size 14336"
      ],
      "text/plain": [
       "<IPython.core.display.Latex object>"
      ]
     },
     "metadata": {},
     "output_type": "display_data"
    },
    {
     "data": {
      "text/latex": [
       "The pbp-up list has $\\wp'=$  {0, 7} size 14336"
      ],
      "text/plain": [
       "<IPython.core.display.Latex object>"
      ]
     },
     "metadata": {},
     "output_type": "display_data"
    },
    {
     "data": {
      "text/latex": [
       "{}"
      ],
      "text/plain": [
       "<IPython.core.display.Latex object>"
      ]
     },
     "metadata": {},
     "output_type": "display_data"
    },
    {
     "data": {
      "text/latex": [
       "{}"
      ],
      "text/plain": [
       "<IPython.core.display.Latex object>"
      ]
     },
     "metadata": {},
     "output_type": "display_data"
    },
    {
     "data": {
      "text/latex": [
       "True"
      ],
      "text/plain": [
       "<IPython.core.display.Latex object>"
      ]
     },
     "metadata": {},
     "output_type": "display_data"
    },
    {
     "data": {
      "text/latex": [
       "The minimal p is 1"
      ],
      "text/plain": [
       "<IPython.core.display.Latex object>"
      ]
     },
     "metadata": {},
     "output_type": "display_data"
    },
    {
     "data": {
      "text/latex": [
       "The pbp-down list has $\\wp=$  {7} size 14336"
      ],
      "text/plain": [
       "<IPython.core.display.Latex object>"
      ]
     },
     "metadata": {},
     "output_type": "display_data"
    },
    {
     "data": {
      "text/latex": [
       "The pbp-up list has $\\wp'=$  {1, 7} size 14336"
      ],
      "text/plain": [
       "<IPython.core.display.Latex object>"
      ]
     },
     "metadata": {},
     "output_type": "display_data"
    },
    {
     "data": {
      "text/latex": [
       "{}"
      ],
      "text/plain": [
       "<IPython.core.display.Latex object>"
      ]
     },
     "metadata": {},
     "output_type": "display_data"
    },
    {
     "data": {
      "text/latex": [
       "{}"
      ],
      "text/plain": [
       "<IPython.core.display.Latex object>"
      ]
     },
     "metadata": {},
     "output_type": "display_data"
    },
    {
     "data": {
      "text/latex": [
       "True"
      ],
      "text/plain": [
       "<IPython.core.display.Latex object>"
      ]
     },
     "metadata": {},
     "output_type": "display_data"
    },
    {
     "data": {
      "text/latex": [
       "The minimal p is 0"
      ],
      "text/plain": [
       "<IPython.core.display.Latex object>"
      ]
     },
     "metadata": {},
     "output_type": "display_data"
    },
    {
     "data": {
      "text/latex": [
       "The pbp-down list has $\\wp=$  {1, 7} size 14336"
      ],
      "text/plain": [
       "<IPython.core.display.Latex object>"
      ]
     },
     "metadata": {},
     "output_type": "display_data"
    },
    {
     "data": {
      "text/latex": [
       "The pbp-up list has $\\wp'=$  {0, 1, 7} size 14336"
      ],
      "text/plain": [
       "<IPython.core.display.Latex object>"
      ]
     },
     "metadata": {},
     "output_type": "display_data"
    },
    {
     "data": {
      "text/latex": [
       "{}"
      ],
      "text/plain": [
       "<IPython.core.display.Latex object>"
      ]
     },
     "metadata": {},
     "output_type": "display_data"
    },
    {
     "data": {
      "text/latex": [
       "{}"
      ],
      "text/plain": [
       "<IPython.core.display.Latex object>"
      ]
     },
     "metadata": {},
     "output_type": "display_data"
    },
    {
     "data": {
      "text/latex": [
       "True"
      ],
      "text/plain": [
       "<IPython.core.display.Latex object>"
      ]
     },
     "metadata": {},
     "output_type": "display_data"
    }
   ],
   "source": [
    "%reload_ext combunipotent\n",
    "dO, rtype = (13,11,9,7,5,5,5,5,5,5,3,3,3,3,3,1),'C'\n",
    "#dO, rtype = (4,2,2,0),'M'\n",
    "testpbptwist(dO,rtype,print=lambda x: display(lt(str(x))))\n",
    "#testpbptwist(dO,rtype,report=False)\n"
   ]
  },
  {
   "cell_type": "code",
   "execution_count": 8,
   "metadata": {},
   "outputs": [
    {
     "data": {
      "text/latex": [
       "Let $\\mathcal O^\\vee$ has rows $[18, 14, 8, 8, 8, 8, 6, 4, 4, 4, 4, 0]$"
      ],
      "text/plain": [
       "<IPython.core.display.Latex object>"
      ]
     },
     "metadata": {},
     "output_type": "display_data"
    },
    {
     "data": {
      "text/latex": [
       "Then $\\mathcal O$ has columns $[17, 15, 8, 8, 8, 8, 5, 5, 4, 4, 3, 1]$"
      ],
      "text/plain": [
       "<IPython.core.display.Latex object>"
      ]
     },
     "metadata": {},
     "output_type": "display_data"
    },
    {
     "data": {
      "text/latex": [
       "The special representation (columns) $\\{\\}\\mapsto \\tau_s =$ (9, 4, 4, 3, 2, 2) $\\times$ (7, 4, 4, 2, 2)."
      ],
      "text/plain": [
       "<IPython.core.display.Latex object>"
      ]
     },
     "metadata": {},
     "output_type": "display_data"
    },
    {
     "data": {
      "text/latex": [
       "a non-special representation $\\wp=${0}$\\mapsto \\tau =$ (7, 4, 4, 3, 2, 2) $\\times$ (9, 4, 4, 2, 2)."
      ],
      "text/plain": [
       "<IPython.core.display.Latex object>"
      ]
     },
     "metadata": {},
     "output_type": "display_data"
    },
    {
     "data": {
      "text/latex": [
       "a non-special representation $\\wp=${3}$\\mapsto \\tau =$ (9, 4, 4, 2, 2, 2) $\\times$ (7, 4, 4, 3, 2)."
      ],
      "text/plain": [
       "<IPython.core.display.Latex object>"
      ]
     },
     "metadata": {},
     "output_type": "display_data"
    },
    {
     "data": {
      "text/latex": [
       "a non-special representation $\\wp=${5}$\\mapsto \\tau =$ (9, 4, 4, 3, 2) $\\times$ (7, 4, 4, 2, 2, 2)."
      ],
      "text/plain": [
       "<IPython.core.display.Latex object>"
      ]
     },
     "metadata": {},
     "output_type": "display_data"
    },
    {
     "data": {
      "text/latex": [
       "a non-special representation $\\wp=${0, 3}$\\mapsto \\tau =$ (7, 4, 4, 2, 2, 2) $\\times$ (9, 4, 4, 3, 2)."
      ],
      "text/plain": [
       "<IPython.core.display.Latex object>"
      ]
     },
     "metadata": {},
     "output_type": "display_data"
    },
    {
     "data": {
      "text/latex": [
       "a non-special representation $\\wp=${0, 5}$\\mapsto \\tau =$ (7, 4, 4, 3, 2) $\\times$ (9, 4, 4, 2, 2, 2)."
      ],
      "text/plain": [
       "<IPython.core.display.Latex object>"
      ]
     },
     "metadata": {},
     "output_type": "display_data"
    },
    {
     "data": {
      "text/latex": [
       "a non-special representation $\\wp=${3, 5}$\\mapsto \\tau =$ (9, 4, 4, 2, 2) $\\times$ (7, 4, 4, 3, 2, 2)."
      ],
      "text/plain": [
       "<IPython.core.display.Latex object>"
      ]
     },
     "metadata": {},
     "output_type": "display_data"
    },
    {
     "data": {
      "text/latex": [
       "a non-special representation $\\wp=${0, 3, 5}$\\mapsto \\tau =$ (7, 4, 4, 2, 2) $\\times$ (9, 4, 4, 3, 2, 2)."
      ],
      "text/plain": [
       "<IPython.core.display.Latex object>"
      ]
     },
     "metadata": {},
     "output_type": "display_data"
    },
    {
     "data": {
      "text/latex": [
       "The  $\\wp = $ set()                $\\mapsto \\tau =$ (7, 4, 4, 2, 2) $\\times$ (9, 4, 4, 3, 2, 2)                attached to 3008 PBPS"
      ],
      "text/plain": [
       "<IPython.core.display.Latex object>"
      ]
     },
     "metadata": {},
     "output_type": "display_data"
    },
    {
     "data": {
      "text/latex": [
       "The non-special $\\wp_{\\uparrow}=$  {0} and $|PBP(\\tau_{\\wp_{\\uparrow}})| = $ 3008"
      ],
      "text/plain": [
       "<IPython.core.display.Latex object>"
      ]
     },
     "metadata": {},
     "output_type": "display_data"
    },
    {
     "data": {
      "text/html": [
       "<pre style=\"white-space:pre;overflow-x:auto;line-height:normal;font-family:Menlo,'DejaVu Sans Mono',consolas,'Courier New',monospace\"><span style=\"color: #00ff00; font-style: italic\">True</span>\n",
       "</pre>\n"
      ],
      "text/plain": [
       "<rich.jupyter.JupyterRenderable at 0x7f27eaffb040>"
      ]
     },
     "metadata": {},
     "output_type": "display_data"
    },
    {
     "data": {
      "text/latex": [
       "The  $\\wp = $ {0}                $\\mapsto \\tau =$ (7, 4, 4, 2, 2) $\\times$ (9, 4, 4, 3, 2, 2)                attached to 3008 PBPS"
      ],
      "text/plain": [
       "<IPython.core.display.Latex object>"
      ]
     },
     "metadata": {},
     "output_type": "display_data"
    },
    {
     "data": {
      "text/latex": [
       "The  $\\wp = $ {3}                $\\mapsto \\tau =$ (7, 4, 4, 2, 2) $\\times$ (9, 4, 4, 3, 2, 2)                attached to 3008 PBPS"
      ],
      "text/plain": [
       "<IPython.core.display.Latex object>"
      ]
     },
     "metadata": {},
     "output_type": "display_data"
    },
    {
     "data": {
      "text/latex": [
       "The non-special $\\wp_{\\uparrow}=$  {0, 3} and $|PBP(\\tau_{\\wp_{\\uparrow}})| = $ 3008"
      ],
      "text/plain": [
       "<IPython.core.display.Latex object>"
      ]
     },
     "metadata": {},
     "output_type": "display_data"
    },
    {
     "data": {
      "text/html": [
       "<pre style=\"white-space:pre;overflow-x:auto;line-height:normal;font-family:Menlo,'DejaVu Sans Mono',consolas,'Courier New',monospace\"><span style=\"color: #00ff00; font-style: italic\">True</span>\n",
       "</pre>\n"
      ],
      "text/plain": [
       "<rich.jupyter.JupyterRenderable at 0x7f26c4df2880>"
      ]
     },
     "metadata": {},
     "output_type": "display_data"
    },
    {
     "data": {
      "text/latex": [
       "The  $\\wp = $ {5}                $\\mapsto \\tau =$ (7, 4, 4, 2, 2) $\\times$ (9, 4, 4, 3, 2, 2)                attached to 3008 PBPS"
      ],
      "text/plain": [
       "<IPython.core.display.Latex object>"
      ]
     },
     "metadata": {},
     "output_type": "display_data"
    },
    {
     "data": {
      "text/latex": [
       "The non-special $\\wp_{\\uparrow}=$  {0, 5} and $|PBP(\\tau_{\\wp_{\\uparrow}})| = $ 3008"
      ],
      "text/plain": [
       "<IPython.core.display.Latex object>"
      ]
     },
     "metadata": {},
     "output_type": "display_data"
    },
    {
     "data": {
      "text/html": [
       "<pre style=\"white-space:pre;overflow-x:auto;line-height:normal;font-family:Menlo,'DejaVu Sans Mono',consolas,'Courier New',monospace\"><span style=\"color: #00ff00; font-style: italic\">True</span>\n",
       "</pre>\n"
      ],
      "text/plain": [
       "<rich.jupyter.JupyterRenderable at 0x7f27eaffb040>"
      ]
     },
     "metadata": {},
     "output_type": "display_data"
    },
    {
     "data": {
      "text/latex": [
       "The  $\\wp = $ {0, 3}                $\\mapsto \\tau =$ (7, 4, 4, 2, 2) $\\times$ (9, 4, 4, 3, 2, 2)                attached to 3008 PBPS"
      ],
      "text/plain": [
       "<IPython.core.display.Latex object>"
      ]
     },
     "metadata": {},
     "output_type": "display_data"
    },
    {
     "data": {
      "text/latex": [
       "The  $\\wp = $ {0, 5}                $\\mapsto \\tau =$ (7, 4, 4, 2, 2) $\\times$ (9, 4, 4, 3, 2, 2)                attached to 3008 PBPS"
      ],
      "text/plain": [
       "<IPython.core.display.Latex object>"
      ]
     },
     "metadata": {},
     "output_type": "display_data"
    },
    {
     "data": {
      "text/latex": [
       "The  $\\wp = $ {3, 5}                $\\mapsto \\tau =$ (7, 4, 4, 2, 2) $\\times$ (9, 4, 4, 3, 2, 2)                attached to 3008 PBPS"
      ],
      "text/plain": [
       "<IPython.core.display.Latex object>"
      ]
     },
     "metadata": {},
     "output_type": "display_data"
    },
    {
     "data": {
      "text/latex": [
       "The non-special $\\wp_{\\uparrow}=$  {0, 3, 5} and $|PBP(\\tau_{\\wp_{\\uparrow}})| = $ 3008"
      ],
      "text/plain": [
       "<IPython.core.display.Latex object>"
      ]
     },
     "metadata": {},
     "output_type": "display_data"
    },
    {
     "data": {
      "text/html": [
       "<pre style=\"white-space:pre;overflow-x:auto;line-height:normal;font-family:Menlo,'DejaVu Sans Mono',consolas,'Courier New',monospace\"><span style=\"color: #00ff00; font-style: italic\">True</span>\n",
       "</pre>\n"
      ],
      "text/plain": [
       "<rich.jupyter.JupyterRenderable at 0x7f27eaffb040>"
      ]
     },
     "metadata": {},
     "output_type": "display_data"
    },
    {
     "data": {
      "text/latex": [
       "The  $\\wp = $ {0, 3, 5}                $\\mapsto \\tau =$ (7, 4, 4, 2, 2) $\\times$ (9, 4, 4, 3, 2, 2)                attached to 3008 PBPS"
      ],
      "text/plain": [
       "<IPython.core.display.Latex object>"
      ]
     },
     "metadata": {},
     "output_type": "display_data"
    }
   ],
   "source": [
    "%reload_ext combunipotent\n",
    "dO, rtype, dtype = (18,14,8,8,8,8,6,4,4,4,4,0),'M','B'\n",
    "#dO, rtype = (4,2,2,0),'M'\n",
    "display(lt(r'Let $\\mathcal O^\\vee$ has rows $%s$'%(list(dO),)))\n",
    "O = dualBVW(dO,rtype,partrc='c')\n",
    "display(lt(r'Then $\\mathcal O$ has columns $%s$'%(O,)))\n",
    "WLC = dualpart2LC(dO,rtype)\n",
    "\n",
    "for pp, tau in WLC.items():\n",
    "    if len(pp)==0:\n",
    "        display(lt(f\"The special representation (columns) $\\\\{{\\\\}}\\\\mapsto \\\\tau_s =$ {tau[0]} $\\\\times$ {tau[1]}.\"))\n",
    "    else:\n",
    "        display(lt(f\"a non-special representation $\\\\wp=${set(pp)}$\\\\mapsto \\\\tau =$ {tau[0]} $\\\\times$ {tau[1]}.\"))\n",
    "\n",
    "PBPlist = LC2pbps(WLC,rtype)\n",
    "\n",
    "for pp, pbps in PBPlist.items():\n",
    "    display(lt(f\"The  $\\\\wp = $ {set(pp)} \\\n",
    "               $\\\\mapsto \\\\tau =$ {tau[0]} $\\\\times$ {tau[1]} \\\n",
    "               attached to {len(pbps)} PBPS\"))\n",
    "    if 0 not in pp:\n",
    "        # tau_pp is special shape in this case\n",
    "        pbpns = set(twist_sp2nsp(pbp,rtype) for pbp in pbps)\n",
    "        PPup = frozenset(pp|set([0]))\n",
    "        display(lt(f\"The non-special $\\\\wp_{{\\\\uparrow}}=$  {set(PPup)} and $|PBP(\\\\tau_{{\\\\wp_{{\\\\uparrow}}}})| = $ {len(pbpns)}\"))\n",
    "        #print(PBPlist[PPd])\n",
    "        #print(pbpdowns)\n",
    "        #print(frozenset(PBPlist[PPd])-frozenset(pbpdowns))\n",
    "        #print(frozenset(pbpdowns)-frozenset(PBPlist[PPd]))\n",
    "        #printpbplist(pbpdowns)\n",
    "        print(frozenset(PBPlist[PPup])==frozenset(pbpns))"
   ]
  },
  {
   "cell_type": "code",
   "execution_count": 18,
   "metadata": {},
   "outputs": [
    {
     "data": {
      "text/latex": [
       "Let $\\mathcal O^\\vee$ has rows $[14, 12, 12, 8, 8, 6, 4, 4, 0]$"
      ],
      "text/plain": [
       "<IPython.core.display.Latex object>"
      ]
     },
     "metadata": {},
     "output_type": "display_data"
    },
    {
     "data": {
      "text/latex": [
       "Then $\\mathcal O$ has columns $[13, 13, 11, 9, 7, 7, 4, 4]$"
      ],
      "text/plain": [
       "<IPython.core.display.Latex object>"
      ]
     },
     "metadata": {},
     "output_type": "display_data"
    },
    {
     "data": {
      "text/latex": [
       "The  $\\wp = $ set()                     $\\mapsto \\tau =$ (7, 6, 4, 2) $\\times$ (6, 4, 3, 2)                     attached to 992 PBPS"
      ],
      "text/plain": [
       "<IPython.core.display.Latex object>"
      ]
     },
     "metadata": {},
     "output_type": "display_data"
    },
    {
     "data": {
      "text/latex": [
       "The non-special $\\wp_{\\uparrow}=$  {0} and $|PBP(\\tau_{\\wp_{\\uparrow}})| = $ 992"
      ],
      "text/plain": [
       "<IPython.core.display.Latex object>"
      ]
     },
     "metadata": {},
     "output_type": "display_data"
    },
    {
     "data": {
      "text/latex": [
       "The  $\\wp = $ {1}                     $\\mapsto \\tau =$ (7, 4, 4, 2) $\\times$ (6, 6, 3, 2)                     attached to 992 PBPS"
      ],
      "text/plain": [
       "<IPython.core.display.Latex object>"
      ]
     },
     "metadata": {},
     "output_type": "display_data"
    },
    {
     "data": {
      "text/latex": [
       "The non-special $\\wp_{\\uparrow}=$  {0, 1} and $|PBP(\\tau_{\\wp_{\\uparrow}})| = $ 992"
      ],
      "text/plain": [
       "<IPython.core.display.Latex object>"
      ]
     },
     "metadata": {},
     "output_type": "display_data"
    },
    {
     "data": {
      "text/latex": [
       "The  $\\wp = $ {2}                     $\\mapsto \\tau =$ (7, 6, 3, 2) $\\times$ (6, 4, 4, 2)                     attached to 992 PBPS"
      ],
      "text/plain": [
       "<IPython.core.display.Latex object>"
      ]
     },
     "metadata": {},
     "output_type": "display_data"
    },
    {
     "data": {
      "text/latex": [
       "The non-special $\\wp_{\\uparrow}=$  {0, 2} and $|PBP(\\tau_{\\wp_{\\uparrow}})| = $ 992"
      ],
      "text/plain": [
       "<IPython.core.display.Latex object>"
      ]
     },
     "metadata": {},
     "output_type": "display_data"
    },
    {
     "data": {
      "text/latex": [
       "The  $\\wp = $ {1, 2}                     $\\mapsto \\tau =$ (7, 4, 3, 2) $\\times$ (6, 6, 4, 2)                     attached to 992 PBPS"
      ],
      "text/plain": [
       "<IPython.core.display.Latex object>"
      ]
     },
     "metadata": {},
     "output_type": "display_data"
    },
    {
     "data": {
      "text/latex": [
       "The non-special $\\wp_{\\uparrow}=$  {0, 1, 2} and $|PBP(\\tau_{\\wp_{\\uparrow}})| = $ 992"
      ],
      "text/plain": [
       "<IPython.core.display.Latex object>"
      ]
     },
     "metadata": {},
     "output_type": "display_data"
    }
   ],
   "source": [
    "%reload_ext combunipotent\n",
    "dO, rtype, dtype = (14,12,12,8,8,6,4,4,0),'M','B'\n",
    "\n",
    "test_sp2nsp_twist(dO,rtype,print=dprint)"
   ]
  },
  {
   "cell_type": "code",
   "execution_count": 27,
   "metadata": {},
   "outputs": [
    {
     "data": {
      "text/latex": [
       "Let $\\mathcal O^\\vee$ has rows $[17, 11, 11, 11, 11, 11, 7, 3, 3, 1, 1]$"
      ],
      "text/plain": [
       "<IPython.core.display.Latex object>"
      ]
     },
     "metadata": {},
     "output_type": "display_data"
    },
    {
     "data": {
      "text/latex": [
       "Then $\\mathcal O$ has columns $[16, 12, 11, 11, 11, 11, 6, 4, 2, 2]$"
      ],
      "text/plain": [
       "<IPython.core.display.Latex object>"
      ]
     },
     "metadata": {},
     "output_type": "display_data"
    },
    {
     "data": {
      "text/latex": [
       "The  $\\wp = $ set()                     $\\mapsto \\tau =$ (6, 6, 6, 2, 1) $\\times$ (8, 5, 5, 3, 1)                     attached to 832 PBPS"
      ],
      "text/plain": [
       "<IPython.core.display.Latex object>"
      ]
     },
     "metadata": {},
     "output_type": "display_data"
    },
    {
     "data": {
      "text/latex": [
       "The non-special $\\wp_{\\uparrow}=$  {0} and $|PBP(\\tau_{\\wp_{\\uparrow}})| = $ 832"
      ],
      "text/plain": [
       "<IPython.core.display.Latex object>"
      ]
     },
     "metadata": {},
     "output_type": "display_data"
    },
    {
     "data": {
      "text/latex": [
       "The  $\\wp = $ {3}                     $\\mapsto \\tau =$ (6, 6, 6, 4, 1) $\\times$ (8, 5, 5, 1, 1)                     attached to 832 PBPS"
      ],
      "text/plain": [
       "<IPython.core.display.Latex object>"
      ]
     },
     "metadata": {},
     "output_type": "display_data"
    },
    {
     "data": {
      "text/latex": [
       "The non-special $\\wp_{\\uparrow}=$  {0, 3} and $|PBP(\\tau_{\\wp_{\\uparrow}})| = $ 832"
      ],
      "text/plain": [
       "<IPython.core.display.Latex object>"
      ]
     },
     "metadata": {},
     "output_type": "display_data"
    },
    {
     "data": {
      "text/latex": [
       "The  $\\wp = $ {4}                     $\\mapsto \\tau =$ (6, 6, 6, 2, 2) $\\times$ (8, 5, 5, 3)                     attached to 832 PBPS"
      ],
      "text/plain": [
       "<IPython.core.display.Latex object>"
      ]
     },
     "metadata": {},
     "output_type": "display_data"
    },
    {
     "data": {
      "text/latex": [
       "The non-special $\\wp_{\\uparrow}=$  {0, 4} and $|PBP(\\tau_{\\wp_{\\uparrow}})| = $ 832"
      ],
      "text/plain": [
       "<IPython.core.display.Latex object>"
      ]
     },
     "metadata": {},
     "output_type": "display_data"
    },
    {
     "data": {
      "text/latex": [
       "The  $\\wp = $ {3, 4}                     $\\mapsto \\tau =$ (6, 6, 6, 4, 2) $\\times$ (8, 5, 5, 1)                     attached to 832 PBPS"
      ],
      "text/plain": [
       "<IPython.core.display.Latex object>"
      ]
     },
     "metadata": {},
     "output_type": "display_data"
    },
    {
     "data": {
      "text/latex": [
       "The non-special $\\wp_{\\uparrow}=$  {0, 3, 4} and $|PBP(\\tau_{\\wp_{\\uparrow}})| = $ 832"
      ],
      "text/plain": [
       "<IPython.core.display.Latex object>"
      ]
     },
     "metadata": {},
     "output_type": "display_data"
    }
   ],
   "source": [
    "%reload_ext combunipotent\n",
    "dO, rtype, dtype = (17,11,11,11,11,11,7,3,3,1,1),'C','B'\n",
    "\n",
    "test_sp2nsp_twist(dO,rtype,print=dprint)"
   ]
  },
  {
   "cell_type": "code",
   "execution_count": null,
   "metadata": {},
   "outputs": [],
   "source": []
  }
 ],
 "metadata": {
  "kernelspec": {
   "display_name": "Python 3",
   "language": "python",
   "name": "python3"
  },
  "language_info": {
   "codemirror_mode": {
    "name": "ipython",
    "version": 3
   },
   "file_extension": ".py",
   "mimetype": "text/x-python",
   "name": "python",
   "nbconvert_exporter": "python",
   "pygments_lexer": "ipython3",
   "version": "3.8.10"
  }
 },
 "nbformat": 4,
 "nbformat_minor": 4
}
