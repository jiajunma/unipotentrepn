{
 "cells": [
  {
   "cell_type": "code",
   "execution_count": 1,
   "metadata": {},
   "outputs": [],
   "source": [
    "%load_ext autoreload\n",
    "%autoreload 2\n",
    "from IPython.display import Markdown as md\n",
    "from IPython.display import Latex as lt\n",
    "from combunipotent import *"
   ]
  },
  {
   "cell_type": "code",
   "execution_count": 45,
   "metadata": {},
   "outputs": [
    {
     "data": {
      "text/latex": [
       "Let $\\mathcal O^\\vee$ has rows $[18, 14, 8, 8, 8, 8, 6, 4, 4, 4, 4, 0]$"
      ],
      "text/plain": [
       "<IPython.core.display.Latex object>"
      ]
     },
     "metadata": {},
     "output_type": "display_data"
    },
    {
     "data": {
      "text/latex": [
       "Then $\\mathcal O$ has columns $[17, 15, 8, 8, 8, 8, 5, 5, 4, 4, 3, 1]$"
      ],
      "text/plain": [
       "<IPython.core.display.Latex object>"
      ]
     },
     "metadata": {},
     "output_type": "display_data"
    },
    {
     "data": {
      "text/latex": [
       "The special representation (columns) $\\{\\}\\mapsto \\tau_s =$ (9, 4, 4, 3, 2, 2) $\\times$ (7, 4, 4, 2, 2)."
      ],
      "text/plain": [
       "<IPython.core.display.Latex object>"
      ]
     },
     "metadata": {},
     "output_type": "display_data"
    },
    {
     "data": {
      "text/latex": [
       "a non-special representation {0}$\\mapsto \\tau =$ (7, 4, 4, 3, 2, 2) $\\times$ (9, 4, 4, 2, 2)."
      ],
      "text/plain": [
       "<IPython.core.display.Latex object>"
      ]
     },
     "metadata": {},
     "output_type": "display_data"
    },
    {
     "data": {
      "text/latex": [
       "a non-special representation {3}$\\mapsto \\tau =$ (9, 4, 4, 2, 2, 2) $\\times$ (7, 4, 4, 3, 2)."
      ],
      "text/plain": [
       "<IPython.core.display.Latex object>"
      ]
     },
     "metadata": {},
     "output_type": "display_data"
    },
    {
     "data": {
      "text/latex": [
       "a non-special representation {5}$\\mapsto \\tau =$ (9, 4, 4, 3, 2) $\\times$ (7, 4, 4, 2, 2, 2)."
      ],
      "text/plain": [
       "<IPython.core.display.Latex object>"
      ]
     },
     "metadata": {},
     "output_type": "display_data"
    },
    {
     "data": {
      "text/latex": [
       "a non-special representation {0, 3}$\\mapsto \\tau =$ (7, 4, 4, 2, 2, 2) $\\times$ (9, 4, 4, 3, 2)."
      ],
      "text/plain": [
       "<IPython.core.display.Latex object>"
      ]
     },
     "metadata": {},
     "output_type": "display_data"
    },
    {
     "data": {
      "text/latex": [
       "a non-special representation {0, 5}$\\mapsto \\tau =$ (7, 4, 4, 3, 2) $\\times$ (9, 4, 4, 2, 2, 2)."
      ],
      "text/plain": [
       "<IPython.core.display.Latex object>"
      ]
     },
     "metadata": {},
     "output_type": "display_data"
    },
    {
     "data": {
      "text/latex": [
       "a non-special representation {3, 5}$\\mapsto \\tau =$ (9, 4, 4, 2, 2) $\\times$ (7, 4, 4, 3, 2, 2)."
      ],
      "text/plain": [
       "<IPython.core.display.Latex object>"
      ]
     },
     "metadata": {},
     "output_type": "display_data"
    },
    {
     "data": {
      "text/latex": [
       "a non-special representation {0, 3, 5}$\\mapsto \\tau =$ (7, 4, 4, 2, 2) $\\times$ (9, 4, 4, 3, 2, 2)."
      ],
      "text/plain": [
       "<IPython.core.display.Latex object>"
      ]
     },
     "metadata": {},
     "output_type": "display_data"
    },
    {
     "data": {
      "text/latex": [
       "The  $\\wp = $ set()                $\\mapsto \\tau =$ (7, 4, 4, 2, 2) $\\times$ (9, 4, 4, 3, 2, 2)                attached to 3008 PBPS"
      ],
      "text/plain": [
       "<IPython.core.display.Latex object>"
      ]
     },
     "metadata": {},
     "output_type": "display_data"
    },
    {
     "data": {
      "text/html": [
       "<pre style=\"white-space:pre;overflow-x:auto;line-height:normal;font-family:Menlo,'DejaVu Sans Mono',consolas,'Courier New',monospace\">The minimal p is <span style=\"color: #000080; font-weight: bold\">-1</span>\n",
       "</pre>\n"
      ],
      "text/plain": [
       "<rich.jupyter.JupyterRenderable at 0x7f84a43d4250>"
      ]
     },
     "metadata": {},
     "output_type": "display_data"
    },
    {
     "data": {
      "text/latex": [
       "The down list has $\\wp'=$  set() size 3008"
      ],
      "text/plain": [
       "<IPython.core.display.Latex object>"
      ]
     },
     "metadata": {},
     "output_type": "display_data"
    },
    {
     "data": {
      "text/html": [
       "<pre style=\"white-space:pre;overflow-x:auto;line-height:normal;font-family:Menlo,'DejaVu Sans Mono',consolas,'Courier New',monospace\"><span style=\"color: #00ff00; font-style: italic\">True</span>\n",
       "</pre>\n"
      ],
      "text/plain": [
       "<rich.jupyter.JupyterRenderable at 0x7f84a43d4ca0>"
      ]
     },
     "metadata": {},
     "output_type": "display_data"
    },
    {
     "data": {
      "text/latex": [
       "The  $\\wp = $ {0}                $\\mapsto \\tau =$ (7, 4, 4, 2, 2) $\\times$ (9, 4, 4, 3, 2, 2)                attached to 3008 PBPS"
      ],
      "text/plain": [
       "<IPython.core.display.Latex object>"
      ]
     },
     "metadata": {},
     "output_type": "display_data"
    },
    {
     "data": {
      "text/html": [
       "<pre style=\"white-space:pre;overflow-x:auto;line-height:normal;font-family:Menlo,'DejaVu Sans Mono',consolas,'Courier New',monospace\">The minimal p is <span style=\"color: #000080; font-weight: bold\">0</span>\n",
       "</pre>\n"
      ],
      "text/plain": [
       "<rich.jupyter.JupyterRenderable at 0x7f84a43d4ca0>"
      ]
     },
     "metadata": {},
     "output_type": "display_data"
    },
    {
     "data": {
      "text/latex": [
       "The down list has $\\wp'=$  set() size 3008"
      ],
      "text/plain": [
       "<IPython.core.display.Latex object>"
      ]
     },
     "metadata": {},
     "output_type": "display_data"
    },
    {
     "data": {
      "text/html": [
       "<pre style=\"white-space:pre;overflow-x:auto;line-height:normal;font-family:Menlo,'DejaVu Sans Mono',consolas,'Courier New',monospace\"><span style=\"color: #00ff00; font-style: italic\">True</span>\n",
       "</pre>\n"
      ],
      "text/plain": [
       "<rich.jupyter.JupyterRenderable at 0x7f84a43d4ca0>"
      ]
     },
     "metadata": {},
     "output_type": "display_data"
    },
    {
     "data": {
      "text/latex": [
       "The  $\\wp = $ {3}                $\\mapsto \\tau =$ (7, 4, 4, 2, 2) $\\times$ (9, 4, 4, 3, 2, 2)                attached to 3008 PBPS"
      ],
      "text/plain": [
       "<IPython.core.display.Latex object>"
      ]
     },
     "metadata": {},
     "output_type": "display_data"
    },
    {
     "data": {
      "text/html": [
       "<pre style=\"white-space:pre;overflow-x:auto;line-height:normal;font-family:Menlo,'DejaVu Sans Mono',consolas,'Courier New',monospace\">The minimal p is <span style=\"color: #000080; font-weight: bold\">3</span>\n",
       "</pre>\n"
      ],
      "text/plain": [
       "<rich.jupyter.JupyterRenderable at 0x7f84a43d4ca0>"
      ]
     },
     "metadata": {},
     "output_type": "display_data"
    },
    {
     "data": {
      "text/latex": [
       "The down list has $\\wp'=$  set() size 3008"
      ],
      "text/plain": [
       "<IPython.core.display.Latex object>"
      ]
     },
     "metadata": {},
     "output_type": "display_data"
    },
    {
     "data": {
      "text/html": [
       "<pre style=\"white-space:pre;overflow-x:auto;line-height:normal;font-family:Menlo,'DejaVu Sans Mono',consolas,'Courier New',monospace\"><span style=\"color: #00ff00; font-style: italic\">True</span>\n",
       "</pre>\n"
      ],
      "text/plain": [
       "<rich.jupyter.JupyterRenderable at 0x7f84a43d4bb0>"
      ]
     },
     "metadata": {},
     "output_type": "display_data"
    },
    {
     "data": {
      "text/latex": [
       "The  $\\wp = $ {5}                $\\mapsto \\tau =$ (7, 4, 4, 2, 2) $\\times$ (9, 4, 4, 3, 2, 2)                attached to 3008 PBPS"
      ],
      "text/plain": [
       "<IPython.core.display.Latex object>"
      ]
     },
     "metadata": {},
     "output_type": "display_data"
    },
    {
     "data": {
      "text/html": [
       "<pre style=\"white-space:pre;overflow-x:auto;line-height:normal;font-family:Menlo,'DejaVu Sans Mono',consolas,'Courier New',monospace\">The minimal p is <span style=\"color: #000080; font-weight: bold\">5</span>\n",
       "</pre>\n"
      ],
      "text/plain": [
       "<rich.jupyter.JupyterRenderable at 0x7f84a43d4250>"
      ]
     },
     "metadata": {},
     "output_type": "display_data"
    },
    {
     "data": {
      "text/latex": [
       "The down list has $\\wp'=$  set() size 3008"
      ],
      "text/plain": [
       "<IPython.core.display.Latex object>"
      ]
     },
     "metadata": {},
     "output_type": "display_data"
    },
    {
     "data": {
      "text/html": [
       "<pre style=\"white-space:pre;overflow-x:auto;line-height:normal;font-family:Menlo,'DejaVu Sans Mono',consolas,'Courier New',monospace\"><span style=\"color: #00ff00; font-style: italic\">True</span>\n",
       "</pre>\n"
      ],
      "text/plain": [
       "<rich.jupyter.JupyterRenderable at 0x7f84a43d4250>"
      ]
     },
     "metadata": {},
     "output_type": "display_data"
    },
    {
     "data": {
      "text/latex": [
       "The  $\\wp = $ {0, 3}                $\\mapsto \\tau =$ (7, 4, 4, 2, 2) $\\times$ (9, 4, 4, 3, 2, 2)                attached to 3008 PBPS"
      ],
      "text/plain": [
       "<IPython.core.display.Latex object>"
      ]
     },
     "metadata": {},
     "output_type": "display_data"
    },
    {
     "data": {
      "text/html": [
       "<pre style=\"white-space:pre;overflow-x:auto;line-height:normal;font-family:Menlo,'DejaVu Sans Mono',consolas,'Courier New',monospace\">The minimal p is <span style=\"color: #000080; font-weight: bold\">0</span>\n",
       "</pre>\n"
      ],
      "text/plain": [
       "<rich.jupyter.JupyterRenderable at 0x7f84a43d4250>"
      ]
     },
     "metadata": {},
     "output_type": "display_data"
    },
    {
     "data": {
      "text/latex": [
       "The down list has $\\wp'=$  {3} size 3008"
      ],
      "text/plain": [
       "<IPython.core.display.Latex object>"
      ]
     },
     "metadata": {},
     "output_type": "display_data"
    },
    {
     "data": {
      "text/html": [
       "<pre style=\"white-space:pre;overflow-x:auto;line-height:normal;font-family:Menlo,'DejaVu Sans Mono',consolas,'Courier New',monospace\"><span style=\"color: #00ff00; font-style: italic\">True</span>\n",
       "</pre>\n"
      ],
      "text/plain": [
       "<rich.jupyter.JupyterRenderable at 0x7f84a43d42e0>"
      ]
     },
     "metadata": {},
     "output_type": "display_data"
    },
    {
     "data": {
      "text/latex": [
       "The  $\\wp = $ {0, 5}                $\\mapsto \\tau =$ (7, 4, 4, 2, 2) $\\times$ (9, 4, 4, 3, 2, 2)                attached to 3008 PBPS"
      ],
      "text/plain": [
       "<IPython.core.display.Latex object>"
      ]
     },
     "metadata": {},
     "output_type": "display_data"
    },
    {
     "data": {
      "text/html": [
       "<pre style=\"white-space:pre;overflow-x:auto;line-height:normal;font-family:Menlo,'DejaVu Sans Mono',consolas,'Courier New',monospace\">The minimal p is <span style=\"color: #000080; font-weight: bold\">0</span>\n",
       "</pre>\n"
      ],
      "text/plain": [
       "<rich.jupyter.JupyterRenderable at 0x7f84a43d4ca0>"
      ]
     },
     "metadata": {},
     "output_type": "display_data"
    },
    {
     "data": {
      "text/latex": [
       "The down list has $\\wp'=$  {5} size 3008"
      ],
      "text/plain": [
       "<IPython.core.display.Latex object>"
      ]
     },
     "metadata": {},
     "output_type": "display_data"
    },
    {
     "data": {
      "text/html": [
       "<pre style=\"white-space:pre;overflow-x:auto;line-height:normal;font-family:Menlo,'DejaVu Sans Mono',consolas,'Courier New',monospace\"><span style=\"color: #00ff00; font-style: italic\">True</span>\n",
       "</pre>\n"
      ],
      "text/plain": [
       "<rich.jupyter.JupyterRenderable at 0x7f84a43d4ca0>"
      ]
     },
     "metadata": {},
     "output_type": "display_data"
    },
    {
     "data": {
      "text/latex": [
       "The  $\\wp = $ {3, 5}                $\\mapsto \\tau =$ (7, 4, 4, 2, 2) $\\times$ (9, 4, 4, 3, 2, 2)                attached to 3008 PBPS"
      ],
      "text/plain": [
       "<IPython.core.display.Latex object>"
      ]
     },
     "metadata": {},
     "output_type": "display_data"
    },
    {
     "data": {
      "text/html": [
       "<pre style=\"white-space:pre;overflow-x:auto;line-height:normal;font-family:Menlo,'DejaVu Sans Mono',consolas,'Courier New',monospace\">The minimal p is <span style=\"color: #000080; font-weight: bold\">3</span>\n",
       "</pre>\n"
      ],
      "text/plain": [
       "<rich.jupyter.JupyterRenderable at 0x7f84a43d4d00>"
      ]
     },
     "metadata": {},
     "output_type": "display_data"
    },
    {
     "data": {
      "text/latex": [
       "The down list has $\\wp'=$  {5} size 3008"
      ],
      "text/plain": [
       "<IPython.core.display.Latex object>"
      ]
     },
     "metadata": {},
     "output_type": "display_data"
    },
    {
     "data": {
      "text/html": [
       "<pre style=\"white-space:pre;overflow-x:auto;line-height:normal;font-family:Menlo,'DejaVu Sans Mono',consolas,'Courier New',monospace\"><span style=\"color: #00ff00; font-style: italic\">True</span>\n",
       "</pre>\n"
      ],
      "text/plain": [
       "<rich.jupyter.JupyterRenderable at 0x7f84a43d42e0>"
      ]
     },
     "metadata": {},
     "output_type": "display_data"
    },
    {
     "data": {
      "text/latex": [
       "The  $\\wp = $ {0, 3, 5}                $\\mapsto \\tau =$ (7, 4, 4, 2, 2) $\\times$ (9, 4, 4, 3, 2, 2)                attached to 3008 PBPS"
      ],
      "text/plain": [
       "<IPython.core.display.Latex object>"
      ]
     },
     "metadata": {},
     "output_type": "display_data"
    },
    {
     "data": {
      "text/html": [
       "<pre style=\"white-space:pre;overflow-x:auto;line-height:normal;font-family:Menlo,'DejaVu Sans Mono',consolas,'Courier New',monospace\">The minimal p is <span style=\"color: #000080; font-weight: bold\">0</span>\n",
       "</pre>\n"
      ],
      "text/plain": [
       "<rich.jupyter.JupyterRenderable at 0x7f84a43d42e0>"
      ]
     },
     "metadata": {},
     "output_type": "display_data"
    },
    {
     "data": {
      "text/latex": [
       "The down list has $\\wp'=$  {3, 5} size 3008"
      ],
      "text/plain": [
       "<IPython.core.display.Latex object>"
      ]
     },
     "metadata": {},
     "output_type": "display_data"
    },
    {
     "data": {
      "text/html": [
       "<pre style=\"white-space:pre;overflow-x:auto;line-height:normal;font-family:Menlo,'DejaVu Sans Mono',consolas,'Courier New',monospace\"><span style=\"color: #00ff00; font-style: italic\">True</span>\n",
       "</pre>\n"
      ],
      "text/plain": [
       "<rich.jupyter.JupyterRenderable at 0x7f84a43d42e0>"
      ]
     },
     "metadata": {},
     "output_type": "display_data"
    }
   ],
   "source": [
    "%reload_ext combunipotent\n",
    "dO, rtype, dtype = (18,14,8,8,8,8,6,4,4,4,4,0),'M','B'\n",
    "#dO, rtype = (4,2,2,0),'M'\n",
    "display(lt(r'Let $\\mathcal O^\\vee$ has rows $%s$'%(list(dO),)))\n",
    "O = dualBVW(dO,rtype,partrc='c')\n",
    "display(lt(r'Then $\\mathcal O$ has columns $%s$'%(O,)))\n",
    "WLC = dualpart2LC(dO,rtype)\n",
    "\n",
    "for pp, tau in WLC.items():\n",
    "    if len(pp)==0:\n",
    "        display(lt(f\"The special representation (columns) $\\\\{{\\\\}}\\\\mapsto \\\\tau_s =$ {tau[0]} $\\\\times$ {tau[1]}.\"))\n",
    "    else:\n",
    "        display(lt(f\"a non-special representation {set(pp)}$\\\\mapsto \\\\tau =$ {tau[0]} $\\\\times$ {tau[1]}.\"))\n",
    "\n",
    "PBPlist = LC2pbps(WLC,rtype)\n",
    "\n",
    "for pp, pbps in PBPlist.items():\n",
    "    display(lt(f\"The  $\\\\wp = $ {set(pp)} \\\n",
    "               $\\\\mapsto \\\\tau =$ {tau[0]} $\\\\times$ {tau[1]} \\\n",
    "               attached to {len(pbps)} PBPS\"))\n",
    "    print(f\"The minimal p is {min(pp,default=-1)}\")\n",
    "    #printpbplist(pbps)\n",
    "    pbpdowns,PPd = twistdown(pbps,pp,rtype)\n",
    "    display(lt(f\"The down list has $\\\\wp'=$  {set(PPd)} size {len(pbpdowns)}\"))\n",
    "    #print(PBPlist[PPd])\n",
    "    #print(pbpdowns)\n",
    "    #print(frozenset(PBPlist[PPd])-frozenset(pbpdowns))\n",
    "    #print(frozenset(pbpdowns)-frozenset(PBPlist[PPd]))\n",
    "    #printpbplist(pbpdowns)\n",
    "    print(frozenset(PBPlist[PPd])==frozenset(pbpdowns))"
   ]
  },
  {
   "cell_type": "code",
   "execution_count": null,
   "metadata": {},
   "outputs": [],
   "source": []
  },
  {
   "cell_type": "code",
   "execution_count": 3,
   "metadata": {},
   "outputs": [
    {
     "data": {
      "text/latex": [
       "Let $\\mathcal O^\\vee$ has rows $[4, 4, 4, 4, 2]$"
      ],
      "text/plain": [
       "<IPython.core.display.Latex object>"
      ]
     },
     "metadata": {},
     "output_type": "display_data"
    },
    {
     "data": {
      "text/latex": [
       "Then $\\mathcal O$ has columns $[5, 4, 4, 3, 3]$"
      ],
      "text/plain": [
       "<IPython.core.display.Latex object>"
      ]
     },
     "metadata": {},
     "output_type": "display_data"
    }
   ],
   "source": [
    "%reload_ext combunipotent\n",
    "dO, rtype = (4,4,4,4,2),'B'\n",
    "display(lt(r'Let $\\mathcal O^\\vee$ has rows $%s$'%(list(dO),)))\n",
    "O = dualBVW(dO,rtype,partrc='c')\n",
    "display(lt(r'Then $\\mathcal O$ has columns $%s$'%(O,)))"
   ]
  },
  {
   "cell_type": "code",
   "execution_count": null,
   "metadata": {},
   "outputs": [],
   "source": []
  }
 ],
 "metadata": {
  "kernelspec": {
   "display_name": "Python 3",
   "language": "python",
   "name": "python3"
  },
  "language_info": {
   "codemirror_mode": {
    "name": "ipython",
    "version": 3
   },
   "file_extension": ".py",
   "mimetype": "text/x-python",
   "name": "python",
   "nbconvert_exporter": "python",
   "pygments_lexer": "ipython3",
   "version": "3.8.10"
  }
 },
 "nbformat": 4,
 "nbformat_minor": 4
}
