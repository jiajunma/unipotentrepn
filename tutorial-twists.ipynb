{
 "cells": [
  {
   "cell_type": "code",
   "execution_count": null,
   "metadata": {},
   "outputs": [],
   "source": [
    "%load_ext autoreload\n",
    "%autoreload 2\n",
    "from rich import print\n",
    "from IPython.display import Markdown as md\n",
    "from IPython.display import Latex as lt\n",
    "from combunipotent import *"
   ]
  },
  {
   "cell_type": "code",
   "execution_count": null,
   "metadata": {},
   "outputs": [],
   "source": [
    "%reload_ext combunipotent\n",
    "dO, rtype = (8,6,4,4,4,4,4,4,2),'M'\n",
    "#dO, rtype = (4,2,2,0),'M'\n",
    "#testpbptwist(dO,rtype,print=lambda x: display(lt(str(x))))\n",
    "testpbptwist(dO,rtype)"
   ]
  },
  {
   "cell_type": "code",
   "execution_count": null,
   "metadata": {},
   "outputs": [],
   "source": [
    "%reload_ext combunipotent\n",
    "dO, rtype = (13,11,9,7,5,5,5,5,5,5,3,3,3,3,3,1),'C'\n",
    "#dO, rtype = (4,2,2,0),'M'\n",
    "testpbptwist(dO,rtype,print=lambda x: display(lt(str(x))))\n",
    "#testpbptwist(dO,rtype,report=False)\n"
   ]
  },
  {
   "cell_type": "code",
   "execution_count": null,
   "metadata": {},
   "outputs": [],
   "source": [
    "%reload_ext combunipotent\n",
    "dO, rtype, dtype = (18,14,8,8,8,8,6,4,4,4,4,0),'M','B'\n",
    "#dO, rtype = (4,2,2,0),'M'\n",
    "display(lt(r'Let $\\mathcal O^\\vee$ has rows $%s$'%(list(dO),)))\n",
    "O = dualBVW(dO,rtype,partrc='c')\n",
    "display(lt(r'Then $\\mathcal O$ has columns $%s$'%(O,)))\n",
    "WLC = dualpart2LC(dO,rtype)\n",
    "\n",
    "for pp, tau in WLC.items():\n",
    "    if len(pp)==0:\n",
    "        display(lt(f\"The special representation (columns) $\\\\{{\\\\}}\\\\mapsto \\\\tau_s =$ {tau[0]} $\\\\times$ {tau[1]}.\"))\n",
    "    else:\n",
    "        display(lt(f\"a non-special representation {set(pp)}$\\\\mapsto \\\\tau =$ {tau[0]} $\\\\times$ {tau[1]}.\"))\n",
    "\n",
    "PBPlist = LC2pbps(WLC,rtype)\n",
    "\n",
    "for pp, pbps in PBPlist.items():\n",
    "    display(lt(f\"The  $\\\\wp = $ {set(pp)} \\\n",
    "               $\\\\mapsto \\\\tau =$ {tau[0]} $\\\\times$ {tau[1]} \\\n",
    "               attached to {len(pbps)} PBPS\"))\n",
    "    print(f\"The minimal p is {min(pp,default=-1)}\")\n",
    "    #printpbplist(pbps)\n",
    "    pbpdowns,PPd = twistdown(pbps,pp,rtype)\n",
    "    display(lt(f\"The down list has $\\\\wp'=$  {set(PPd)} size {len(pbpdowns)}\"))\n",
    "    #print(PBPlist[PPd])\n",
    "    #print(pbpdowns)\n",
    "    #print(frozenset(PBPlist[PPd])-frozenset(pbpdowns))\n",
    "    #print(frozenset(pbpdowns)-frozenset(PBPlist[PPd]))\n",
    "    #printpbplist(pbpdowns)\n",
    "    print(frozenset(PBPlist[PPd])==frozenset(pbpdowns))"
   ]
  },
  {
   "cell_type": "code",
   "execution_count": null,
   "metadata": {},
   "outputs": [],
   "source": []
  }
 ],
 "metadata": {
  "kernelspec": {
   "display_name": "Python 3",
   "language": "python",
   "name": "python3"
  },
  "language_info": {
   "codemirror_mode": {
    "name": "ipython",
    "version": 3
   },
   "file_extension": ".py",
   "mimetype": "text/x-python",
   "name": "python",
   "nbconvert_exporter": "python",
   "pygments_lexer": "ipython3",
   "version": "3.8.10"
  }
 },
 "nbformat": 4,
 "nbformat_minor": 4
}
