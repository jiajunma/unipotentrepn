{
 "cells": [
  {
   "cell_type": "code",
   "execution_count": null,
   "metadata": {},
   "outputs": [],
   "source": [
    "%load_ext autoreload\n",
    "%autoreload 2\n",
    "from rich import print\n",
    "from IPython.display import Markdown as md\n",
    "from IPython.display import Latex as lt\n",
    "from combunipotent import *\n",
    "dprint = lambda x: display(lt(str(x)))"
   ]
  },
  {
   "cell_type": "code",
   "execution_count": null,
   "metadata": {},
   "outputs": [],
   "source": [
    "%reload_ext combunipotent\n",
    "dO, rtype = (8,6,4,4,4,4,4,4,2),'M'\n",
    "dO, rtype = (11,7,5,3,3,3,1),'C'\n",
    "#dO, rtype = (4,2,2,0),'M'\n",
    "testpbptwist(dO,rtype,print=lambda x: display(lt(str(x))))\n",
    "#testpbptwist(dO,rtype)"
   ]
  },
  {
   "cell_type": "code",
   "execution_count": null,
   "metadata": {},
   "outputs": [],
   "source": [
    "%reload_ext combunipotent\n",
    "dO, rtype = (13,11,9,7,5,5,5,5,5,5,3,3,3,3,3,1),'C'\n",
    "#dO, rtype = (4,2,2,0),'M'\n",
    "testpbptwist(dO,rtype,print=lambda x: display(lt(str(x))))\n",
    "#testpbptwist(dO,rtype,report=False)\n"
   ]
  },
  {
   "cell_type": "code",
   "execution_count": null,
   "metadata": {},
   "outputs": [],
   "source": [
    "%reload_ext combunipotent\n",
    "dO, rtype, dtype = (18,14,8,8,8,8,6,4,4,4,4,0),'M','B'\n",
    "#dO, rtype = (4,2,2,0),'M'\n",
    "display(lt(r'Let $\\mathcal O^\\vee$ has rows $%s$'%(list(dO),)))\n",
    "O = dualBVW(dO,rtype,partrc='c')\n",
    "display(lt(r'Then $\\mathcal O$ has columns $%s$'%(O,)))\n",
    "WLC = dualpart2LC(dO,rtype)\n",
    "\n",
    "for pp, tau in WLC.items():\n",
    "    if len(pp)==0:\n",
    "        display(lt(f\"The special representation (columns) $\\\\{{\\\\}}\\\\mapsto \\\\tau_s =$ {tau[0]} $\\\\times$ {tau[1]}.\"))\n",
    "    else:\n",
    "        display(lt(f\"a non-special representation $\\\\wp=${set(pp)}$\\\\mapsto \\\\tau =$ {tau[0]} $\\\\times$ {tau[1]}.\"))\n",
    "\n",
    "PBPlist = LC2pbps(WLC,rtype)\n",
    "\n",
    "for pp, pbps in PBPlist.items():\n",
    "    display(lt(f\"The  $\\\\wp = $ {set(pp)} \\\n",
    "               $\\\\mapsto \\\\tau =$ {tau[0]} $\\\\times$ {tau[1]} \\\n",
    "               attached to {len(pbps)} PBPS\"))\n",
    "    if 0 not in pp:\n",
    "        # tau_pp is special shape in this case\n",
    "        pbpns = set(twist_sp2nsp(pbp,rtype) for pbp in pbps)\n",
    "        PPup = frozenset(pp|set([0]))\n",
    "        display(lt(f\"The non-special $\\\\wp_{{\\\\uparrow}}=$  {set(PPup)} and $|PBP(\\\\tau_{{\\\\wp_{{\\\\uparrow}}}})| = $ {len(pbpns)}\"))\n",
    "        #print(PBPlist[PPd])\n",
    "        #print(pbpdowns)\n",
    "        #print(frozenset(PBPlist[PPd])-frozenset(pbpdowns))\n",
    "        #print(frozenset(pbpdowns)-frozenset(PBPlist[PPd]))\n",
    "        #printpbplist(pbpdowns)\n",
    "        print(frozenset(PBPlist[PPup])==frozenset(pbpns))"
   ]
  },
  {
   "cell_type": "code",
   "execution_count": null,
   "metadata": {},
   "outputs": [],
   "source": [
    "%reload_ext combunipotent\n",
    "dO, rtype, dtype = (14,12,12,8,8,6,4,4,0),'M','B'\n",
    "\n",
    "test_sp2nsp_twist(dO,rtype,print=dprint)"
   ]
  },
  {
   "cell_type": "code",
   "execution_count": null,
   "metadata": {},
   "outputs": [],
   "source": [
    "%reload_ext combunipotent\n",
    "dO, rtype, dtype = (17,11,11,11,11,11,7,3,3,1,1),'C','B'\n",
    "\n",
    "test_sp2nsp_twist(dO,rtype,print=dprint)"
   ]
  },
  {
   "cell_type": "code",
   "execution_count": null,
   "metadata": {},
   "outputs": [],
   "source": []
  }
 ],
 "metadata": {
  "kernelspec": {
   "display_name": "Python 3",
   "language": "python",
   "name": "python3"
  },
  "language_info": {
   "codemirror_mode": {
    "name": "ipython",
    "version": 3
   },
   "file_extension": ".py",
   "mimetype": "text/x-python",
   "name": "python",
   "nbconvert_exporter": "python",
   "pygments_lexer": "ipython3",
   "version": "3.8.10"
  }
 },
 "nbformat": 4,
 "nbformat_minor": 4
}
