{
 "cells": [
  {
   "cell_type": "code",
   "execution_count": null,
   "metadata": {},
   "outputs": [],
   "source": [
    "%load_ext autoreload\n",
    "%autoreload 2\n",
    "from IPython.display import Markdown as md\n",
    "from IPython.display import Latex as lt\n",
    "from combunipotent import *"
   ]
  },
  {
   "cell_type": "markdown",
   "metadata": {},
   "source": [
    "Notation: \n",
    "\n",
    "$[r_1, r_2, \\cdots, r_k]$ denote a Young diagram with rows $r_1, \\cdots, r_k$. \n",
    "\n",
    "$(c_1, c_2, \\cdots, c_k)$ denote a Young diagram with columns $c_1, \\cdots, c_k$. \n",
    "\n",
    "Let $\\mathcal O^\\vee = [r_1, r_2, \\cdots, r_k]$ be a nilpotent orbit, we can comput its Barbasch-Vogan dual.\n",
    "\n",
    "The following is an example of computing the Barbasch-Vogan dual {{aa}}"
   ]
  },
  {
   "cell_type": "code",
   "execution_count": null,
   "metadata": {},
   "outputs": [],
   "source": [
    "dO,rtype = (15,11,7,7,5,5,3,3,1,1),'D'\n",
    "display(lt(r'Let $\\mathcal O^\\vee$ (a orbit of type D) has rows $%s$'%(list(dO),)))\n",
    "O = dualBVW(dO,rtype,partrc='c')\n",
    "display(lt(r'Then $\\mathcal O$ (a orbit of type D) has columns $%s$'%(tuple(O),)))\n",
    "display(lt(r'The set of Weyl group representations attached to $\\mathcal O^\\vee$ are the follows (the first one is special)'))\n",
    "RR = dualpart2Wrepn(dO,rtype)\n",
    "aa = lt(r'%s'%(list(dO)))\n",
    "for tau in RR:\n",
    "    display(lt(r'$%s \\times %s$'%tau))\n",
    "#RRA = dualpart2WrepnA(dO,rtype)\n",
    "#print(len(RR), RR)\n",
    "#print(len(RRA), RRA)\n",
    "#set(RR) == set(RRA)"
   ]
  },
  {
   "cell_type": "markdown",
   "metadata": {},
   "source": [
    "Suppose $\\mathcal O^\\vee$ is a of type $\\star = C$ and $(1,2)\\in \\mathrm{PP}(\\mathcal O^\\vee)$ there is a switch between the set of painted bipartition of special shapes and \n",
    "non-special shapes. \n",
    "The following is an example:"
   ]
  },
  {
   "cell_type": "code",
   "execution_count": null,
   "metadata": {},
   "outputs": [],
   "source": [
    "dO, rtype = (5,3,3,3,1),'C' \n",
    "display(lt(r'Let $\\mathcal O^\\vee$ has rows $%s$'%(list(dO),)))\n",
    "O = dualBVW(dO,'C',partrc='c')\n",
    "display(lt(r'Then $\\mathcal O$ has columns $%s$'%(O,)))\n",
    "Wrepns = dualpart2Wrepn(dO,rtype)\n",
    "taus = Wrepns[0]\n",
    "tauns = Wrepns[1]\n",
    "display(lt(r'The special representation (columns) $\\tau =$ %s $\\times$  %s is paired with $\\bar\\tau = $ %s $\\times$ %s  (with $\\wp_{\\bar\\tau} = \\{(1,2)\\}$)'%(taus+tauns)))\n",
    "display(lt(r'The switching between  $\\mathrm{PBP}_C(\\mathcal O^\\vee,\\emptyset)$ and $\\mathrm{PBP}_C(\\mathcal O^\\vee, \\{(1,2)\\})$ is given by:'))\n",
    "Adrcs = [drc for drc in Wrepn2drcs(taus,'C')]\n",
    "for drc in  Adrcs:\n",
    "    nsdrc  = twist_C_nonspecial(drc)\n",
    "    res = concat_strblocks(str_dgms(drc),\"<==>\",str_dgms(nsdrc))\n",
    "    print(res)"
   ]
  },
  {
   "cell_type": "code",
   "execution_count": null,
   "metadata": {},
   "outputs": [],
   "source": [
    "dO, rtype = (4,4,4,2),'M' \n",
    "display(lt(r'Let $\\mathcal O^\\vee$ has rows $%s$'%(list(dO),)))\n",
    "O = dualBVW(dO,rtype,partrc='c')\n",
    "display(lt(r'Then $\\mathcal O$ has columns $%s$'%(O,)))\n",
    "Wrepns = dualpart2Wrepn(dO,rtype)\n",
    "taus = Wrepns[0]\n",
    "tauns = Wrepns[1]\n",
    "display(lt(r'The special representation (columns) $\\tau =$ %s $\\times$  %s is paired with $\\bar\\tau = $ %s $\\times$ %s  (with $\\wp_{\\bar\\tau} = \\{(1,2)\\}$)'%(taus+tauns)))\n",
    "display(lt(r'The switching between  $\\mathrm{PBP}_C(\\mathcal O^\\vee,\\emptyset)$ and $\\mathrm{PBP}_C(\\mathcal O^\\vee, \\{(1,2)\\})$ is given by:'))\n",
    "Adrcs = [drc for drc in Wrepn2drcs(taus,rtype)]\n",
    "for drc in  Adrcs:\n",
    "    #nsdrc  = twist_M_nonspecial(drc)\n",
    "    #res = concat_strblocks(str_dgms(drc),\"<==>\",str_dgms(nsdrc))\n",
    "    print(str_dgms(drc))"
   ]
  },
  {
   "cell_type": "code",
   "execution_count": null,
   "metadata": {},
   "outputs": [],
   "source": [
    "## example of good parity dual orbit\n",
    "\n",
    "dO, rtype = (13,11,5,5,5,5,3,3,1,1),'D' \n",
    "display(lt(r'Let $\\mathcal O^\\vee$ has rows $%s$'%(list(dO),)))\n",
    "O = dualBVW(dO,rtype,partrc='c')\n",
    "display(lt(r'Then $\\mathcal O$ has columns $%s$'%(O,)))\n",
    "Wrepns = springer_part2family(dO,rtype)\n",
    "WrepnsB = dualpart2Wrepn(dO,rtype)\n",
    "Wrepns, WrepnsB = set(Wrepns), set(WrepnsB)\n",
    "#print(Wrepns, len(Wrepns))\n",
    "print(WrepnsB, len(WrepnsB))\n",
    "print(\"WrepnB is a subset of Wrepns by Springer theory:\", WrepnsB.issubset(Wrepns))\n",
    "\n",
    "\n",
    "AdrcSp = dpart2drc(dO,rtype)\n",
    "print(len(AdrcSp))\n",
    "\n",
    "AdrcSp = dpart2pbp(dO,rtype)\n",
    "print(len(AdrcSp))\n"
   ]
  },
  {
   "cell_type": "code",
   "execution_count": null,
   "metadata": {},
   "outputs": [],
   "source": [
    "## example of good parity dual orbit\n",
    "\n",
    "dO, drtype = (6,6,4,4,4,4,4,2,2,2),'C' \n",
    "display(lt(r'Let $\\mathcal O^\\vee$ has rows $%s$'%(list(dO),)))\n",
    "O = dualBVW(dO,rtype,partrc='c')\n",
    "display(lt(r'Then $\\mathcal O$ has columns $%s$'%(O,)))\n",
    "Wrepns = springer_part2family(dO,rtype)\n",
    "WrepnsB = dualpart2Wrepn(dO,rtype)\n",
    "Wrepns, WrepnsB = set(Wrepns), set(WrepnsB)\n",
    "#print(Wrepns, len(Wrepns))\n",
    "print(WrepnsB, len(WrepnsB))\n",
    "print(\"WrepnB is a subset of Wrepns by Springer theory:\", WrepnsB.issubset(Wrepns))\n",
    "\n",
    "\n",
    "AdrcSp = dpart2drc(dO,rtype)\n",
    "print(len(AdrcSp))\n",
    "\n",
    "AdrcSp = dpart2pbp(dO,rtype)\n",
    "print(len(AdrcSp))\n"
   ]
  },
  {
   "cell_type": "code",
   "execution_count": null,
   "metadata": {},
   "outputs": [],
   "source": [
    "## example of good parity dual orbit\n",
    "\n",
    "dO, drtype = (6,6,4,4,4,4,4,2,2,2),'C' \n",
    "display(lt(r'Let $\\mathcal O^\\vee$ has rows $%s$'%(list(dO),)))\n",
    "O = dualBVW(dO,rtype,partrc='c')\n",
    "display(lt(r'Then $\\mathcal O$ has columns $%s$'%(O,)))\n",
    "Wrepns = springer_part2family(dO,rtype)\n",
    "WrepnsB = dualpart2Wrepn(dO,rtype)\n",
    "Wrepns, WrepnsB = set(Wrepns), set(WrepnsB)\n",
    "#print(Wrepns, len(Wrepns))\n",
    "print(WrepnsB, len(WrepnsB))\n",
    "print(\"WrepnB is a subset of Wrepns by Springer theory:\", WrepnsB.issubset(Wrepns))\n",
    "\n",
    "\n",
    "AdrcSp = dpart2drc(dO,rtype)\n",
    "print(len(AdrcSp))\n",
    "\n",
    "AdrcSp = dpart2pbp(dO,rtype)\n",
    "print(len(AdrcSp))\n"
   ]
  },
  {
   "cell_type": "code",
   "execution_count": null,
   "metadata": {},
   "outputs": [],
   "source": [
    "## example of bad parity dual orbit of type D\n",
    "\n",
    "dO, rtype = (6,6,6,6,2,2,2,2),'D' \n",
    "display(lt(r'Let $\\mathcal O^\\vee$ has rows $%s$'%(list(dO),)))\n",
    "O = dualBVW(dO,rtype,partrc='c')\n",
    "display(lt(r'Then $\\mathcal O$ has columns $%s$'%(O,)))\n",
    "Wrepns = springer_part2family(dO,rtype)\n",
    "Wrepns = set(Wrepns)\n",
    "print(Wrepns, len(Wrepns))\n",
    "#print(\"WrepnB is a subset of Wrepns by Springer theory:\", WrepnsB.issubset(Wrepns))\n",
    "\n",
    "AdrcSp = dpart2pbp(dO,rtype)\n",
    "print(len(AdrcSp))"
   ]
  },
  {
   "cell_type": "code",
   "execution_count": null,
   "metadata": {},
   "outputs": [],
   "source": [
    "## example of bad parity dual orbit of type C\n",
    "\n",
    "dO, drtype, rtype = (5,5,3,3,3,3,3,3,1,1),'C' , 'B'\n",
    "display(lt(r'Let $\\mathcal O^\\vee$ has rows $%s$'%(list(dO),)))\n",
    "O = dualBVW(dO,rtype,partrc='c')\n",
    "display(lt(r'Then $\\mathcal O$ has columns $%s$'%(O,)))\n",
    "Wrepns = springer_dpart2family(dO,drtype,symbol=False)\n",
    "Wrepns = set(Wrepns)\n",
    "print(Wrepns, len(Wrepns))\n",
    "\n",
    "AdrcSp = dpart2drc(dO,rtype)\n",
    "print(len(AdrcSp))\n",
    "\n",
    "AdrcSp = dpart2pbp(dO,rtype)\n",
    "print(len(AdrcSp))"
   ]
  },
  {
   "cell_type": "code",
   "execution_count": null,
   "metadata": {},
   "outputs": [],
   "source": [
    "s = \"abc\"\n",
    "s[1]='d'"
   ]
  },
  {
   "cell_type": "code",
   "execution_count": null,
   "metadata": {},
   "outputs": [],
   "source": []
  }
 ],
 "metadata": {
  "kernelspec": {
   "display_name": "Python 3",
   "language": "python",
   "name": "python3"
  },
  "language_info": {
   "codemirror_mode": {
    "name": "ipython",
    "version": 3
   },
   "file_extension": ".py",
   "mimetype": "text/x-python",
   "name": "python",
   "nbconvert_exporter": "python",
   "pygments_lexer": "ipython3",
   "version": "3.8.10"
  }
 },
 "nbformat": 4,
 "nbformat_minor": 4
}
