{
 "cells": [
  {
   "cell_type": "code",
   "execution_count": null,
   "metadata": {},
   "outputs": [],
   "source": [
    "%load_ext autoreload\n",
    "%autoreload 2\n",
    "from IPython.display import Markdown as md\n",
    "from IPython.display import Latex as lt\n",
    "from combunipotent import *"
   ]
  },
  {
   "cell_type": "markdown",
   "metadata": {},
   "source": [
    "Notation: \n",
    "\n",
    "$[r_1, r_2, \\cdots, r_k]$ denote a Young diagram with rows $r_1, \\cdots, r_k$. \n",
    "\n",
    "$(c_1, c_2, \\cdots, c_k)$ denote a Young diagram with columns $c_1, \\cdots, c_k$. \n",
    "\n",
    "Let $\\mathcal O^\\vee = [r_1, r_2, \\cdots, r_k]$ be a nilpotent orbit, we can comput its Barbasch-Vogan dual.\n",
    "\n",
    "The following is an example of computing the Barbasch-Vogan dual {{aa}}"
   ]
  },
  {
   "cell_type": "code",
   "execution_count": 2,
   "metadata": {},
   "outputs": [
    {
     "data": {
      "text/latex": [
       "Let $\\mathcal O^\\vee$ (a orbit of type D) has rows $[15, 11, 7, 7, 5, 5, 3, 3, 1, 1]$"
      ],
      "text/plain": [
       "<IPython.core.display.Latex object>"
      ]
     },
     "metadata": {},
     "output_type": "display_data"
    },
    {
     "data": {
      "text/latex": [
       "Then $\\mathcal O$ (a orbit of type D) has columns $(16, 10, 8, 6, 6, 4, 4, 2, 2)$"
      ],
      "text/plain": [
       "<IPython.core.display.Latex object>"
      ]
     },
     "metadata": {},
     "output_type": "display_data"
    },
    {
     "data": {
      "text/latex": [
       "The set of Weyl group representations attached to $\\mathcal O^\\vee$ are the follows (the first one is special)"
      ],
      "text/plain": [
       "<IPython.core.display.Latex object>"
      ]
     },
     "metadata": {},
     "output_type": "display_data"
    },
    {
     "data": {
      "text/latex": [
       "$(8, 4, 3, 2, 1) \\times (5, 3, 2, 1)$"
      ],
      "text/plain": [
       "<IPython.core.display.Latex object>"
      ]
     },
     "metadata": {},
     "output_type": "display_data"
    },
    {
     "data": {
      "text/latex": [
       "$(8, 6, 3, 2, 1) \\times (3, 3, 2, 1)$"
      ],
      "text/plain": [
       "<IPython.core.display.Latex object>"
      ]
     },
     "metadata": {},
     "output_type": "display_data"
    },
    {
     "data": {
      "text/latex": [
       "$(8, 4, 4, 2, 1) \\times (5, 2, 2, 1)$"
      ],
      "text/plain": [
       "<IPython.core.display.Latex object>"
      ]
     },
     "metadata": {},
     "output_type": "display_data"
    },
    {
     "data": {
      "text/latex": [
       "$(8, 4, 3, 3, 1) \\times (5, 3, 1, 1)$"
      ],
      "text/plain": [
       "<IPython.core.display.Latex object>"
      ]
     },
     "metadata": {},
     "output_type": "display_data"
    },
    {
     "data": {
      "text/latex": [
       "$(8, 4, 3, 2, 2) \\times (5, 3, 2)$"
      ],
      "text/plain": [
       "<IPython.core.display.Latex object>"
      ]
     },
     "metadata": {},
     "output_type": "display_data"
    },
    {
     "data": {
      "text/latex": [
       "$(8, 6, 4, 2, 1) \\times (3, 2, 2, 1)$"
      ],
      "text/plain": [
       "<IPython.core.display.Latex object>"
      ]
     },
     "metadata": {},
     "output_type": "display_data"
    },
    {
     "data": {
      "text/latex": [
       "$(8, 6, 3, 3, 1) \\times (3, 3, 1, 1)$"
      ],
      "text/plain": [
       "<IPython.core.display.Latex object>"
      ]
     },
     "metadata": {},
     "output_type": "display_data"
    },
    {
     "data": {
      "text/latex": [
       "$(8, 6, 3, 2, 2) \\times (3, 3, 2)$"
      ],
      "text/plain": [
       "<IPython.core.display.Latex object>"
      ]
     },
     "metadata": {},
     "output_type": "display_data"
    },
    {
     "data": {
      "text/latex": [
       "$(8, 4, 4, 3, 1) \\times (5, 2, 1, 1)$"
      ],
      "text/plain": [
       "<IPython.core.display.Latex object>"
      ]
     },
     "metadata": {},
     "output_type": "display_data"
    },
    {
     "data": {
      "text/latex": [
       "$(8, 4, 4, 2, 2) \\times (5, 2, 2)$"
      ],
      "text/plain": [
       "<IPython.core.display.Latex object>"
      ]
     },
     "metadata": {},
     "output_type": "display_data"
    },
    {
     "data": {
      "text/latex": [
       "$(8, 4, 3, 3, 2) \\times (5, 3, 1)$"
      ],
      "text/plain": [
       "<IPython.core.display.Latex object>"
      ]
     },
     "metadata": {},
     "output_type": "display_data"
    },
    {
     "data": {
      "text/latex": [
       "$(8, 6, 4, 3, 1) \\times (3, 2, 1, 1)$"
      ],
      "text/plain": [
       "<IPython.core.display.Latex object>"
      ]
     },
     "metadata": {},
     "output_type": "display_data"
    },
    {
     "data": {
      "text/latex": [
       "$(8, 6, 4, 2, 2) \\times (3, 2, 2)$"
      ],
      "text/plain": [
       "<IPython.core.display.Latex object>"
      ]
     },
     "metadata": {},
     "output_type": "display_data"
    },
    {
     "data": {
      "text/latex": [
       "$(8, 6, 3, 3, 2) \\times (3, 3, 1)$"
      ],
      "text/plain": [
       "<IPython.core.display.Latex object>"
      ]
     },
     "metadata": {},
     "output_type": "display_data"
    },
    {
     "data": {
      "text/latex": [
       "$(8, 4, 4, 3, 2) \\times (5, 2, 1)$"
      ],
      "text/plain": [
       "<IPython.core.display.Latex object>"
      ]
     },
     "metadata": {},
     "output_type": "display_data"
    },
    {
     "data": {
      "text/latex": [
       "$(8, 6, 4, 3, 2) \\times (3, 2, 1)$"
      ],
      "text/plain": [
       "<IPython.core.display.Latex object>"
      ]
     },
     "metadata": {},
     "output_type": "display_data"
    }
   ],
   "source": [
    "dO,rtype = (15,11,7,7,5,5,3,3,1,1),'D'\n",
    "display(lt(r'Let $\\mathcal O^\\vee$ (a orbit of type D) has rows $%s$'%(list(dO),)))\n",
    "O = dualBVW(dO,rtype,partrc='c')\n",
    "display(lt(r'Then $\\mathcal O$ (a orbit of type D) has columns $%s$'%(tuple(O),)))\n",
    "display(lt(r'The set of Weyl group representations attached to $\\mathcal O^\\vee$ are the follows (the first one is special)'))\n",
    "RR = dualpart2Wrepn(dO,rtype)\n",
    "aa = lt(r'%s'%(list(dO)))\n",
    "for tau in RR:\n",
    "    display(lt(r'$%s \\times %s$'%tau))\n",
    "#RRA = dualpart2WrepnA(dO,rtype)\n",
    "#print(len(RR), RR)\n",
    "#print(len(RRA), RRA)\n",
    "#set(RR) == set(RRA)"
   ]
  },
  {
   "cell_type": "markdown",
   "metadata": {},
   "source": [
    "Suppose $\\mathcal O^\\vee$ is a of type $\\star = C$ and $(1,2)\\in \\mathrm{PP}(\\mathcal O^\\vee)$ there is a switch between the set of painted bipartition of special shapes and \n",
    "non-special shapes. \n",
    "The following is an example:"
   ]
  },
  {
   "cell_type": "code",
   "execution_count": 3,
   "metadata": {},
   "outputs": [
    {
     "data": {
      "text/latex": [
       "Let $\\mathcal O^\\vee$ has rows $[5, 3, 3, 3, 1]$"
      ],
      "text/plain": [
       "<IPython.core.display.Latex object>"
      ]
     },
     "metadata": {},
     "output_type": "display_data"
    },
    {
     "data": {
      "text/latex": [
       "Then $\\mathcal O$ has columns $[4, 4, 3, 3]$"
      ],
      "text/plain": [
       "<IPython.core.display.Latex object>"
      ]
     },
     "metadata": {},
     "output_type": "display_data"
    },
    {
     "data": {
      "text/latex": [
       "The special representation (columns) $\\tau =$ (2, 2) $\\times$  (2, 1) is paired with $\\bar\\tau = $ (3, 2) $\\times$ (1, 1)  (with $\\wp_{\\bar\\tau} = \\{(1,2)\\}$)"
      ],
      "text/plain": [
       "<IPython.core.display.Latex object>"
      ]
     },
     "metadata": {},
     "output_type": "display_data"
    },
    {
     "data": {
      "text/latex": [
       "The switching between  $\\mathrm{PBP}_C(\\mathcal O^\\vee,\\emptyset)$ and $\\mathrm{PBP}_C(\\mathcal O^\\vee, \\{(1,2)\\})$ is given by:"
      ],
      "text/plain": [
       "<IPython.core.display.Latex object>"
      ]
     },
     "metadata": {},
     "output_type": "display_data"
    },
    {
     "data": {
      "text/html": [
       "<pre style=\"white-space:pre;overflow-x:auto;line-height:normal;font-family:Menlo,'DejaVu Sans Mono',consolas,'Courier New',monospace\">.c|.s <span style=\"font-weight: bold\">&lt;</span><span style=\"color: #000000\">==</span><span style=\"font-weight: bold\">&gt;</span> .c|.s\n",
       "dd|s       rd|  \n",
       "           d |  \n",
       "</pre>\n"
      ],
      "text/plain": [
       "<rich.jupyter.JupyterRenderable at 0x7f38d3bbc520>"
      ]
     },
     "metadata": {},
     "output_type": "display_data"
    },
    {
     "data": {
      "text/html": [
       "<pre style=\"white-space:pre;overflow-x:auto;line-height:normal;font-family:Menlo,'DejaVu Sans Mono',consolas,'Courier New',monospace\">.r|.s <span style=\"font-weight: bold\">&lt;</span><span style=\"color: #000000\">==</span><span style=\"font-weight: bold\">&gt;</span> .r|.s\n",
       "dd|s       rd|  \n",
       "           d |  \n",
       "</pre>\n"
      ],
      "text/plain": [
       "<rich.jupyter.JupyterRenderable at 0x7f38d3bc1fa0>"
      ]
     },
     "metadata": {},
     "output_type": "display_data"
    },
    {
     "data": {
      "text/html": [
       "<pre style=\"white-space:pre;overflow-x:auto;line-height:normal;font-family:Menlo,'DejaVu Sans Mono',consolas,'Courier New',monospace\">..|.. <span style=\"font-weight: bold\">&lt;</span><span style=\"color: #000000\">==</span><span style=\"font-weight: bold\">&gt;</span> ..|..\n",
       "dd|s       rd|  \n",
       "           d |  \n",
       "</pre>\n"
      ],
      "text/plain": [
       "<rich.jupyter.JupyterRenderable at 0x7f38d3bc1fa0>"
      ]
     },
     "metadata": {},
     "output_type": "display_data"
    },
    {
     "data": {
      "text/html": [
       "<pre style=\"white-space:pre;overflow-x:auto;line-height:normal;font-family:Menlo,'DejaVu Sans Mono',consolas,'Courier New',monospace\">.c|.s <span style=\"font-weight: bold\">&lt;</span><span style=\"color: #000000\">==</span><span style=\"font-weight: bold\">&gt;</span> .c|.s\n",
       "cd|s       rd|  \n",
       "           c |  \n",
       "</pre>\n"
      ],
      "text/plain": [
       "<rich.jupyter.JupyterRenderable at 0x7f38d0067ee0>"
      ]
     },
     "metadata": {},
     "output_type": "display_data"
    },
    {
     "data": {
      "text/html": [
       "<pre style=\"white-space:pre;overflow-x:auto;line-height:normal;font-family:Menlo,'DejaVu Sans Mono',consolas,'Courier New',monospace\">.r|.s <span style=\"font-weight: bold\">&lt;</span><span style=\"color: #000000\">==</span><span style=\"font-weight: bold\">&gt;</span> .r|.s\n",
       "cd|s       rd|  \n",
       "           c |  \n",
       "</pre>\n"
      ],
      "text/plain": [
       "<rich.jupyter.JupyterRenderable at 0x7f38d0067ac0>"
      ]
     },
     "metadata": {},
     "output_type": "display_data"
    },
    {
     "data": {
      "text/html": [
       "<pre style=\"white-space:pre;overflow-x:auto;line-height:normal;font-family:Menlo,'DejaVu Sans Mono',consolas,'Courier New',monospace\">..|.. <span style=\"font-weight: bold\">&lt;</span><span style=\"color: #000000\">==</span><span style=\"font-weight: bold\">&gt;</span> ..|..\n",
       "cd|s       rd|  \n",
       "           c |  \n",
       "</pre>\n"
      ],
      "text/plain": [
       "<rich.jupyter.JupyterRenderable at 0x7f38d0067dc0>"
      ]
     },
     "metadata": {},
     "output_type": "display_data"
    },
    {
     "data": {
      "text/html": [
       "<pre style=\"white-space:pre;overflow-x:auto;line-height:normal;font-family:Menlo,'DejaVu Sans Mono',consolas,'Courier New',monospace\">.c|.s <span style=\"font-weight: bold\">&lt;</span><span style=\"color: #000000\">==</span><span style=\"font-weight: bold\">&gt;</span> .c|.s\n",
       "rd|s       rd|  \n",
       "           r |  \n",
       "</pre>\n"
      ],
      "text/plain": [
       "<rich.jupyter.JupyterRenderable at 0x7f38d3bbc520>"
      ]
     },
     "metadata": {},
     "output_type": "display_data"
    },
    {
     "data": {
      "text/html": [
       "<pre style=\"white-space:pre;overflow-x:auto;line-height:normal;font-family:Menlo,'DejaVu Sans Mono',consolas,'Courier New',monospace\">.c|.s <span style=\"font-weight: bold\">&lt;</span><span style=\"color: #000000\">==</span><span style=\"font-weight: bold\">&gt;</span> .c|.s\n",
       ".d|.       cd|  \n",
       "           d |  \n",
       "</pre>\n"
      ],
      "text/plain": [
       "<rich.jupyter.JupyterRenderable at 0x7f38d0067ac0>"
      ]
     },
     "metadata": {},
     "output_type": "display_data"
    },
    {
     "data": {
      "text/html": [
       "<pre style=\"white-space:pre;overflow-x:auto;line-height:normal;font-family:Menlo,'DejaVu Sans Mono',consolas,'Courier New',monospace\">.r|.s <span style=\"font-weight: bold\">&lt;</span><span style=\"color: #000000\">==</span><span style=\"font-weight: bold\">&gt;</span> .r|.s\n",
       "rd|s       rd|  \n",
       "           r |  \n",
       "</pre>\n"
      ],
      "text/plain": [
       "<rich.jupyter.JupyterRenderable at 0x7f38d0067dc0>"
      ]
     },
     "metadata": {},
     "output_type": "display_data"
    },
    {
     "data": {
      "text/html": [
       "<pre style=\"white-space:pre;overflow-x:auto;line-height:normal;font-family:Menlo,'DejaVu Sans Mono',consolas,'Courier New',monospace\">.r|.s <span style=\"font-weight: bold\">&lt;</span><span style=\"color: #000000\">==</span><span style=\"font-weight: bold\">&gt;</span> .r|.s\n",
       ".d|.       cd|  \n",
       "           d |  \n",
       "</pre>\n"
      ],
      "text/plain": [
       "<rich.jupyter.JupyterRenderable at 0x7f38d0067ee0>"
      ]
     },
     "metadata": {},
     "output_type": "display_data"
    },
    {
     "data": {
      "text/html": [
       "<pre style=\"white-space:pre;overflow-x:auto;line-height:normal;font-family:Menlo,'DejaVu Sans Mono',consolas,'Courier New',monospace\">..|.. <span style=\"font-weight: bold\">&lt;</span><span style=\"color: #000000\">==</span><span style=\"font-weight: bold\">&gt;</span> ..|..\n",
       "rd|s       rd|  \n",
       "           r |  \n",
       "</pre>\n"
      ],
      "text/plain": [
       "<rich.jupyter.JupyterRenderable at 0x7f38d3bc1640>"
      ]
     },
     "metadata": {},
     "output_type": "display_data"
    },
    {
     "data": {
      "text/html": [
       "<pre style=\"white-space:pre;overflow-x:auto;line-height:normal;font-family:Menlo,'DejaVu Sans Mono',consolas,'Courier New',monospace\">..|.. <span style=\"font-weight: bold\">&lt;</span><span style=\"color: #000000\">==</span><span style=\"font-weight: bold\">&gt;</span> ..|..\n",
       ".d|.       cd|  \n",
       "           d |  \n",
       "</pre>\n"
      ],
      "text/plain": [
       "<rich.jupyter.JupyterRenderable at 0x7f38d0067dc0>"
      ]
     },
     "metadata": {},
     "output_type": "display_data"
    },
    {
     "data": {
      "text/html": [
       "<pre style=\"white-space:pre;overflow-x:auto;line-height:normal;font-family:Menlo,'DejaVu Sans Mono',consolas,'Courier New',monospace\">.r|.s <span style=\"font-weight: bold\">&lt;</span><span style=\"color: #000000\">==</span><span style=\"font-weight: bold\">&gt;</span> .r|.s\n",
       "cc|s       rc|  \n",
       "           c |  \n",
       "</pre>\n"
      ],
      "text/plain": [
       "<rich.jupyter.JupyterRenderable at 0x7f38d0067ee0>"
      ]
     },
     "metadata": {},
     "output_type": "display_data"
    },
    {
     "data": {
      "text/html": [
       "<pre style=\"white-space:pre;overflow-x:auto;line-height:normal;font-family:Menlo,'DejaVu Sans Mono',consolas,'Courier New',monospace\">..|.. <span style=\"font-weight: bold\">&lt;</span><span style=\"color: #000000\">==</span><span style=\"font-weight: bold\">&gt;</span> ..|..\n",
       "cc|s       rc|  \n",
       "           c |  \n",
       "</pre>\n"
      ],
      "text/plain": [
       "<rich.jupyter.JupyterRenderable at 0x7f38d3bc1fa0>"
      ]
     },
     "metadata": {},
     "output_type": "display_data"
    },
    {
     "data": {
      "text/html": [
       "<pre style=\"white-space:pre;overflow-x:auto;line-height:normal;font-family:Menlo,'DejaVu Sans Mono',consolas,'Courier New',monospace\">.r|.s <span style=\"font-weight: bold\">&lt;</span><span style=\"color: #000000\">==</span><span style=\"font-weight: bold\">&gt;</span> .r|.s\n",
       "rc|s       rc|  \n",
       "           r |  \n",
       "</pre>\n"
      ],
      "text/plain": [
       "<rich.jupyter.JupyterRenderable at 0x7f38d3bbc6a0>"
      ]
     },
     "metadata": {},
     "output_type": "display_data"
    },
    {
     "data": {
      "text/html": [
       "<pre style=\"white-space:pre;overflow-x:auto;line-height:normal;font-family:Menlo,'DejaVu Sans Mono',consolas,'Courier New',monospace\">.r|.s <span style=\"font-weight: bold\">&lt;</span><span style=\"color: #000000\">==</span><span style=\"font-weight: bold\">&gt;</span> .r|.s\n",
       ".c|.       cc|  \n",
       "           d |  \n",
       "</pre>\n"
      ],
      "text/plain": [
       "<rich.jupyter.JupyterRenderable at 0x7f38d3bc1fa0>"
      ]
     },
     "metadata": {},
     "output_type": "display_data"
    },
    {
     "data": {
      "text/html": [
       "<pre style=\"white-space:pre;overflow-x:auto;line-height:normal;font-family:Menlo,'DejaVu Sans Mono',consolas,'Courier New',monospace\">..|.. <span style=\"font-weight: bold\">&lt;</span><span style=\"color: #000000\">==</span><span style=\"font-weight: bold\">&gt;</span> ..|..\n",
       "rc|s       rc|  \n",
       "           r |  \n",
       "</pre>\n"
      ],
      "text/plain": [
       "<rich.jupyter.JupyterRenderable at 0x7f38d3bc1e20>"
      ]
     },
     "metadata": {},
     "output_type": "display_data"
    },
    {
     "data": {
      "text/html": [
       "<pre style=\"white-space:pre;overflow-x:auto;line-height:normal;font-family:Menlo,'DejaVu Sans Mono',consolas,'Courier New',monospace\">..|.. <span style=\"font-weight: bold\">&lt;</span><span style=\"color: #000000\">==</span><span style=\"font-weight: bold\">&gt;</span> ..|..\n",
       ".c|.       cc|  \n",
       "           d |  \n",
       "</pre>\n"
      ],
      "text/plain": [
       "<rich.jupyter.JupyterRenderable at 0x7f38d0067dc0>"
      ]
     },
     "metadata": {},
     "output_type": "display_data"
    },
    {
     "data": {
      "text/html": [
       "<pre style=\"white-space:pre;overflow-x:auto;line-height:normal;font-family:Menlo,'DejaVu Sans Mono',consolas,'Courier New',monospace\">.r|.s <span style=\"font-weight: bold\">&lt;</span><span style=\"color: #000000\">==</span><span style=\"font-weight: bold\">&gt;</span> .r|.s\n",
       ".r|.       rc|  \n",
       "           d |  \n",
       "</pre>\n"
      ],
      "text/plain": [
       "<rich.jupyter.JupyterRenderable at 0x7f38d3bc1fa0>"
      ]
     },
     "metadata": {},
     "output_type": "display_data"
    },
    {
     "data": {
      "text/html": [
       "<pre style=\"white-space:pre;overflow-x:auto;line-height:normal;font-family:Menlo,'DejaVu Sans Mono',consolas,'Courier New',monospace\">..|.. <span style=\"font-weight: bold\">&lt;</span><span style=\"color: #000000\">==</span><span style=\"font-weight: bold\">&gt;</span> ..|..\n",
       ".r|.       rc|  \n",
       "           d |  \n",
       "</pre>\n"
      ],
      "text/plain": [
       "<rich.jupyter.JupyterRenderable at 0x7f38d3bc1640>"
      ]
     },
     "metadata": {},
     "output_type": "display_data"
    }
   ],
   "source": [
    "dO, rtype = (5,3,3,3,1),'C' \n",
    "display(lt(r'Let $\\mathcal O^\\vee$ has rows $%s$'%(list(dO),)))\n",
    "O = dualBVW(dO,'C',partrc='c')\n",
    "display(lt(r'Then $\\mathcal O$ has columns $%s$'%(O,)))\n",
    "Wrepns = dualpart2Wrepn(dO,rtype)\n",
    "taus = Wrepns[0]\n",
    "tauns = Wrepns[1]\n",
    "display(lt(r'The special representation (columns) $\\tau =$ %s $\\times$  %s is paired with $\\bar\\tau = $ %s $\\times$ %s  (with $\\wp_{\\bar\\tau} = \\{(1,2)\\}$)'%(taus+tauns)))\n",
    "display(lt(r'The switching between  $\\mathrm{PBP}_C(\\mathcal O^\\vee,\\emptyset)$ and $\\mathrm{PBP}_C(\\mathcal O^\\vee, \\{(1,2)\\})$ is given by:'))\n",
    "Adrcs = [drc for drc in Wrepn2drcs(taus,'C')]\n",
    "for drc in  Adrcs:\n",
    "    nsdrc  = twist_C_nonspecial(drc)\n",
    "    res = concat_strblocks(str_dgms(drc),\"<==>\",str_dgms(nsdrc))\n",
    "    print(res)"
   ]
  },
  {
   "cell_type": "code",
   "execution_count": 4,
   "metadata": {},
   "outputs": [
    {
     "data": {
      "text/latex": [
       "Let $\\mathcal O^\\vee$ has rows $[4, 4, 4, 2]$"
      ],
      "text/plain": [
       "<IPython.core.display.Latex object>"
      ]
     },
     "metadata": {},
     "output_type": "display_data"
    },
    {
     "data": {
      "text/latex": [
       "Then $\\mathcal O$ has columns $[4, 4, 4, 2]$"
      ],
      "text/plain": [
       "<IPython.core.display.Latex object>"
      ]
     },
     "metadata": {},
     "output_type": "display_data"
    },
    {
     "data": {
      "text/latex": [
       "The special representation (columns) $\\tau =$ (2, 2) $\\times$  (2, 1) is paired with $\\bar\\tau = $ (2, 1) $\\times$ (2, 2)  (with $\\wp_{\\bar\\tau} = \\{(1,2)\\}$)"
      ],
      "text/plain": [
       "<IPython.core.display.Latex object>"
      ]
     },
     "metadata": {},
     "output_type": "display_data"
    },
    {
     "data": {
      "text/latex": [
       "The switching between  $\\mathrm{PBP}_C(\\mathcal O^\\vee,\\emptyset)$ and $\\mathrm{PBP}_C(\\mathcal O^\\vee, \\{(1,2)\\})$ is given by:"
      ],
      "text/plain": [
       "<IPython.core.display.Latex object>"
      ]
     },
     "metadata": {},
     "output_type": "display_data"
    },
    {
     "data": {
      "text/html": [
       "<pre style=\"white-space:pre;overflow-x:auto;line-height:normal;font-family:Menlo,'DejaVu Sans Mono',consolas,'Courier New',monospace\">.s|.d\n",
       "cc|d \n",
       "</pre>\n"
      ],
      "text/plain": [
       "<rich.jupyter.JupyterRenderable at 0x7f38d0226df0>"
      ]
     },
     "metadata": {},
     "output_type": "display_data"
    },
    {
     "data": {
      "text/html": [
       "<pre style=\"white-space:pre;overflow-x:auto;line-height:normal;font-family:Menlo,'DejaVu Sans Mono',consolas,'Courier New',monospace\">.s|.d\n",
       "sc|d \n",
       "</pre>\n"
      ],
      "text/plain": [
       "<rich.jupyter.JupyterRenderable at 0x7f38d0338f40>"
      ]
     },
     "metadata": {},
     "output_type": "display_data"
    },
    {
     "data": {
      "text/html": [
       "<pre style=\"white-space:pre;overflow-x:auto;line-height:normal;font-family:Menlo,'DejaVu Sans Mono',consolas,'Courier New',monospace\">.s|.r\n",
       "cc|d \n",
       "</pre>\n"
      ],
      "text/plain": [
       "<rich.jupyter.JupyterRenderable at 0x7f38d0338f40>"
      ]
     },
     "metadata": {},
     "output_type": "display_data"
    },
    {
     "data": {
      "text/html": [
       "<pre style=\"white-space:pre;overflow-x:auto;line-height:normal;font-family:Menlo,'DejaVu Sans Mono',consolas,'Courier New',monospace\">..|..\n",
       "cc|d \n",
       "</pre>\n"
      ],
      "text/plain": [
       "<rich.jupyter.JupyterRenderable at 0x7f38d0338f40>"
      ]
     },
     "metadata": {},
     "output_type": "display_data"
    },
    {
     "data": {
      "text/html": [
       "<pre style=\"white-space:pre;overflow-x:auto;line-height:normal;font-family:Menlo,'DejaVu Sans Mono',consolas,'Courier New',monospace\">.s|.r\n",
       "sc|d \n",
       "</pre>\n"
      ],
      "text/plain": [
       "<rich.jupyter.JupyterRenderable at 0x7f38d0338f40>"
      ]
     },
     "metadata": {},
     "output_type": "display_data"
    },
    {
     "data": {
      "text/html": [
       "<pre style=\"white-space:pre;overflow-x:auto;line-height:normal;font-family:Menlo,'DejaVu Sans Mono',consolas,'Courier New',monospace\">..|..\n",
       "sc|d \n",
       "</pre>\n"
      ],
      "text/plain": [
       "<rich.jupyter.JupyterRenderable at 0x7f38d0338f40>"
      ]
     },
     "metadata": {},
     "output_type": "display_data"
    },
    {
     "data": {
      "text/html": [
       "<pre style=\"white-space:pre;overflow-x:auto;line-height:normal;font-family:Menlo,'DejaVu Sans Mono',consolas,'Courier New',monospace\">.s|.d\n",
       "cc|r \n",
       "</pre>\n"
      ],
      "text/plain": [
       "<rich.jupyter.JupyterRenderable at 0x7f38d0338f40>"
      ]
     },
     "metadata": {},
     "output_type": "display_data"
    },
    {
     "data": {
      "text/html": [
       "<pre style=\"white-space:pre;overflow-x:auto;line-height:normal;font-family:Menlo,'DejaVu Sans Mono',consolas,'Courier New',monospace\">.s|.d\n",
       "sc|r \n",
       "</pre>\n"
      ],
      "text/plain": [
       "<rich.jupyter.JupyterRenderable at 0x7f38d0338f40>"
      ]
     },
     "metadata": {},
     "output_type": "display_data"
    },
    {
     "data": {
      "text/html": [
       "<pre style=\"white-space:pre;overflow-x:auto;line-height:normal;font-family:Menlo,'DejaVu Sans Mono',consolas,'Courier New',monospace\">.s|.d\n",
       ".c|. \n",
       "</pre>\n"
      ],
      "text/plain": [
       "<rich.jupyter.JupyterRenderable at 0x7f38d0338f40>"
      ]
     },
     "metadata": {},
     "output_type": "display_data"
    },
    {
     "data": {
      "text/html": [
       "<pre style=\"white-space:pre;overflow-x:auto;line-height:normal;font-family:Menlo,'DejaVu Sans Mono',consolas,'Courier New',monospace\">.s|.d\n",
       ".s|. \n",
       "</pre>\n"
      ],
      "text/plain": [
       "<rich.jupyter.JupyterRenderable at 0x7f38d0338f40>"
      ]
     },
     "metadata": {},
     "output_type": "display_data"
    },
    {
     "data": {
      "text/html": [
       "<pre style=\"white-space:pre;overflow-x:auto;line-height:normal;font-family:Menlo,'DejaVu Sans Mono',consolas,'Courier New',monospace\">.s|.r\n",
       "cc|r \n",
       "</pre>\n"
      ],
      "text/plain": [
       "<rich.jupyter.JupyterRenderable at 0x7f38d0338f40>"
      ]
     },
     "metadata": {},
     "output_type": "display_data"
    },
    {
     "data": {
      "text/html": [
       "<pre style=\"white-space:pre;overflow-x:auto;line-height:normal;font-family:Menlo,'DejaVu Sans Mono',consolas,'Courier New',monospace\">..|..\n",
       "cc|r \n",
       "</pre>\n"
      ],
      "text/plain": [
       "<rich.jupyter.JupyterRenderable at 0x7f38d0338f40>"
      ]
     },
     "metadata": {},
     "output_type": "display_data"
    },
    {
     "data": {
      "text/html": [
       "<pre style=\"white-space:pre;overflow-x:auto;line-height:normal;font-family:Menlo,'DejaVu Sans Mono',consolas,'Courier New',monospace\">.s|.r\n",
       "sc|r \n",
       "</pre>\n"
      ],
      "text/plain": [
       "<rich.jupyter.JupyterRenderable at 0x7f38d0338f40>"
      ]
     },
     "metadata": {},
     "output_type": "display_data"
    },
    {
     "data": {
      "text/html": [
       "<pre style=\"white-space:pre;overflow-x:auto;line-height:normal;font-family:Menlo,'DejaVu Sans Mono',consolas,'Courier New',monospace\">.s|.r\n",
       ".c|. \n",
       "</pre>\n"
      ],
      "text/plain": [
       "<rich.jupyter.JupyterRenderable at 0x7f38d0338f40>"
      ]
     },
     "metadata": {},
     "output_type": "display_data"
    },
    {
     "data": {
      "text/html": [
       "<pre style=\"white-space:pre;overflow-x:auto;line-height:normal;font-family:Menlo,'DejaVu Sans Mono',consolas,'Courier New',monospace\">..|..\n",
       "sc|r \n",
       "</pre>\n"
      ],
      "text/plain": [
       "<rich.jupyter.JupyterRenderable at 0x7f38d0338f40>"
      ]
     },
     "metadata": {},
     "output_type": "display_data"
    },
    {
     "data": {
      "text/html": [
       "<pre style=\"white-space:pre;overflow-x:auto;line-height:normal;font-family:Menlo,'DejaVu Sans Mono',consolas,'Courier New',monospace\">..|..\n",
       ".c|. \n",
       "</pre>\n"
      ],
      "text/plain": [
       "<rich.jupyter.JupyterRenderable at 0x7f38d0338f40>"
      ]
     },
     "metadata": {},
     "output_type": "display_data"
    },
    {
     "data": {
      "text/html": [
       "<pre style=\"white-space:pre;overflow-x:auto;line-height:normal;font-family:Menlo,'DejaVu Sans Mono',consolas,'Courier New',monospace\">.s|.r\n",
       ".s|. \n",
       "</pre>\n"
      ],
      "text/plain": [
       "<rich.jupyter.JupyterRenderable at 0x7f38d0338f40>"
      ]
     },
     "metadata": {},
     "output_type": "display_data"
    },
    {
     "data": {
      "text/html": [
       "<pre style=\"white-space:pre;overflow-x:auto;line-height:normal;font-family:Menlo,'DejaVu Sans Mono',consolas,'Courier New',monospace\">..|..\n",
       ".s|. \n",
       "</pre>\n"
      ],
      "text/plain": [
       "<rich.jupyter.JupyterRenderable at 0x7f38d0338f40>"
      ]
     },
     "metadata": {},
     "output_type": "display_data"
    }
   ],
   "source": [
    "dO, rtype = (4,4,4,2),'M' \n",
    "display(lt(r'Let $\\mathcal O^\\vee$ has rows $%s$'%(list(dO),)))\n",
    "O = dualBVW(dO,rtype,partrc='c')\n",
    "display(lt(r'Then $\\mathcal O$ has columns $%s$'%(O,)))\n",
    "Wrepns = dualpart2Wrepn(dO,rtype)\n",
    "taus = Wrepns[0]\n",
    "tauns = Wrepns[1]\n",
    "display(lt(r'The special representation (columns) $\\tau =$ %s $\\times$  %s is paired with $\\bar\\tau = $ %s $\\times$ %s  (with $\\wp_{\\bar\\tau} = \\{(1,2)\\}$)'%(taus+tauns)))\n",
    "display(lt(r'The switching between  $\\mathrm{PBP}_C(\\mathcal O^\\vee,\\emptyset)$ and $\\mathrm{PBP}_C(\\mathcal O^\\vee, \\{(1,2)\\})$ is given by:'))\n",
    "Adrcs = [drc for drc in Wrepn2drcs(taus,rtype)]\n",
    "for drc in  Adrcs:\n",
    "    #nsdrc  = twist_M_nonspecial(drc)\n",
    "    #res = concat_strblocks(str_dgms(drc),\"<==>\",str_dgms(nsdrc))\n",
    "    print(str_dgms(drc))"
   ]
  },
  {
   "cell_type": "code",
   "execution_count": 5,
   "metadata": {},
   "outputs": [
    {
     "data": {
      "text/latex": [
       "Let $\\mathcal O^\\vee$ has rows $[13, 11, 5, 5, 5, 5, 3, 3, 1, 1]$"
      ],
      "text/plain": [
       "<IPython.core.display.Latex object>"
      ]
     },
     "metadata": {},
     "output_type": "display_data"
    },
    {
     "data": {
      "text/latex": [
       "Then $\\mathcal O$ has columns $[14, 10, 6, 5, 5, 4, 4, 2, 2]$"
      ],
      "text/plain": [
       "<IPython.core.display.Latex object>"
      ]
     },
     "metadata": {},
     "output_type": "display_data"
    },
    {
     "data": {
      "text/html": [
       "<pre style=\"white-space:pre;overflow-x:auto;line-height:normal;font-family:Menlo,'DejaVu Sans Mono',consolas,'Courier New',monospace\"><span style=\"font-weight: bold\">{</span>\n",
       "    <span style=\"font-weight: bold\">((</span><span style=\"color: #000080; font-weight: bold\">7</span>, <span style=\"color: #000080; font-weight: bold\">3</span>, <span style=\"color: #000080; font-weight: bold\">3</span>, <span style=\"color: #000080; font-weight: bold\">3</span>, <span style=\"color: #000080; font-weight: bold\">1</span><span style=\"font-weight: bold\">)</span>, <span style=\"font-weight: bold\">(</span><span style=\"color: #000080; font-weight: bold\">5</span>, <span style=\"color: #000080; font-weight: bold\">2</span>, <span style=\"color: #000080; font-weight: bold\">1</span>, <span style=\"color: #000080; font-weight: bold\">1</span><span style=\"font-weight: bold\">))</span>,\n",
       "    <span style=\"font-weight: bold\">((</span><span style=\"color: #000080; font-weight: bold\">7</span>, <span style=\"color: #000080; font-weight: bold\">3</span>, <span style=\"color: #000080; font-weight: bold\">3</span>, <span style=\"color: #000080; font-weight: bold\">2</span>, <span style=\"color: #000080; font-weight: bold\">1</span><span style=\"font-weight: bold\">)</span>, <span style=\"font-weight: bold\">(</span><span style=\"color: #000080; font-weight: bold\">5</span>, <span style=\"color: #000080; font-weight: bold\">2</span>, <span style=\"color: #000080; font-weight: bold\">2</span>, <span style=\"color: #000080; font-weight: bold\">1</span><span style=\"font-weight: bold\">))</span>,\n",
       "    <span style=\"font-weight: bold\">((</span><span style=\"color: #000080; font-weight: bold\">7</span>, <span style=\"color: #000080; font-weight: bold\">6</span>, <span style=\"color: #000080; font-weight: bold\">3</span>, <span style=\"color: #000080; font-weight: bold\">2</span>, <span style=\"color: #000080; font-weight: bold\">1</span><span style=\"font-weight: bold\">)</span>, <span style=\"font-weight: bold\">(</span><span style=\"color: #000080; font-weight: bold\">2</span>, <span style=\"color: #000080; font-weight: bold\">2</span>, <span style=\"color: #000080; font-weight: bold\">2</span>, <span style=\"color: #000080; font-weight: bold\">1</span><span style=\"font-weight: bold\">))</span>,\n",
       "    <span style=\"font-weight: bold\">((</span><span style=\"color: #000080; font-weight: bold\">7</span>, <span style=\"color: #000080; font-weight: bold\">6</span>, <span style=\"color: #000080; font-weight: bold\">3</span>, <span style=\"color: #000080; font-weight: bold\">2</span>, <span style=\"color: #000080; font-weight: bold\">2</span><span style=\"font-weight: bold\">)</span>, <span style=\"font-weight: bold\">(</span><span style=\"color: #000080; font-weight: bold\">2</span>, <span style=\"color: #000080; font-weight: bold\">2</span>, <span style=\"color: #000080; font-weight: bold\">2</span><span style=\"font-weight: bold\">))</span>,\n",
       "    <span style=\"font-weight: bold\">((</span><span style=\"color: #000080; font-weight: bold\">7</span>, <span style=\"color: #000080; font-weight: bold\">6</span>, <span style=\"color: #000080; font-weight: bold\">3</span>, <span style=\"color: #000080; font-weight: bold\">3</span>, <span style=\"color: #000080; font-weight: bold\">2</span><span style=\"font-weight: bold\">)</span>, <span style=\"font-weight: bold\">(</span><span style=\"color: #000080; font-weight: bold\">2</span>, <span style=\"color: #000080; font-weight: bold\">2</span>, <span style=\"color: #000080; font-weight: bold\">1</span><span style=\"font-weight: bold\">))</span>,\n",
       "    <span style=\"font-weight: bold\">((</span><span style=\"color: #000080; font-weight: bold\">7</span>, <span style=\"color: #000080; font-weight: bold\">3</span>, <span style=\"color: #000080; font-weight: bold\">3</span>, <span style=\"color: #000080; font-weight: bold\">2</span>, <span style=\"color: #000080; font-weight: bold\">2</span><span style=\"font-weight: bold\">)</span>, <span style=\"font-weight: bold\">(</span><span style=\"color: #000080; font-weight: bold\">5</span>, <span style=\"color: #000080; font-weight: bold\">2</span>, <span style=\"color: #000080; font-weight: bold\">2</span><span style=\"font-weight: bold\">))</span>,\n",
       "    <span style=\"font-weight: bold\">((</span><span style=\"color: #000080; font-weight: bold\">7</span>, <span style=\"color: #000080; font-weight: bold\">6</span>, <span style=\"color: #000080; font-weight: bold\">3</span>, <span style=\"color: #000080; font-weight: bold\">3</span>, <span style=\"color: #000080; font-weight: bold\">1</span><span style=\"font-weight: bold\">)</span>, <span style=\"font-weight: bold\">(</span><span style=\"color: #000080; font-weight: bold\">2</span>, <span style=\"color: #000080; font-weight: bold\">2</span>, <span style=\"color: #000080; font-weight: bold\">1</span>, <span style=\"color: #000080; font-weight: bold\">1</span><span style=\"font-weight: bold\">))</span>,\n",
       "    <span style=\"font-weight: bold\">((</span><span style=\"color: #000080; font-weight: bold\">7</span>, <span style=\"color: #000080; font-weight: bold\">3</span>, <span style=\"color: #000080; font-weight: bold\">3</span>, <span style=\"color: #000080; font-weight: bold\">3</span>, <span style=\"color: #000080; font-weight: bold\">2</span><span style=\"font-weight: bold\">)</span>, <span style=\"font-weight: bold\">(</span><span style=\"color: #000080; font-weight: bold\">5</span>, <span style=\"color: #000080; font-weight: bold\">2</span>, <span style=\"color: #000080; font-weight: bold\">1</span><span style=\"font-weight: bold\">))</span>\n",
       "<span style=\"font-weight: bold\">}</span>\n",
       "<span style=\"color: #000080; font-weight: bold\">8</span>\n",
       "</pre>\n"
      ],
      "text/plain": [
       "<rich.jupyter.JupyterRenderable at 0x7f38d0333610>"
      ]
     },
     "metadata": {},
     "output_type": "display_data"
    },
    {
     "data": {
      "text/html": [
       "<pre style=\"white-space:pre;overflow-x:auto;line-height:normal;font-family:Menlo,'DejaVu Sans Mono',consolas,'Courier New',monospace\">WrepnB is a subset of Wrepns by Springer theory: <span style=\"color: #00ff00; font-style: italic\">True</span>\n",
       "</pre>\n"
      ],
      "text/plain": [
       "<rich.jupyter.JupyterRenderable at 0x7f38d00282e0>"
      ]
     },
     "metadata": {},
     "output_type": "display_data"
    },
    {
     "data": {
      "text/html": [
       "<pre style=\"white-space:pre;overflow-x:auto;line-height:normal;font-family:Menlo,'DejaVu Sans Mono',consolas,'Courier New',monospace\">Type D dual-partition: <span style=\"font-weight: bold\">(</span><span style=\"color: #000080; font-weight: bold\">13</span>, <span style=\"color: #000080; font-weight: bold\">11</span>, <span style=\"color: #000080; font-weight: bold\">5</span>, <span style=\"color: #000080; font-weight: bold\">5</span>, <span style=\"color: #000080; font-weight: bold\">5</span>, <span style=\"color: #000080; font-weight: bold\">5</span>, <span style=\"color: #000080; font-weight: bold\">3</span>, <span style=\"color: #000080; font-weight: bold\">3</span>, <span style=\"color: #000080; font-weight: bold\">1</span>, <span style=\"color: #000080; font-weight: bold\">1</span><span style=\"font-weight: bold\">)</span>\n",
       "</pre>\n"
      ],
      "text/plain": [
       "<rich.jupyter.JupyterRenderable at 0x7f38d0333610>"
      ]
     },
     "metadata": {},
     "output_type": "display_data"
    },
    {
     "data": {
      "text/html": [
       "<pre style=\"white-space:pre;overflow-x:auto;line-height:normal;font-family:Menlo,'DejaVu Sans Mono',consolas,'Courier New',monospace\"><span style=\"font-weight: bold\">[</span><span style=\"color: #000080; font-weight: bold\">1024</span>, <span style=\"color: #000080; font-weight: bold\">1024</span>, <span style=\"color: #000080; font-weight: bold\">1024</span>, <span style=\"color: #000080; font-weight: bold\">1024</span>, <span style=\"color: #000080; font-weight: bold\">1024</span>, <span style=\"color: #000080; font-weight: bold\">1024</span>, <span style=\"color: #000080; font-weight: bold\">1024</span>, <span style=\"color: #000080; font-weight: bold\">1024</span><span style=\"font-weight: bold\">]</span>\n",
       "</pre>\n"
      ],
      "text/plain": [
       "<rich.jupyter.JupyterRenderable at 0x7f38d0333610>"
      ]
     },
     "metadata": {},
     "output_type": "display_data"
    },
    {
     "data": {
      "text/html": [
       "<pre style=\"white-space:pre;overflow-x:auto;line-height:normal;font-family:Menlo,'DejaVu Sans Mono',consolas,'Courier New',monospace\">Number of drc diagrams: <span style=\"color: #000080; font-weight: bold\">8192</span>\n",
       "</pre>\n"
      ],
      "text/plain": [
       "<rich.jupyter.JupyterRenderable at 0x7f38d0333610>"
      ]
     },
     "metadata": {},
     "output_type": "display_data"
    },
    {
     "data": {
      "text/html": [
       "<pre style=\"white-space:pre;overflow-x:auto;line-height:normal;font-family:Menlo,'DejaVu Sans Mono',consolas,'Courier New',monospace\"><span style=\"color: #000080; font-weight: bold\">8192</span>\n",
       "</pre>\n"
      ],
      "text/plain": [
       "<rich.jupyter.JupyterRenderable at 0x7f38d00283d0>"
      ]
     },
     "metadata": {},
     "output_type": "display_data"
    },
    {
     "data": {
      "text/html": [
       "<pre style=\"white-space:pre;overflow-x:auto;line-height:normal;font-family:Menlo,'DejaVu Sans Mono',consolas,'Courier New',monospace\">Type D partition: <span style=\"font-weight: bold\">(</span><span style=\"color: #000080; font-weight: bold\">13</span>, <span style=\"color: #000080; font-weight: bold\">11</span>, <span style=\"color: #000080; font-weight: bold\">5</span>, <span style=\"color: #000080; font-weight: bold\">5</span>, <span style=\"color: #000080; font-weight: bold\">5</span>, <span style=\"color: #000080; font-weight: bold\">5</span>, <span style=\"color: #000080; font-weight: bold\">3</span>, <span style=\"color: #000080; font-weight: bold\">3</span>, <span style=\"color: #000080; font-weight: bold\">1</span>, <span style=\"color: #000080; font-weight: bold\">1</span><span style=\"font-weight: bold\">)</span>\n",
       "</pre>\n"
      ],
      "text/plain": [
       "<rich.jupyter.JupyterRenderable at 0x7f38d0333610>"
      ]
     },
     "metadata": {},
     "output_type": "display_data"
    },
    {
     "data": {
      "text/html": [
       "<pre style=\"white-space:pre;overflow-x:auto;line-height:normal;font-family:Menlo,'DejaVu Sans Mono',consolas,'Courier New',monospace\"><span style=\"font-weight: bold\">[</span>\n",
       "    <span style=\"color: #000080; font-weight: bold\">0</span>,\n",
       "    <span style=\"color: #000080; font-weight: bold\">0</span>,\n",
       "    <span style=\"color: #000080; font-weight: bold\">0</span>,\n",
       "    <span style=\"color: #000080; font-weight: bold\">0</span>,\n",
       "    <span style=\"color: #000080; font-weight: bold\">0</span>,\n",
       "    <span style=\"color: #000080; font-weight: bold\">0</span>,\n",
       "    <span style=\"color: #000080; font-weight: bold\">0</span>,\n",
       "    <span style=\"color: #000080; font-weight: bold\">0</span>,\n",
       "    <span style=\"color: #000080; font-weight: bold\">0</span>,\n",
       "    <span style=\"color: #000080; font-weight: bold\">0</span>,\n",
       "    <span style=\"color: #000080; font-weight: bold\">0</span>,\n",
       "    <span style=\"color: #000080; font-weight: bold\">0</span>,\n",
       "    <span style=\"color: #000080; font-weight: bold\">0</span>,\n",
       "    <span style=\"color: #000080; font-weight: bold\">0</span>,\n",
       "    <span style=\"color: #000080; font-weight: bold\">0</span>,\n",
       "    <span style=\"color: #000080; font-weight: bold\">0</span>,\n",
       "    <span style=\"color: #000080; font-weight: bold\">0</span>,\n",
       "    <span style=\"color: #000080; font-weight: bold\">0</span>,\n",
       "    <span style=\"color: #000080; font-weight: bold\">0</span>,\n",
       "    <span style=\"color: #000080; font-weight: bold\">0</span>,\n",
       "    <span style=\"color: #000080; font-weight: bold\">0</span>,\n",
       "    <span style=\"color: #000080; font-weight: bold\">0</span>,\n",
       "    <span style=\"color: #000080; font-weight: bold\">0</span>,\n",
       "    <span style=\"color: #000080; font-weight: bold\">0</span>,\n",
       "    <span style=\"color: #000080; font-weight: bold\">0</span>,\n",
       "    <span style=\"color: #000080; font-weight: bold\">0</span>,\n",
       "    <span style=\"color: #000080; font-weight: bold\">0</span>,\n",
       "    <span style=\"color: #000080; font-weight: bold\">0</span>,\n",
       "    <span style=\"color: #000080; font-weight: bold\">0</span>,\n",
       "    <span style=\"color: #000080; font-weight: bold\">0</span>,\n",
       "    <span style=\"color: #000080; font-weight: bold\">0</span>,\n",
       "    <span style=\"color: #000080; font-weight: bold\">0</span>,\n",
       "    <span style=\"color: #000080; font-weight: bold\">0</span>,\n",
       "    <span style=\"color: #000080; font-weight: bold\">0</span>,\n",
       "    <span style=\"color: #000080; font-weight: bold\">0</span>,\n",
       "    <span style=\"color: #000080; font-weight: bold\">0</span>,\n",
       "    <span style=\"color: #000080; font-weight: bold\">0</span>,\n",
       "    <span style=\"color: #000080; font-weight: bold\">0</span>,\n",
       "    <span style=\"color: #000080; font-weight: bold\">0</span>,\n",
       "    <span style=\"color: #000080; font-weight: bold\">0</span>,\n",
       "    <span style=\"color: #000080; font-weight: bold\">0</span>,\n",
       "    <span style=\"color: #000080; font-weight: bold\">0</span>,\n",
       "    <span style=\"color: #000080; font-weight: bold\">0</span>,\n",
       "    <span style=\"color: #000080; font-weight: bold\">0</span>,\n",
       "    <span style=\"color: #000080; font-weight: bold\">0</span>,\n",
       "    <span style=\"color: #000080; font-weight: bold\">0</span>,\n",
       "    <span style=\"color: #000080; font-weight: bold\">0</span>,\n",
       "    <span style=\"color: #000080; font-weight: bold\">0</span>,\n",
       "    <span style=\"color: #000080; font-weight: bold\">0</span>,\n",
       "    <span style=\"color: #000080; font-weight: bold\">1024</span>,\n",
       "    <span style=\"color: #000080; font-weight: bold\">1024</span>,\n",
       "    <span style=\"color: #000080; font-weight: bold\">0</span>,\n",
       "    <span style=\"color: #000080; font-weight: bold\">1024</span>,\n",
       "    <span style=\"color: #000080; font-weight: bold\">1024</span>,\n",
       "    <span style=\"color: #000080; font-weight: bold\">0</span>,\n",
       "    <span style=\"color: #000080; font-weight: bold\">0</span>,\n",
       "    <span style=\"color: #000080; font-weight: bold\">0</span>,\n",
       "    <span style=\"color: #000080; font-weight: bold\">0</span>,\n",
       "    <span style=\"color: #000080; font-weight: bold\">0</span>,\n",
       "    <span style=\"color: #000080; font-weight: bold\">1024</span>,\n",
       "    <span style=\"color: #000080; font-weight: bold\">1024</span>,\n",
       "    <span style=\"color: #000080; font-weight: bold\">0</span>,\n",
       "    <span style=\"color: #000080; font-weight: bold\">1024</span>,\n",
       "    <span style=\"color: #000080; font-weight: bold\">1024</span>,\n",
       "    <span style=\"color: #000080; font-weight: bold\">0</span>,\n",
       "    <span style=\"color: #000080; font-weight: bold\">0</span>,\n",
       "    <span style=\"color: #000080; font-weight: bold\">0</span>,\n",
       "    <span style=\"color: #000080; font-weight: bold\">0</span>,\n",
       "    <span style=\"color: #000080; font-weight: bold\">0</span>,\n",
       "    <span style=\"color: #000080; font-weight: bold\">0</span>\n",
       "<span style=\"font-weight: bold\">]</span>\n",
       "</pre>\n"
      ],
      "text/plain": [
       "<rich.jupyter.JupyterRenderable at 0x7f38d0333610>"
      ]
     },
     "metadata": {},
     "output_type": "display_data"
    },
    {
     "data": {
      "text/html": [
       "<pre style=\"white-space:pre;overflow-x:auto;line-height:normal;font-family:Menlo,'DejaVu Sans Mono',consolas,'Courier New',monospace\">Number of drc diagrams: <span style=\"color: #000080; font-weight: bold\">8192</span>\n",
       "</pre>\n"
      ],
      "text/plain": [
       "<rich.jupyter.JupyterRenderable at 0x7f38d0333610>"
      ]
     },
     "metadata": {},
     "output_type": "display_data"
    },
    {
     "data": {
      "text/html": [
       "<pre style=\"white-space:pre;overflow-x:auto;line-height:normal;font-family:Menlo,'DejaVu Sans Mono',consolas,'Courier New',monospace\"><span style=\"color: #000080; font-weight: bold\">8192</span>\n",
       "</pre>\n"
      ],
      "text/plain": [
       "<rich.jupyter.JupyterRenderable at 0x7f38d00285b0>"
      ]
     },
     "metadata": {},
     "output_type": "display_data"
    }
   ],
   "source": [
    "## example of good parity dual orbit\n",
    "\n",
    "dO, rtype = (13,11,5,5,5,5,3,3,1,1),'D' \n",
    "display(lt(r'Let $\\mathcal O^\\vee$ has rows $%s$'%(list(dO),)))\n",
    "O = dualBVW(dO,rtype,partrc='c')\n",
    "display(lt(r'Then $\\mathcal O$ has columns $%s$'%(O,)))\n",
    "Wrepns = springer_part2family(dO,rtype)\n",
    "WrepnsB = dualpart2Wrepn(dO,rtype)\n",
    "Wrepns, WrepnsB = set(Wrepns), set(WrepnsB)\n",
    "#print(Wrepns, len(Wrepns))\n",
    "print(WrepnsB, len(WrepnsB))\n",
    "print(\"WrepnB is a subset of Wrepns by Springer theory:\", WrepnsB.issubset(Wrepns))\n",
    "\n",
    "\n",
    "AdrcSp = dpart2drc(dO,rtype)\n",
    "print(len(AdrcSp))\n",
    "\n",
    "AdrcSp = dpart2pbp(dO,rtype)\n",
    "print(len(AdrcSp))\n"
   ]
  },
  {
   "cell_type": "code",
   "execution_count": 6,
   "metadata": {},
   "outputs": [
    {
     "data": {
      "text/latex": [
       "Let $\\mathcal O^\\vee$ has rows $[6, 6, 4, 4, 4, 4, 4, 2, 2, 2]$"
      ],
      "text/plain": [
       "<IPython.core.display.Latex object>"
      ]
     },
     "metadata": {},
     "output_type": "display_data"
    },
    {
     "data": {
      "text/latex": [
       "Then $\\mathcal O$ has columns $[6, 6, 4, 4, 4, 4, 4, 2, 2, 2]$"
      ],
      "text/plain": [
       "<IPython.core.display.Latex object>"
      ]
     },
     "metadata": {},
     "output_type": "display_data"
    },
    {
     "data": {
      "text/html": [
       "<pre style=\"white-space:pre;overflow-x:auto;line-height:normal;font-family:Menlo,'DejaVu Sans Mono',consolas,'Courier New',monospace\"><span style=\"font-weight: bold\">{((</span><span style=\"color: #000080; font-weight: bold\">3</span>, <span style=\"color: #000080; font-weight: bold\">2</span>, <span style=\"color: #000080; font-weight: bold\">2</span>, <span style=\"color: #000080; font-weight: bold\">2</span>, <span style=\"color: #000080; font-weight: bold\">1</span><span style=\"font-weight: bold\">)</span>, <span style=\"font-weight: bold\">(</span><span style=\"color: #000080; font-weight: bold\">2</span>, <span style=\"color: #000080; font-weight: bold\">1</span>, <span style=\"color: #000080; font-weight: bold\">1</span><span style=\"font-weight: bold\">))</span>, <span style=\"font-weight: bold\">((</span><span style=\"color: #000080; font-weight: bold\">3</span>, <span style=\"color: #000080; font-weight: bold\">3</span>, <span style=\"color: #000080; font-weight: bold\">2</span>, <span style=\"color: #000080; font-weight: bold\">2</span>, <span style=\"color: #000080; font-weight: bold\">1</span><span style=\"font-weight: bold\">)</span>, <span style=\"font-weight: bold\">(</span><span style=\"color: #000080; font-weight: bold\">1</span>, <span style=\"color: #000080; font-weight: bold\">1</span>, <span style=\"color: #000080; font-weight: bold\">1</span><span style=\"font-weight: bold\">))}</span>\n",
       "<span style=\"color: #000080; font-weight: bold\">2</span>\n",
       "</pre>\n"
      ],
      "text/plain": [
       "<rich.jupyter.JupyterRenderable at 0x7f38d0028d60>"
      ]
     },
     "metadata": {},
     "output_type": "display_data"
    },
    {
     "data": {
      "text/html": [
       "<pre style=\"white-space:pre;overflow-x:auto;line-height:normal;font-family:Menlo,'DejaVu Sans Mono',consolas,'Courier New',monospace\">WrepnB is a subset of Wrepns by Springer theory: <span style=\"color: #ff0000; font-style: italic\">False</span>\n",
       "</pre>\n"
      ],
      "text/plain": [
       "<rich.jupyter.JupyterRenderable at 0x7f38d0028f70>"
      ]
     },
     "metadata": {},
     "output_type": "display_data"
    },
    {
     "data": {
      "text/html": [
       "<pre style=\"white-space:pre;overflow-x:auto;line-height:normal;font-family:Menlo,'DejaVu Sans Mono',consolas,'Courier New',monospace\">Type D dual-partition: <span style=\"font-weight: bold\">(</span><span style=\"color: #000080; font-weight: bold\">6</span>, <span style=\"color: #000080; font-weight: bold\">6</span>, <span style=\"color: #000080; font-weight: bold\">4</span>, <span style=\"color: #000080; font-weight: bold\">4</span>, <span style=\"color: #000080; font-weight: bold\">4</span>, <span style=\"color: #000080; font-weight: bold\">4</span>, <span style=\"color: #000080; font-weight: bold\">4</span>, <span style=\"color: #000080; font-weight: bold\">2</span>, <span style=\"color: #000080; font-weight: bold\">2</span>, <span style=\"color: #000080; font-weight: bold\">2</span><span style=\"font-weight: bold\">)</span>\n",
       "</pre>\n"
      ],
      "text/plain": [
       "<rich.jupyter.JupyterRenderable at 0x7f38d0028d60>"
      ]
     },
     "metadata": {},
     "output_type": "display_data"
    },
    {
     "data": {
      "text/html": [
       "<pre style=\"white-space:pre;overflow-x:auto;line-height:normal;font-family:Menlo,'DejaVu Sans Mono',consolas,'Courier New',monospace\"><span style=\"font-weight: bold\">[</span><span style=\"color: #000080; font-weight: bold\">304</span>, <span style=\"color: #000080; font-weight: bold\">304</span><span style=\"font-weight: bold\">]</span>\n",
       "</pre>\n"
      ],
      "text/plain": [
       "<rich.jupyter.JupyterRenderable at 0x7f38d0028580>"
      ]
     },
     "metadata": {},
     "output_type": "display_data"
    },
    {
     "data": {
      "text/html": [
       "<pre style=\"white-space:pre;overflow-x:auto;line-height:normal;font-family:Menlo,'DejaVu Sans Mono',consolas,'Courier New',monospace\">Number of drc diagrams: <span style=\"color: #000080; font-weight: bold\">608</span>\n",
       "</pre>\n"
      ],
      "text/plain": [
       "<rich.jupyter.JupyterRenderable at 0x7f38d0028d60>"
      ]
     },
     "metadata": {},
     "output_type": "display_data"
    },
    {
     "data": {
      "text/html": [
       "<pre style=\"white-space:pre;overflow-x:auto;line-height:normal;font-family:Menlo,'DejaVu Sans Mono',consolas,'Courier New',monospace\"><span style=\"color: #000080; font-weight: bold\">608</span>\n",
       "</pre>\n"
      ],
      "text/plain": [
       "<rich.jupyter.JupyterRenderable at 0x7f38d0028f70>"
      ]
     },
     "metadata": {},
     "output_type": "display_data"
    },
    {
     "data": {
      "text/html": [
       "<pre style=\"white-space:pre;overflow-x:auto;line-height:normal;font-family:Menlo,'DejaVu Sans Mono',consolas,'Courier New',monospace\">Type D partition: <span style=\"font-weight: bold\">(</span><span style=\"color: #000080; font-weight: bold\">6</span>, <span style=\"color: #000080; font-weight: bold\">6</span>, <span style=\"color: #000080; font-weight: bold\">4</span>, <span style=\"color: #000080; font-weight: bold\">4</span>, <span style=\"color: #000080; font-weight: bold\">4</span>, <span style=\"color: #000080; font-weight: bold\">4</span>, <span style=\"color: #000080; font-weight: bold\">4</span>, <span style=\"color: #000080; font-weight: bold\">2</span>, <span style=\"color: #000080; font-weight: bold\">2</span>, <span style=\"color: #000080; font-weight: bold\">2</span><span style=\"font-weight: bold\">)</span>\n",
       "</pre>\n"
      ],
      "text/plain": [
       "<rich.jupyter.JupyterRenderable at 0x7f38d0028d60>"
      ]
     },
     "metadata": {},
     "output_type": "display_data"
    },
    {
     "data": {
      "text/html": [
       "<pre style=\"white-space:pre;overflow-x:auto;line-height:normal;font-family:Menlo,'DejaVu Sans Mono',consolas,'Courier New',monospace\"><span style=\"font-weight: bold\">[</span><span style=\"color: #000080; font-weight: bold\">0</span>, <span style=\"color: #000080; font-weight: bold\">4</span><span style=\"font-weight: bold\">]</span>\n",
       "</pre>\n"
      ],
      "text/plain": [
       "<rich.jupyter.JupyterRenderable at 0x7f38d0028d60>"
      ]
     },
     "metadata": {},
     "output_type": "display_data"
    },
    {
     "data": {
      "text/html": [
       "<pre style=\"white-space:pre;overflow-x:auto;line-height:normal;font-family:Menlo,'DejaVu Sans Mono',consolas,'Courier New',monospace\">Number of drc diagrams: <span style=\"color: #000080; font-weight: bold\">4</span>\n",
       "</pre>\n"
      ],
      "text/plain": [
       "<rich.jupyter.JupyterRenderable at 0x7f38d023b250>"
      ]
     },
     "metadata": {},
     "output_type": "display_data"
    },
    {
     "data": {
      "text/html": [
       "<pre style=\"white-space:pre;overflow-x:auto;line-height:normal;font-family:Menlo,'DejaVu Sans Mono',consolas,'Courier New',monospace\"><span style=\"color: #000080; font-weight: bold\">4</span>\n",
       "</pre>\n"
      ],
      "text/plain": [
       "<rich.jupyter.JupyterRenderable at 0x7f38d0028f70>"
      ]
     },
     "metadata": {},
     "output_type": "display_data"
    }
   ],
   "source": [
    "## example of good parity dual orbit\n",
    "\n",
    "dO, drtype = (6,6,4,4,4,4,4,2,2,2),'C' \n",
    "display(lt(r'Let $\\mathcal O^\\vee$ has rows $%s$'%(list(dO),)))\n",
    "O = dualBVW(dO,rtype,partrc='c')\n",
    "display(lt(r'Then $\\mathcal O$ has columns $%s$'%(O,)))\n",
    "Wrepns = springer_part2family(dO,rtype)\n",
    "WrepnsB = dualpart2Wrepn(dO,rtype)\n",
    "Wrepns, WrepnsB = set(Wrepns), set(WrepnsB)\n",
    "#print(Wrepns, len(Wrepns))\n",
    "print(WrepnsB, len(WrepnsB))\n",
    "print(\"WrepnB is a subset of Wrepns by Springer theory:\", WrepnsB.issubset(Wrepns))\n",
    "\n",
    "\n",
    "AdrcSp = dpart2drc(dO,rtype)\n",
    "print(len(AdrcSp))\n",
    "\n",
    "AdrcSp = dpart2pbp(dO,rtype)\n",
    "print(len(AdrcSp))\n"
   ]
  },
  {
   "cell_type": "code",
   "execution_count": 7,
   "metadata": {},
   "outputs": [
    {
     "data": {
      "text/latex": [
       "Let $\\mathcal O^\\vee$ has rows $[6, 6, 4, 4, 4, 4, 4, 2, 2, 2]$"
      ],
      "text/plain": [
       "<IPython.core.display.Latex object>"
      ]
     },
     "metadata": {},
     "output_type": "display_data"
    },
    {
     "data": {
      "text/latex": [
       "Then $\\mathcal O$ has columns $[6, 6, 4, 4, 4, 4, 4, 2, 2, 2]$"
      ],
      "text/plain": [
       "<IPython.core.display.Latex object>"
      ]
     },
     "metadata": {},
     "output_type": "display_data"
    },
    {
     "data": {
      "text/html": [
       "<pre style=\"white-space:pre;overflow-x:auto;line-height:normal;font-family:Menlo,'DejaVu Sans Mono',consolas,'Courier New',monospace\"><span style=\"font-weight: bold\">{((</span><span style=\"color: #000080; font-weight: bold\">3</span>, <span style=\"color: #000080; font-weight: bold\">2</span>, <span style=\"color: #000080; font-weight: bold\">2</span>, <span style=\"color: #000080; font-weight: bold\">2</span>, <span style=\"color: #000080; font-weight: bold\">1</span><span style=\"font-weight: bold\">)</span>, <span style=\"font-weight: bold\">(</span><span style=\"color: #000080; font-weight: bold\">2</span>, <span style=\"color: #000080; font-weight: bold\">1</span>, <span style=\"color: #000080; font-weight: bold\">1</span><span style=\"font-weight: bold\">))</span>, <span style=\"font-weight: bold\">((</span><span style=\"color: #000080; font-weight: bold\">3</span>, <span style=\"color: #000080; font-weight: bold\">3</span>, <span style=\"color: #000080; font-weight: bold\">2</span>, <span style=\"color: #000080; font-weight: bold\">2</span>, <span style=\"color: #000080; font-weight: bold\">1</span><span style=\"font-weight: bold\">)</span>, <span style=\"font-weight: bold\">(</span><span style=\"color: #000080; font-weight: bold\">1</span>, <span style=\"color: #000080; font-weight: bold\">1</span>, <span style=\"color: #000080; font-weight: bold\">1</span><span style=\"font-weight: bold\">))}</span>\n",
       "<span style=\"color: #000080; font-weight: bold\">2</span>\n",
       "</pre>\n"
      ],
      "text/plain": [
       "<rich.jupyter.JupyterRenderable at 0x7f38d023bbb0>"
      ]
     },
     "metadata": {},
     "output_type": "display_data"
    },
    {
     "data": {
      "text/html": [
       "<pre style=\"white-space:pre;overflow-x:auto;line-height:normal;font-family:Menlo,'DejaVu Sans Mono',consolas,'Courier New',monospace\">WrepnB is a subset of Wrepns by Springer theory: <span style=\"color: #ff0000; font-style: italic\">False</span>\n",
       "</pre>\n"
      ],
      "text/plain": [
       "<rich.jupyter.JupyterRenderable at 0x7f38d0340e50>"
      ]
     },
     "metadata": {},
     "output_type": "display_data"
    },
    {
     "data": {
      "text/html": [
       "<pre style=\"white-space:pre;overflow-x:auto;line-height:normal;font-family:Menlo,'DejaVu Sans Mono',consolas,'Courier New',monospace\">Type D dual-partition: <span style=\"font-weight: bold\">(</span><span style=\"color: #000080; font-weight: bold\">6</span>, <span style=\"color: #000080; font-weight: bold\">6</span>, <span style=\"color: #000080; font-weight: bold\">4</span>, <span style=\"color: #000080; font-weight: bold\">4</span>, <span style=\"color: #000080; font-weight: bold\">4</span>, <span style=\"color: #000080; font-weight: bold\">4</span>, <span style=\"color: #000080; font-weight: bold\">4</span>, <span style=\"color: #000080; font-weight: bold\">2</span>, <span style=\"color: #000080; font-weight: bold\">2</span>, <span style=\"color: #000080; font-weight: bold\">2</span><span style=\"font-weight: bold\">)</span>\n",
       "</pre>\n"
      ],
      "text/plain": [
       "<rich.jupyter.JupyterRenderable at 0x7f38d03404c0>"
      ]
     },
     "metadata": {},
     "output_type": "display_data"
    },
    {
     "data": {
      "text/html": [
       "<pre style=\"white-space:pre;overflow-x:auto;line-height:normal;font-family:Menlo,'DejaVu Sans Mono',consolas,'Courier New',monospace\"><span style=\"font-weight: bold\">[</span><span style=\"color: #000080; font-weight: bold\">304</span>, <span style=\"color: #000080; font-weight: bold\">304</span><span style=\"font-weight: bold\">]</span>\n",
       "</pre>\n"
      ],
      "text/plain": [
       "<rich.jupyter.JupyterRenderable at 0x7f38d03404c0>"
      ]
     },
     "metadata": {},
     "output_type": "display_data"
    },
    {
     "data": {
      "text/html": [
       "<pre style=\"white-space:pre;overflow-x:auto;line-height:normal;font-family:Menlo,'DejaVu Sans Mono',consolas,'Courier New',monospace\">Number of drc diagrams: <span style=\"color: #000080; font-weight: bold\">608</span>\n",
       "</pre>\n"
      ],
      "text/plain": [
       "<rich.jupyter.JupyterRenderable at 0x7f38d0340580>"
      ]
     },
     "metadata": {},
     "output_type": "display_data"
    },
    {
     "data": {
      "text/html": [
       "<pre style=\"white-space:pre;overflow-x:auto;line-height:normal;font-family:Menlo,'DejaVu Sans Mono',consolas,'Courier New',monospace\"><span style=\"color: #000080; font-weight: bold\">608</span>\n",
       "</pre>\n"
      ],
      "text/plain": [
       "<rich.jupyter.JupyterRenderable at 0x7f38d0340580>"
      ]
     },
     "metadata": {},
     "output_type": "display_data"
    },
    {
     "data": {
      "text/html": [
       "<pre style=\"white-space:pre;overflow-x:auto;line-height:normal;font-family:Menlo,'DejaVu Sans Mono',consolas,'Courier New',monospace\">Type D partition: <span style=\"font-weight: bold\">(</span><span style=\"color: #000080; font-weight: bold\">6</span>, <span style=\"color: #000080; font-weight: bold\">6</span>, <span style=\"color: #000080; font-weight: bold\">4</span>, <span style=\"color: #000080; font-weight: bold\">4</span>, <span style=\"color: #000080; font-weight: bold\">4</span>, <span style=\"color: #000080; font-weight: bold\">4</span>, <span style=\"color: #000080; font-weight: bold\">4</span>, <span style=\"color: #000080; font-weight: bold\">2</span>, <span style=\"color: #000080; font-weight: bold\">2</span>, <span style=\"color: #000080; font-weight: bold\">2</span><span style=\"font-weight: bold\">)</span>\n",
       "</pre>\n"
      ],
      "text/plain": [
       "<rich.jupyter.JupyterRenderable at 0x7f38d0028fa0>"
      ]
     },
     "metadata": {},
     "output_type": "display_data"
    },
    {
     "data": {
      "text/html": [
       "<pre style=\"white-space:pre;overflow-x:auto;line-height:normal;font-family:Menlo,'DejaVu Sans Mono',consolas,'Courier New',monospace\"><span style=\"font-weight: bold\">[</span><span style=\"color: #000080; font-weight: bold\">0</span>, <span style=\"color: #000080; font-weight: bold\">4</span><span style=\"font-weight: bold\">]</span>\n",
       "</pre>\n"
      ],
      "text/plain": [
       "<rich.jupyter.JupyterRenderable at 0x7f38d0340460>"
      ]
     },
     "metadata": {},
     "output_type": "display_data"
    },
    {
     "data": {
      "text/html": [
       "<pre style=\"white-space:pre;overflow-x:auto;line-height:normal;font-family:Menlo,'DejaVu Sans Mono',consolas,'Courier New',monospace\">Number of drc diagrams: <span style=\"color: #000080; font-weight: bold\">4</span>\n",
       "</pre>\n"
      ],
      "text/plain": [
       "<rich.jupyter.JupyterRenderable at 0x7f38d0028d90>"
      ]
     },
     "metadata": {},
     "output_type": "display_data"
    },
    {
     "data": {
      "text/html": [
       "<pre style=\"white-space:pre;overflow-x:auto;line-height:normal;font-family:Menlo,'DejaVu Sans Mono',consolas,'Courier New',monospace\"><span style=\"color: #000080; font-weight: bold\">4</span>\n",
       "</pre>\n"
      ],
      "text/plain": [
       "<rich.jupyter.JupyterRenderable at 0x7f38d0028f10>"
      ]
     },
     "metadata": {},
     "output_type": "display_data"
    }
   ],
   "source": [
    "## example of good parity dual orbit\n",
    "\n",
    "dO, drtype = (6,6,4,4,4,4,4,2,2,2),'C' \n",
    "display(lt(r'Let $\\mathcal O^\\vee$ has rows $%s$'%(list(dO),)))\n",
    "O = dualBVW(dO,rtype,partrc='c')\n",
    "display(lt(r'Then $\\mathcal O$ has columns $%s$'%(O,)))\n",
    "Wrepns = springer_part2family(dO,rtype)\n",
    "WrepnsB = dualpart2Wrepn(dO,rtype)\n",
    "Wrepns, WrepnsB = set(Wrepns), set(WrepnsB)\n",
    "#print(Wrepns, len(Wrepns))\n",
    "print(WrepnsB, len(WrepnsB))\n",
    "print(\"WrepnB is a subset of Wrepns by Springer theory:\", WrepnsB.issubset(Wrepns))\n",
    "\n",
    "\n",
    "AdrcSp = dpart2drc(dO,rtype)\n",
    "print(len(AdrcSp))\n",
    "\n",
    "AdrcSp = dpart2pbp(dO,rtype)\n",
    "print(len(AdrcSp))\n"
   ]
  },
  {
   "cell_type": "code",
   "execution_count": 8,
   "metadata": {},
   "outputs": [
    {
     "data": {
      "text/latex": [
       "Let $\\mathcal O^\\vee$ has rows $[6, 6, 6, 6, 2, 2, 2, 2]$"
      ],
      "text/plain": [
       "<IPython.core.display.Latex object>"
      ]
     },
     "metadata": {},
     "output_type": "display_data"
    },
    {
     "data": {
      "text/latex": [
       "Then $\\mathcal O$ has columns $[6, 6, 6, 6, 2, 2, 2, 2]$"
      ],
      "text/plain": [
       "<IPython.core.display.Latex object>"
      ]
     },
     "metadata": {},
     "output_type": "display_data"
    },
    {
     "data": {
      "text/html": [
       "<pre style=\"white-space:pre;overflow-x:auto;line-height:normal;font-family:Menlo,'DejaVu Sans Mono',consolas,'Courier New',monospace\"><span style=\"font-weight: bold\">{((</span><span style=\"color: #000080; font-weight: bold\">3</span>, <span style=\"color: #000080; font-weight: bold\">3</span>, <span style=\"color: #000080; font-weight: bold\">1</span>, <span style=\"color: #000080; font-weight: bold\">1</span><span style=\"font-weight: bold\">)</span>, <span style=\"font-weight: bold\">(</span><span style=\"color: #000080; font-weight: bold\">3</span>, <span style=\"color: #000080; font-weight: bold\">3</span>, <span style=\"color: #000080; font-weight: bold\">1</span>, <span style=\"color: #000080; font-weight: bold\">1</span><span style=\"font-weight: bold\">))}</span>\n",
       "<span style=\"color: #000080; font-weight: bold\">1</span>\n",
       "</pre>\n"
      ],
      "text/plain": [
       "<rich.jupyter.JupyterRenderable at 0x7f38d0028ca0>"
      ]
     },
     "metadata": {},
     "output_type": "display_data"
    },
    {
     "data": {
      "text/html": [
       "<pre style=\"white-space:pre;overflow-x:auto;line-height:normal;font-family:Menlo,'DejaVu Sans Mono',consolas,'Courier New',monospace\">Type D partition: <span style=\"font-weight: bold\">(</span><span style=\"color: #000080; font-weight: bold\">6</span>, <span style=\"color: #000080; font-weight: bold\">6</span>, <span style=\"color: #000080; font-weight: bold\">6</span>, <span style=\"color: #000080; font-weight: bold\">6</span>, <span style=\"color: #000080; font-weight: bold\">2</span>, <span style=\"color: #000080; font-weight: bold\">2</span>, <span style=\"color: #000080; font-weight: bold\">2</span>, <span style=\"color: #000080; font-weight: bold\">2</span><span style=\"font-weight: bold\">)</span>\n",
       "</pre>\n"
      ],
      "text/plain": [
       "<rich.jupyter.JupyterRenderable at 0x7f38d0340700>"
      ]
     },
     "metadata": {},
     "output_type": "display_data"
    },
    {
     "data": {
      "text/html": [
       "<pre style=\"white-space:pre;overflow-x:auto;line-height:normal;font-family:Menlo,'DejaVu Sans Mono',consolas,'Courier New',monospace\"><span style=\"font-weight: bold\">[</span><span style=\"color: #000080; font-weight: bold\">1</span><span style=\"font-weight: bold\">]</span>\n",
       "</pre>\n"
      ],
      "text/plain": [
       "<rich.jupyter.JupyterRenderable at 0x7f38d0028f10>"
      ]
     },
     "metadata": {},
     "output_type": "display_data"
    },
    {
     "data": {
      "text/html": [
       "<pre style=\"white-space:pre;overflow-x:auto;line-height:normal;font-family:Menlo,'DejaVu Sans Mono',consolas,'Courier New',monospace\">Number of drc diagrams: <span style=\"color: #000080; font-weight: bold\">1</span>\n",
       "</pre>\n"
      ],
      "text/plain": [
       "<rich.jupyter.JupyterRenderable at 0x7f38d0028ca0>"
      ]
     },
     "metadata": {},
     "output_type": "display_data"
    },
    {
     "data": {
      "text/html": [
       "<pre style=\"white-space:pre;overflow-x:auto;line-height:normal;font-family:Menlo,'DejaVu Sans Mono',consolas,'Courier New',monospace\"><span style=\"color: #000080; font-weight: bold\">1</span>\n",
       "</pre>\n"
      ],
      "text/plain": [
       "<rich.jupyter.JupyterRenderable at 0x7f38d0028c70>"
      ]
     },
     "metadata": {},
     "output_type": "display_data"
    }
   ],
   "source": [
    "## example of bad parity dual orbit of type D\n",
    "\n",
    "dO, rtype = (6,6,6,6,2,2,2,2),'D' \n",
    "display(lt(r'Let $\\mathcal O^\\vee$ has rows $%s$'%(list(dO),)))\n",
    "O = dualBVW(dO,rtype,partrc='c')\n",
    "display(lt(r'Then $\\mathcal O$ has columns $%s$'%(O,)))\n",
    "Wrepns = springer_part2family(dO,rtype)\n",
    "Wrepns = set(Wrepns)\n",
    "print(Wrepns, len(Wrepns))\n",
    "#print(\"WrepnB is a subset of Wrepns by Springer theory:\", WrepnsB.issubset(Wrepns))\n",
    "\n",
    "AdrcSp = dpart2pbp(dO,rtype)\n",
    "print(len(AdrcSp))"
   ]
  },
  {
   "cell_type": "code",
   "execution_count": 9,
   "metadata": {},
   "outputs": [
    {
     "data": {
      "text/latex": [
       "Let $\\mathcal O^\\vee$ has rows $[5, 5, 3, 3, 3, 3, 3, 3, 1, 1]$"
      ],
      "text/plain": [
       "<IPython.core.display.Latex object>"
      ]
     },
     "metadata": {},
     "output_type": "display_data"
    },
    {
     "data": {
      "text/latex": [
       "Then $\\mathcal O$ has columns $[5, 5, 3, 3, 3, 3, 3, 3, 1, 1, 1]$"
      ],
      "text/plain": [
       "<IPython.core.display.Latex object>"
      ]
     },
     "metadata": {},
     "output_type": "display_data"
    },
    {
     "name": "stdout",
     "output_type": "stream",
     "text": [
      "Special repn. ((1, 1, 1, 2), (1, 2, 2, 2, 3))\n"
     ]
    },
    {
     "data": {
      "text/html": [
       "<pre style=\"white-space:pre;overflow-x:auto;line-height:normal;font-family:Menlo,'DejaVu Sans Mono',consolas,'Courier New',monospace\"><span style=\"font-weight: bold\">{((</span><span style=\"color: #000080; font-weight: bold\">3</span>, <span style=\"color: #000080; font-weight: bold\">2</span>, <span style=\"color: #000080; font-weight: bold\">2</span>, <span style=\"color: #000080; font-weight: bold\">2</span>, <span style=\"color: #000080; font-weight: bold\">1</span><span style=\"font-weight: bold\">)</span>, <span style=\"font-weight: bold\">(</span><span style=\"color: #000080; font-weight: bold\">2</span>, <span style=\"color: #000080; font-weight: bold\">1</span>, <span style=\"color: #000080; font-weight: bold\">1</span>, <span style=\"color: #000080; font-weight: bold\">1</span><span style=\"font-weight: bold\">))}</span>\n",
       "<span style=\"color: #000080; font-weight: bold\">1</span>\n",
       "</pre>\n"
      ],
      "text/plain": [
       "<rich.jupyter.JupyterRenderable at 0x7f38d021b0d0>"
      ]
     },
     "metadata": {},
     "output_type": "display_data"
    },
    {
     "data": {
      "text/html": [
       "<pre style=\"white-space:pre;overflow-x:auto;line-height:normal;font-family:Menlo,'DejaVu Sans Mono',consolas,'Courier New',monospace\">Type B dual-partition: <span style=\"font-weight: bold\">(</span><span style=\"color: #000080; font-weight: bold\">5</span>, <span style=\"color: #000080; font-weight: bold\">5</span>, <span style=\"color: #000080; font-weight: bold\">3</span>, <span style=\"color: #000080; font-weight: bold\">3</span>, <span style=\"color: #000080; font-weight: bold\">3</span>, <span style=\"color: #000080; font-weight: bold\">3</span>, <span style=\"color: #000080; font-weight: bold\">3</span>, <span style=\"color: #000080; font-weight: bold\">3</span>, <span style=\"color: #000080; font-weight: bold\">1</span>, <span style=\"color: #000080; font-weight: bold\">1</span><span style=\"font-weight: bold\">)</span>\n",
       "</pre>\n"
      ],
      "text/plain": [
       "<rich.jupyter.JupyterRenderable at 0x7f38d3c13ee0>"
      ]
     },
     "metadata": {},
     "output_type": "display_data"
    },
    {
     "data": {
      "text/html": [
       "<pre style=\"white-space:pre;overflow-x:auto;line-height:normal;font-family:Menlo,'DejaVu Sans Mono',consolas,'Courier New',monospace\"><span style=\"font-weight: bold\">[</span><span style=\"color: #000080; font-weight: bold\">48</span>, <span style=\"color: #000080; font-weight: bold\">48</span>, <span style=\"color: #000080; font-weight: bold\">48</span>, <span style=\"color: #000080; font-weight: bold\">48</span>, <span style=\"color: #000080; font-weight: bold\">48</span>, <span style=\"color: #000080; font-weight: bold\">48</span>, <span style=\"color: #000080; font-weight: bold\">48</span>, <span style=\"color: #000080; font-weight: bold\">48</span><span style=\"font-weight: bold\">]</span>\n",
       "</pre>\n"
      ],
      "text/plain": [
       "<rich.jupyter.JupyterRenderable at 0x7f38d021b160>"
      ]
     },
     "metadata": {},
     "output_type": "display_data"
    },
    {
     "data": {
      "text/html": [
       "<pre style=\"white-space:pre;overflow-x:auto;line-height:normal;font-family:Menlo,'DejaVu Sans Mono',consolas,'Courier New',monospace\">Number of drc diagrams: <span style=\"color: #000080; font-weight: bold\">384</span>\n",
       "</pre>\n"
      ],
      "text/plain": [
       "<rich.jupyter.JupyterRenderable at 0x7f38d3c13ee0>"
      ]
     },
     "metadata": {},
     "output_type": "display_data"
    },
    {
     "data": {
      "text/html": [
       "<pre style=\"white-space:pre;overflow-x:auto;line-height:normal;font-family:Menlo,'DejaVu Sans Mono',consolas,'Courier New',monospace\"><span style=\"color: #000080; font-weight: bold\">384</span>\n",
       "</pre>\n"
      ],
      "text/plain": [
       "<rich.jupyter.JupyterRenderable at 0x7f38d021b0d0>"
      ]
     },
     "metadata": {},
     "output_type": "display_data"
    },
    {
     "data": {
      "text/html": [
       "<pre style=\"white-space:pre;overflow-x:auto;line-height:normal;font-family:Menlo,'DejaVu Sans Mono',consolas,'Courier New',monospace\">Type B partition: <span style=\"font-weight: bold\">(</span><span style=\"color: #000080; font-weight: bold\">5</span>, <span style=\"color: #000080; font-weight: bold\">5</span>, <span style=\"color: #000080; font-weight: bold\">3</span>, <span style=\"color: #000080; font-weight: bold\">3</span>, <span style=\"color: #000080; font-weight: bold\">3</span>, <span style=\"color: #000080; font-weight: bold\">3</span>, <span style=\"color: #000080; font-weight: bold\">3</span>, <span style=\"color: #000080; font-weight: bold\">3</span>, <span style=\"color: #000080; font-weight: bold\">1</span>, <span style=\"color: #000080; font-weight: bold\">1</span><span style=\"font-weight: bold\">)</span>\n",
       "</pre>\n"
      ],
      "text/plain": [
       "<rich.jupyter.JupyterRenderable at 0x7f38d3c13ee0>"
      ]
     },
     "metadata": {},
     "output_type": "display_data"
    },
    {
     "data": {
      "text/html": [
       "<pre style=\"white-space:pre;overflow-x:auto;line-height:normal;font-family:Menlo,'DejaVu Sans Mono',consolas,'Courier New',monospace\"><span style=\"font-weight: bold\">[</span><span style=\"color: #000080; font-weight: bold\">64</span>, <span style=\"color: #000080; font-weight: bold\">48</span>, <span style=\"color: #000080; font-weight: bold\">1</span><span style=\"font-weight: bold\">]</span>\n",
       "</pre>\n"
      ],
      "text/plain": [
       "<rich.jupyter.JupyterRenderable at 0x7f38d0340ee0>"
      ]
     },
     "metadata": {},
     "output_type": "display_data"
    },
    {
     "data": {
      "text/html": [
       "<pre style=\"white-space:pre;overflow-x:auto;line-height:normal;font-family:Menlo,'DejaVu Sans Mono',consolas,'Courier New',monospace\">Number of drc diagrams: <span style=\"color: #000080; font-weight: bold\">113</span>\n",
       "</pre>\n"
      ],
      "text/plain": [
       "<rich.jupyter.JupyterRenderable at 0x7f38d0340580>"
      ]
     },
     "metadata": {},
     "output_type": "display_data"
    },
    {
     "data": {
      "text/html": [
       "<pre style=\"white-space:pre;overflow-x:auto;line-height:normal;font-family:Menlo,'DejaVu Sans Mono',consolas,'Courier New',monospace\"><span style=\"color: #000080; font-weight: bold\">113</span>\n",
       "</pre>\n"
      ],
      "text/plain": [
       "<rich.jupyter.JupyterRenderable at 0x7f38d0028d30>"
      ]
     },
     "metadata": {},
     "output_type": "display_data"
    }
   ],
   "source": [
    "## example of bad parity dual orbit of type C\n",
    "\n",
    "dO, drtype, rtype = (5,5,3,3,3,3,3,3,1,1),'C' , 'B'\n",
    "display(lt(r'Let $\\mathcal O^\\vee$ has rows $%s$'%(list(dO),)))\n",
    "O = dualBVW(dO,rtype,partrc='c')\n",
    "display(lt(r'Then $\\mathcal O$ has columns $%s$'%(O,)))\n",
    "Wrepns = springer_dpart2family(dO,drtype,symbol=False)\n",
    "Wrepns = set(Wrepns)\n",
    "print(Wrepns, len(Wrepns))\n",
    "\n",
    "AdrcSp = dpart2drc(dO,rtype)\n",
    "print(len(AdrcSp))\n",
    "\n",
    "AdrcSp = dpart2pbp(dO,rtype)\n",
    "print(len(AdrcSp))"
   ]
  },
  {
   "cell_type": "code",
   "execution_count": null,
   "metadata": {},
   "outputs": [],
   "source": []
  }
 ],
 "metadata": {
  "kernelspec": {
   "display_name": "Python 3",
   "language": "python",
   "name": "python3"
  },
  "language_info": {
   "codemirror_mode": {
    "name": "ipython",
    "version": 3
   },
   "file_extension": ".py",
   "mimetype": "text/x-python",
   "name": "python",
   "nbconvert_exporter": "python",
   "pygments_lexer": "ipython3",
   "version": "3.8.10"
  }
 },
 "nbformat": 4,
 "nbformat_minor": 4
}
