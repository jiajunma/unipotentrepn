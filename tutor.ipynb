{
 "cells": [
  {
   "cell_type": "code",
   "execution_count": 2,
   "metadata": {},
   "outputs": [
    {
     "name": "stdout",
     "output_type": "stream",
     "text": [
      "The autoreload extension is already loaded. To reload it, use:\n",
      "  %reload_ext autoreload\n"
     ]
    }
   ],
   "source": [
    "%load_ext autoreload\n",
    "%autoreload 2\n",
    "from IPython.display import Markdown as md\n",
    "from IPython.display import Latex as lt\n",
    "from IPython.display import Math\n",
    "from sympy import latex,pprint\n",
    "from combunipotent import *"
   ]
  },
  {
   "cell_type": "markdown",
   "metadata": {},
   "source": [
    "Notation: \n",
    "\n",
    "$[r_1, r_2, \\cdots, r_k]$ denote a Young diagram with rows $r_1, \\cdots, r_k$. \n",
    "\n",
    "$(c_1, c_2, \\cdots, c_k)$ denote a Young diagram with columns $c_1, \\cdots, c_k$. \n",
    "\n",
    "Let $\\mathcal O^\\vee = [r_1, r_2, \\cdots, r_k]$ be a nilpotent orbit, we can comput its Barbasch-Vogan dual.\n",
    "\n",
    "The following is an example of computing the Barbasch-Vogan dual {{aa}}"
   ]
  },
  {
   "cell_type": "code",
   "execution_count": 61,
   "metadata": {},
   "outputs": [
    {
     "data": {
      "text/latex": [
       "Let $\\mathcal O^\\vee$ (a orbit of type D) has rows $[15, 11, 7, 7, 5, 5, 3, 3, 1, 1]$"
      ],
      "text/plain": [
       "<IPython.core.display.Latex object>"
      ]
     },
     "metadata": {},
     "output_type": "display_data"
    },
    {
     "data": {
      "text/latex": [
       "Then $\\mathcal O$ (a orbit of type D) has columns $(16, 10, 8, 6, 6, 4, 4, 2, 2)$"
      ],
      "text/plain": [
       "<IPython.core.display.Latex object>"
      ]
     },
     "metadata": {},
     "output_type": "display_data"
    },
    {
     "data": {
      "text/latex": [
       "The set of Weyl group representations attached to $\\mathcal O^\\vee$ are the follows (the first one is special)"
      ],
      "text/plain": [
       "<IPython.core.display.Latex object>"
      ]
     },
     "metadata": {},
     "output_type": "display_data"
    },
    {
     "data": {
      "text/latex": [
       "$(8, 4, 3, 2, 1) \\times (5, 3, 2, 1)$"
      ],
      "text/plain": [
       "<IPython.core.display.Latex object>"
      ]
     },
     "metadata": {},
     "output_type": "display_data"
    },
    {
     "data": {
      "text/latex": [
       "$(8, 6, 3, 2, 1) \\times (3, 3, 2, 1)$"
      ],
      "text/plain": [
       "<IPython.core.display.Latex object>"
      ]
     },
     "metadata": {},
     "output_type": "display_data"
    },
    {
     "data": {
      "text/latex": [
       "$(8, 4, 4, 2, 1) \\times (5, 2, 2, 1)$"
      ],
      "text/plain": [
       "<IPython.core.display.Latex object>"
      ]
     },
     "metadata": {},
     "output_type": "display_data"
    },
    {
     "data": {
      "text/latex": [
       "$(8, 4, 3, 3, 1) \\times (5, 3, 1, 1)$"
      ],
      "text/plain": [
       "<IPython.core.display.Latex object>"
      ]
     },
     "metadata": {},
     "output_type": "display_data"
    },
    {
     "data": {
      "text/latex": [
       "$(8, 4, 3, 2, 2) \\times (5, 3, 2)$"
      ],
      "text/plain": [
       "<IPython.core.display.Latex object>"
      ]
     },
     "metadata": {},
     "output_type": "display_data"
    },
    {
     "data": {
      "text/latex": [
       "$(8, 6, 4, 2, 1) \\times (3, 2, 2, 1)$"
      ],
      "text/plain": [
       "<IPython.core.display.Latex object>"
      ]
     },
     "metadata": {},
     "output_type": "display_data"
    },
    {
     "data": {
      "text/latex": [
       "$(8, 6, 3, 3, 1) \\times (3, 3, 1, 1)$"
      ],
      "text/plain": [
       "<IPython.core.display.Latex object>"
      ]
     },
     "metadata": {},
     "output_type": "display_data"
    },
    {
     "data": {
      "text/latex": [
       "$(8, 6, 3, 2, 2) \\times (3, 3, 2)$"
      ],
      "text/plain": [
       "<IPython.core.display.Latex object>"
      ]
     },
     "metadata": {},
     "output_type": "display_data"
    },
    {
     "data": {
      "text/latex": [
       "$(8, 4, 4, 3, 1) \\times (5, 2, 1, 1)$"
      ],
      "text/plain": [
       "<IPython.core.display.Latex object>"
      ]
     },
     "metadata": {},
     "output_type": "display_data"
    },
    {
     "data": {
      "text/latex": [
       "$(8, 4, 4, 2, 2) \\times (5, 2, 2)$"
      ],
      "text/plain": [
       "<IPython.core.display.Latex object>"
      ]
     },
     "metadata": {},
     "output_type": "display_data"
    },
    {
     "data": {
      "text/latex": [
       "$(8, 4, 3, 3, 2) \\times (5, 3, 1)$"
      ],
      "text/plain": [
       "<IPython.core.display.Latex object>"
      ]
     },
     "metadata": {},
     "output_type": "display_data"
    },
    {
     "data": {
      "text/latex": [
       "$(8, 6, 4, 3, 1) \\times (3, 2, 1, 1)$"
      ],
      "text/plain": [
       "<IPython.core.display.Latex object>"
      ]
     },
     "metadata": {},
     "output_type": "display_data"
    },
    {
     "data": {
      "text/latex": [
       "$(8, 6, 4, 2, 2) \\times (3, 2, 2)$"
      ],
      "text/plain": [
       "<IPython.core.display.Latex object>"
      ]
     },
     "metadata": {},
     "output_type": "display_data"
    },
    {
     "data": {
      "text/latex": [
       "$(8, 6, 3, 3, 2) \\times (3, 3, 1)$"
      ],
      "text/plain": [
       "<IPython.core.display.Latex object>"
      ]
     },
     "metadata": {},
     "output_type": "display_data"
    },
    {
     "data": {
      "text/latex": [
       "$(8, 4, 4, 3, 2) \\times (5, 2, 1)$"
      ],
      "text/plain": [
       "<IPython.core.display.Latex object>"
      ]
     },
     "metadata": {},
     "output_type": "display_data"
    },
    {
     "data": {
      "text/latex": [
       "$(8, 6, 4, 3, 2) \\times (3, 2, 1)$"
      ],
      "text/plain": [
       "<IPython.core.display.Latex object>"
      ]
     },
     "metadata": {},
     "output_type": "display_data"
    }
   ],
   "source": [
    "dO,rtype = (15,11,7,7,5,5,3,3,1,1),'D'\n",
    "display(lt(r'Let $\\mathcal O^\\vee$ (a orbit of type D) has rows $%s$'%(list(dO),)))\n",
    "O = dualBVW(dO,rtype,partrc='c')\n",
    "display(lt(r'Then $\\mathcal O$ (a orbit of type D) has columns $%s$'%(tuple(O),)))\n",
    "display(lt(r'The set of Weyl group representations attached to $\\mathcal O^\\vee$ are the follows (the first one is special)'))\n",
    "RR = dualpart2Wrepn(dO,rtype)\n",
    "aa = lt(r'%s'%(list(dO)))\n",
    "for tau in RR:\n",
    "    display(lt(r'$%s \\times %s$'%tau))\n",
    "#RRA = dualpart2WrepnA(dO,rtype)\n",
    "#print(len(RR), RR)\n",
    "#print(len(RRA), RRA)\n",
    "#set(RR) == set(RRA)"
   ]
  },
  {
   "cell_type": "markdown",
   "metadata": {},
   "source": [
    "Suppose $\\mathcal O^\\vee$ is a of type $\\star = C$ and $(1,2)\\in \\mathrm{PP}(\\mathcal O^\\vee)$ there is a switch between the set of painted bipartition of special shapes and \n",
    "non-special shapes. \n",
    "The following is an example:"
   ]
  },
  {
   "cell_type": "code",
   "execution_count": 3,
   "metadata": {},
   "outputs": [
    {
     "data": {
      "text/latex": [
       "Let $\\mathcal O^\\vee$ has rows $[5, 3, 3, 3, 1]$"
      ],
      "text/plain": [
       "<IPython.core.display.Latex object>"
      ]
     },
     "metadata": {},
     "output_type": "display_data"
    },
    {
     "data": {
      "text/latex": [
       "Then $\\mathcal O$ has columns $[4, 4, 3, 3]$"
      ],
      "text/plain": [
       "<IPython.core.display.Latex object>"
      ]
     },
     "metadata": {},
     "output_type": "display_data"
    },
    {
     "data": {
      "text/latex": [
       "The special representation (columns) $\\tau =$ (2, 2) $\\times$  (2, 1) is paired with $\\bar\\tau = $ (3, 2) $\\times$ (1, 1)  (with $\\wp_{\\bar\\tau} = \\{(1,2)\\}$)"
      ],
      "text/plain": [
       "<IPython.core.display.Latex object>"
      ]
     },
     "metadata": {},
     "output_type": "display_data"
    },
    {
     "data": {
      "text/latex": [
       "The switching between  $\\mathrm{PBP}_C(\\mathcal O^\\vee,\\emptyset)$ and $\\mathrm{PBP}_C(\\mathcal O^\\vee, \\{(1,2)\\})$ is given by:"
      ],
      "text/plain": [
       "<IPython.core.display.Latex object>"
      ]
     },
     "metadata": {},
     "output_type": "display_data"
    },
    {
     "data": {
      "text/html": [
       "<pre style=\"white-space:pre;overflow-x:auto;line-height:normal;font-family:Menlo,'DejaVu Sans Mono',consolas,'Courier New',monospace\">.c|.s <span style=\"font-weight: bold\">&lt;</span><span style=\"color: #000000\">==</span><span style=\"font-weight: bold\">&gt;</span> .c|.s\n",
       "dd|s       rd|  \n",
       "           d |  \n",
       "</pre>\n"
      ],
      "text/plain": [
       "<rich.jupyter.JupyterRenderable at 0x7fd82d774850>"
      ]
     },
     "metadata": {},
     "output_type": "display_data"
    },
    {
     "data": {
      "text/html": [
       "<pre style=\"white-space:pre;overflow-x:auto;line-height:normal;font-family:Menlo,'DejaVu Sans Mono',consolas,'Courier New',monospace\">.r|.s <span style=\"font-weight: bold\">&lt;</span><span style=\"color: #000000\">==</span><span style=\"font-weight: bold\">&gt;</span> .r|.s\n",
       "dd|s       rd|  \n",
       "           d |  \n",
       "</pre>\n"
      ],
      "text/plain": [
       "<rich.jupyter.JupyterRenderable at 0x7fd82d774280>"
      ]
     },
     "metadata": {},
     "output_type": "display_data"
    },
    {
     "data": {
      "text/html": [
       "<pre style=\"white-space:pre;overflow-x:auto;line-height:normal;font-family:Menlo,'DejaVu Sans Mono',consolas,'Courier New',monospace\">..|.. <span style=\"font-weight: bold\">&lt;</span><span style=\"color: #000000\">==</span><span style=\"font-weight: bold\">&gt;</span> ..|..\n",
       "dd|s       rd|  \n",
       "           d |  \n",
       "</pre>\n"
      ],
      "text/plain": [
       "<rich.jupyter.JupyterRenderable at 0x7fd82d7747f0>"
      ]
     },
     "metadata": {},
     "output_type": "display_data"
    },
    {
     "data": {
      "text/html": [
       "<pre style=\"white-space:pre;overflow-x:auto;line-height:normal;font-family:Menlo,'DejaVu Sans Mono',consolas,'Courier New',monospace\">.c|.s <span style=\"font-weight: bold\">&lt;</span><span style=\"color: #000000\">==</span><span style=\"font-weight: bold\">&gt;</span> .c|.s\n",
       "cd|s       rd|  \n",
       "           c |  \n",
       "</pre>\n"
      ],
      "text/plain": [
       "<rich.jupyter.JupyterRenderable at 0x7fd82d7743a0>"
      ]
     },
     "metadata": {},
     "output_type": "display_data"
    },
    {
     "data": {
      "text/html": [
       "<pre style=\"white-space:pre;overflow-x:auto;line-height:normal;font-family:Menlo,'DejaVu Sans Mono',consolas,'Courier New',monospace\">.r|.s <span style=\"font-weight: bold\">&lt;</span><span style=\"color: #000000\">==</span><span style=\"font-weight: bold\">&gt;</span> .r|.s\n",
       "cd|s       rd|  \n",
       "           c |  \n",
       "</pre>\n"
      ],
      "text/plain": [
       "<rich.jupyter.JupyterRenderable at 0x7fd82d7744c0>"
      ]
     },
     "metadata": {},
     "output_type": "display_data"
    },
    {
     "data": {
      "text/html": [
       "<pre style=\"white-space:pre;overflow-x:auto;line-height:normal;font-family:Menlo,'DejaVu Sans Mono',consolas,'Courier New',monospace\">..|.. <span style=\"font-weight: bold\">&lt;</span><span style=\"color: #000000\">==</span><span style=\"font-weight: bold\">&gt;</span> ..|..\n",
       "cd|s       rd|  \n",
       "           c |  \n",
       "</pre>\n"
      ],
      "text/plain": [
       "<rich.jupyter.JupyterRenderable at 0x7fd82d774790>"
      ]
     },
     "metadata": {},
     "output_type": "display_data"
    },
    {
     "data": {
      "text/html": [
       "<pre style=\"white-space:pre;overflow-x:auto;line-height:normal;font-family:Menlo,'DejaVu Sans Mono',consolas,'Courier New',monospace\">.c|.s <span style=\"font-weight: bold\">&lt;</span><span style=\"color: #000000\">==</span><span style=\"font-weight: bold\">&gt;</span> .c|.s\n",
       "rd|s       rd|  \n",
       "           r |  \n",
       "</pre>\n"
      ],
      "text/plain": [
       "<rich.jupyter.JupyterRenderable at 0x7fd82d774850>"
      ]
     },
     "metadata": {},
     "output_type": "display_data"
    },
    {
     "data": {
      "text/html": [
       "<pre style=\"white-space:pre;overflow-x:auto;line-height:normal;font-family:Menlo,'DejaVu Sans Mono',consolas,'Courier New',monospace\">.c|.s <span style=\"font-weight: bold\">&lt;</span><span style=\"color: #000000\">==</span><span style=\"font-weight: bold\">&gt;</span> .c|.s\n",
       ".d|.       cd|  \n",
       "           d |  \n",
       "</pre>\n"
      ],
      "text/plain": [
       "<rich.jupyter.JupyterRenderable at 0x7fd82d774280>"
      ]
     },
     "metadata": {},
     "output_type": "display_data"
    },
    {
     "data": {
      "text/html": [
       "<pre style=\"white-space:pre;overflow-x:auto;line-height:normal;font-family:Menlo,'DejaVu Sans Mono',consolas,'Courier New',monospace\">.r|.s <span style=\"font-weight: bold\">&lt;</span><span style=\"color: #000000\">==</span><span style=\"font-weight: bold\">&gt;</span> .r|.s\n",
       "rd|s       rd|  \n",
       "           r |  \n",
       "</pre>\n"
      ],
      "text/plain": [
       "<rich.jupyter.JupyterRenderable at 0x7fd82d7747f0>"
      ]
     },
     "metadata": {},
     "output_type": "display_data"
    },
    {
     "data": {
      "text/html": [
       "<pre style=\"white-space:pre;overflow-x:auto;line-height:normal;font-family:Menlo,'DejaVu Sans Mono',consolas,'Courier New',monospace\">.r|.s <span style=\"font-weight: bold\">&lt;</span><span style=\"color: #000000\">==</span><span style=\"font-weight: bold\">&gt;</span> .r|.s\n",
       ".d|.       cd|  \n",
       "           d |  \n",
       "</pre>\n"
      ],
      "text/plain": [
       "<rich.jupyter.JupyterRenderable at 0x7fd82d7743a0>"
      ]
     },
     "metadata": {},
     "output_type": "display_data"
    },
    {
     "data": {
      "text/html": [
       "<pre style=\"white-space:pre;overflow-x:auto;line-height:normal;font-family:Menlo,'DejaVu Sans Mono',consolas,'Courier New',monospace\">..|.. <span style=\"font-weight: bold\">&lt;</span><span style=\"color: #000000\">==</span><span style=\"font-weight: bold\">&gt;</span> ..|..\n",
       "rd|s       rd|  \n",
       "           r |  \n",
       "</pre>\n"
      ],
      "text/plain": [
       "<rich.jupyter.JupyterRenderable at 0x7fd82d7744c0>"
      ]
     },
     "metadata": {},
     "output_type": "display_data"
    },
    {
     "data": {
      "text/html": [
       "<pre style=\"white-space:pre;overflow-x:auto;line-height:normal;font-family:Menlo,'DejaVu Sans Mono',consolas,'Courier New',monospace\">..|.. <span style=\"font-weight: bold\">&lt;</span><span style=\"color: #000000\">==</span><span style=\"font-weight: bold\">&gt;</span> ..|..\n",
       ".d|.       cd|  \n",
       "           d |  \n",
       "</pre>\n"
      ],
      "text/plain": [
       "<rich.jupyter.JupyterRenderable at 0x7fd82d774790>"
      ]
     },
     "metadata": {},
     "output_type": "display_data"
    },
    {
     "data": {
      "text/html": [
       "<pre style=\"white-space:pre;overflow-x:auto;line-height:normal;font-family:Menlo,'DejaVu Sans Mono',consolas,'Courier New',monospace\">.r|.s <span style=\"font-weight: bold\">&lt;</span><span style=\"color: #000000\">==</span><span style=\"font-weight: bold\">&gt;</span> .r|.s\n",
       "cc|s       rc|  \n",
       "           c |  \n",
       "</pre>\n"
      ],
      "text/plain": [
       "<rich.jupyter.JupyterRenderable at 0x7fd82d774850>"
      ]
     },
     "metadata": {},
     "output_type": "display_data"
    },
    {
     "data": {
      "text/html": [
       "<pre style=\"white-space:pre;overflow-x:auto;line-height:normal;font-family:Menlo,'DejaVu Sans Mono',consolas,'Courier New',monospace\">..|.. <span style=\"font-weight: bold\">&lt;</span><span style=\"color: #000000\">==</span><span style=\"font-weight: bold\">&gt;</span> ..|..\n",
       "cc|s       rc|  \n",
       "           c |  \n",
       "</pre>\n"
      ],
      "text/plain": [
       "<rich.jupyter.JupyterRenderable at 0x7fd82d774280>"
      ]
     },
     "metadata": {},
     "output_type": "display_data"
    },
    {
     "data": {
      "text/html": [
       "<pre style=\"white-space:pre;overflow-x:auto;line-height:normal;font-family:Menlo,'DejaVu Sans Mono',consolas,'Courier New',monospace\">.r|.s <span style=\"font-weight: bold\">&lt;</span><span style=\"color: #000000\">==</span><span style=\"font-weight: bold\">&gt;</span> .r|.s\n",
       "rc|s       rc|  \n",
       "           r |  \n",
       "</pre>\n"
      ],
      "text/plain": [
       "<rich.jupyter.JupyterRenderable at 0x7fd82d7747f0>"
      ]
     },
     "metadata": {},
     "output_type": "display_data"
    },
    {
     "data": {
      "text/html": [
       "<pre style=\"white-space:pre;overflow-x:auto;line-height:normal;font-family:Menlo,'DejaVu Sans Mono',consolas,'Courier New',monospace\">.r|.s <span style=\"font-weight: bold\">&lt;</span><span style=\"color: #000000\">==</span><span style=\"font-weight: bold\">&gt;</span> .r|.s\n",
       ".c|.       cc|  \n",
       "           d |  \n",
       "</pre>\n"
      ],
      "text/plain": [
       "<rich.jupyter.JupyterRenderable at 0x7fd82d774250>"
      ]
     },
     "metadata": {},
     "output_type": "display_data"
    },
    {
     "data": {
      "text/html": [
       "<pre style=\"white-space:pre;overflow-x:auto;line-height:normal;font-family:Menlo,'DejaVu Sans Mono',consolas,'Courier New',monospace\">..|.. <span style=\"font-weight: bold\">&lt;</span><span style=\"color: #000000\">==</span><span style=\"font-weight: bold\">&gt;</span> ..|..\n",
       "rc|s       rc|  \n",
       "           r |  \n",
       "</pre>\n"
      ],
      "text/plain": [
       "<rich.jupyter.JupyterRenderable at 0x7fd82d7748e0>"
      ]
     },
     "metadata": {},
     "output_type": "display_data"
    },
    {
     "data": {
      "text/html": [
       "<pre style=\"white-space:pre;overflow-x:auto;line-height:normal;font-family:Menlo,'DejaVu Sans Mono',consolas,'Courier New',monospace\">..|.. <span style=\"font-weight: bold\">&lt;</span><span style=\"color: #000000\">==</span><span style=\"font-weight: bold\">&gt;</span> ..|..\n",
       ".c|.       cc|  \n",
       "           d |  \n",
       "</pre>\n"
      ],
      "text/plain": [
       "<rich.jupyter.JupyterRenderable at 0x7fd82d774790>"
      ]
     },
     "metadata": {},
     "output_type": "display_data"
    },
    {
     "data": {
      "text/html": [
       "<pre style=\"white-space:pre;overflow-x:auto;line-height:normal;font-family:Menlo,'DejaVu Sans Mono',consolas,'Courier New',monospace\">.r|.s <span style=\"font-weight: bold\">&lt;</span><span style=\"color: #000000\">==</span><span style=\"font-weight: bold\">&gt;</span> .r|.s\n",
       ".r|.       rc|  \n",
       "           d |  \n",
       "</pre>\n"
      ],
      "text/plain": [
       "<rich.jupyter.JupyterRenderable at 0x7fd82d774850>"
      ]
     },
     "metadata": {},
     "output_type": "display_data"
    },
    {
     "data": {
      "text/html": [
       "<pre style=\"white-space:pre;overflow-x:auto;line-height:normal;font-family:Menlo,'DejaVu Sans Mono',consolas,'Courier New',monospace\">..|.. <span style=\"font-weight: bold\">&lt;</span><span style=\"color: #000000\">==</span><span style=\"font-weight: bold\">&gt;</span> ..|..\n",
       ".r|.       rc|  \n",
       "           d |  \n",
       "</pre>\n"
      ],
      "text/plain": [
       "<rich.jupyter.JupyterRenderable at 0x7fd82d774280>"
      ]
     },
     "metadata": {},
     "output_type": "display_data"
    }
   ],
   "source": [
    "dO, rtype = (5,3,3,3,1),'C' \n",
    "display(lt(r'Let $\\mathcal O^\\vee$ has rows $%s$'%(list(dO),)))\n",
    "O = dualBVW(dO,'C',partrc='c')\n",
    "display(lt(r'Then $\\mathcal O$ has columns $%s$'%(O,)))\n",
    "Wrepns = dualpart2Wrepn(dO,rtype)\n",
    "taus = Wrepns[0]\n",
    "tauns = Wrepns[1]\n",
    "display(lt(r'The special representation (columns) $\\tau =$ %s $\\times$  %s is paired with $\\bar\\tau = $ %s $\\times$ %s  (with $\\wp_{\\bar\\tau} = \\{(1,2)\\}$)'%(taus+tauns)))\n",
    "display(lt(r'The switching between  $\\mathrm{PBP}_C(\\mathcal O^\\vee,\\emptyset)$ and $\\mathrm{PBP}_C(\\mathcal O^\\vee, \\{(1,2)\\})$ is given by:'))\n",
    "Adrcs = [drc for drc in Wrepn2drcs(taus,'C')]\n",
    "for drc in  Adrcs:\n",
    "    nsdrc  = twist_C_nonspecial(drc)\n",
    "    res = concat_strblocks(str_dgms(drc),\"<==>\",str_dgms(nsdrc))\n",
    "    print(res)"
   ]
  },
  {
   "cell_type": "code",
   "execution_count": 62,
   "metadata": {},
   "outputs": [
    {
     "data": {
      "text/latex": [
       "Let $\\mathcal O^\\vee$ has rows $[4, 4, 4, 2]$"
      ],
      "text/plain": [
       "<IPython.core.display.Latex object>"
      ]
     },
     "metadata": {},
     "output_type": "display_data"
    },
    {
     "data": {
      "text/latex": [
       "Then $\\mathcal O$ has columns $[4, 4, 3, 3]$"
      ],
      "text/plain": [
       "<IPython.core.display.Latex object>"
      ]
     },
     "metadata": {},
     "output_type": "display_data"
    },
    {
     "data": {
      "text/latex": [
       "The special representation (columns) $\\tau =$ (2, 2) $\\times$  (2, 1) is paired with $\\bar\\tau = $ (2, 1) $\\times$ (2, 2)  (with $\\wp_{\\bar\\tau} = \\{(1,2)\\}$)"
      ],
      "text/plain": [
       "<IPython.core.display.Latex object>"
      ]
     },
     "metadata": {},
     "output_type": "display_data"
    },
    {
     "data": {
      "text/latex": [
       "The switching between  $\\mathrm{PBP}_C(\\mathcal O^\\vee,\\emptyset)$ and $\\mathrm{PBP}_C(\\mathcal O^\\vee, \\{(1,2)\\})$ is given by:"
      ],
      "text/plain": [
       "<IPython.core.display.Latex object>"
      ]
     },
     "metadata": {},
     "output_type": "display_data"
    },
    {
     "data": {
      "text/html": [
       "<pre style=\"white-space:pre;overflow-x:auto;line-height:normal;font-family:Menlo,'DejaVu Sans Mono',consolas,'Courier New',monospace\">.s|.d\n",
       "cc|d \n",
       "</pre>\n"
      ],
      "text/plain": [
       "<rich.jupyter.JupyterRenderable at 0x7fe037884a00>"
      ]
     },
     "metadata": {},
     "output_type": "display_data"
    },
    {
     "data": {
      "text/html": [
       "<pre style=\"white-space:pre;overflow-x:auto;line-height:normal;font-family:Menlo,'DejaVu Sans Mono',consolas,'Courier New',monospace\">.s|.d\n",
       "sc|d \n",
       "</pre>\n"
      ],
      "text/plain": [
       "<rich.jupyter.JupyterRenderable at 0x7fe037884a00>"
      ]
     },
     "metadata": {},
     "output_type": "display_data"
    },
    {
     "data": {
      "text/html": [
       "<pre style=\"white-space:pre;overflow-x:auto;line-height:normal;font-family:Menlo,'DejaVu Sans Mono',consolas,'Courier New',monospace\">.s|.r\n",
       "cc|d \n",
       "</pre>\n"
      ],
      "text/plain": [
       "<rich.jupyter.JupyterRenderable at 0x7fe037884a00>"
      ]
     },
     "metadata": {},
     "output_type": "display_data"
    },
    {
     "data": {
      "text/html": [
       "<pre style=\"white-space:pre;overflow-x:auto;line-height:normal;font-family:Menlo,'DejaVu Sans Mono',consolas,'Courier New',monospace\">..|..\n",
       "cc|d \n",
       "</pre>\n"
      ],
      "text/plain": [
       "<rich.jupyter.JupyterRenderable at 0x7fe037884a00>"
      ]
     },
     "metadata": {},
     "output_type": "display_data"
    },
    {
     "data": {
      "text/html": [
       "<pre style=\"white-space:pre;overflow-x:auto;line-height:normal;font-family:Menlo,'DejaVu Sans Mono',consolas,'Courier New',monospace\">.s|.r\n",
       "sc|d \n",
       "</pre>\n"
      ],
      "text/plain": [
       "<rich.jupyter.JupyterRenderable at 0x7fe037884a00>"
      ]
     },
     "metadata": {},
     "output_type": "display_data"
    },
    {
     "data": {
      "text/html": [
       "<pre style=\"white-space:pre;overflow-x:auto;line-height:normal;font-family:Menlo,'DejaVu Sans Mono',consolas,'Courier New',monospace\">..|..\n",
       "sc|d \n",
       "</pre>\n"
      ],
      "text/plain": [
       "<rich.jupyter.JupyterRenderable at 0x7fe037884a00>"
      ]
     },
     "metadata": {},
     "output_type": "display_data"
    },
    {
     "data": {
      "text/html": [
       "<pre style=\"white-space:pre;overflow-x:auto;line-height:normal;font-family:Menlo,'DejaVu Sans Mono',consolas,'Courier New',monospace\">.s|.d\n",
       "cc|r \n",
       "</pre>\n"
      ],
      "text/plain": [
       "<rich.jupyter.JupyterRenderable at 0x7fe037884a00>"
      ]
     },
     "metadata": {},
     "output_type": "display_data"
    },
    {
     "data": {
      "text/html": [
       "<pre style=\"white-space:pre;overflow-x:auto;line-height:normal;font-family:Menlo,'DejaVu Sans Mono',consolas,'Courier New',monospace\">.s|.d\n",
       "sc|r \n",
       "</pre>\n"
      ],
      "text/plain": [
       "<rich.jupyter.JupyterRenderable at 0x7fe037884a00>"
      ]
     },
     "metadata": {},
     "output_type": "display_data"
    },
    {
     "data": {
      "text/html": [
       "<pre style=\"white-space:pre;overflow-x:auto;line-height:normal;font-family:Menlo,'DejaVu Sans Mono',consolas,'Courier New',monospace\">.s|.d\n",
       ".c|. \n",
       "</pre>\n"
      ],
      "text/plain": [
       "<rich.jupyter.JupyterRenderable at 0x7fe037884a00>"
      ]
     },
     "metadata": {},
     "output_type": "display_data"
    },
    {
     "data": {
      "text/html": [
       "<pre style=\"white-space:pre;overflow-x:auto;line-height:normal;font-family:Menlo,'DejaVu Sans Mono',consolas,'Courier New',monospace\">.s|.d\n",
       ".s|. \n",
       "</pre>\n"
      ],
      "text/plain": [
       "<rich.jupyter.JupyterRenderable at 0x7fe037884a00>"
      ]
     },
     "metadata": {},
     "output_type": "display_data"
    },
    {
     "data": {
      "text/html": [
       "<pre style=\"white-space:pre;overflow-x:auto;line-height:normal;font-family:Menlo,'DejaVu Sans Mono',consolas,'Courier New',monospace\">.s|.r\n",
       "cc|r \n",
       "</pre>\n"
      ],
      "text/plain": [
       "<rich.jupyter.JupyterRenderable at 0x7fe037884a00>"
      ]
     },
     "metadata": {},
     "output_type": "display_data"
    },
    {
     "data": {
      "text/html": [
       "<pre style=\"white-space:pre;overflow-x:auto;line-height:normal;font-family:Menlo,'DejaVu Sans Mono',consolas,'Courier New',monospace\">..|..\n",
       "cc|r \n",
       "</pre>\n"
      ],
      "text/plain": [
       "<rich.jupyter.JupyterRenderable at 0x7fe037884a00>"
      ]
     },
     "metadata": {},
     "output_type": "display_data"
    },
    {
     "data": {
      "text/html": [
       "<pre style=\"white-space:pre;overflow-x:auto;line-height:normal;font-family:Menlo,'DejaVu Sans Mono',consolas,'Courier New',monospace\">.s|.r\n",
       "sc|r \n",
       "</pre>\n"
      ],
      "text/plain": [
       "<rich.jupyter.JupyterRenderable at 0x7fe037884a00>"
      ]
     },
     "metadata": {},
     "output_type": "display_data"
    },
    {
     "data": {
      "text/html": [
       "<pre style=\"white-space:pre;overflow-x:auto;line-height:normal;font-family:Menlo,'DejaVu Sans Mono',consolas,'Courier New',monospace\">.s|.r\n",
       ".c|. \n",
       "</pre>\n"
      ],
      "text/plain": [
       "<rich.jupyter.JupyterRenderable at 0x7fe037884a00>"
      ]
     },
     "metadata": {},
     "output_type": "display_data"
    },
    {
     "data": {
      "text/html": [
       "<pre style=\"white-space:pre;overflow-x:auto;line-height:normal;font-family:Menlo,'DejaVu Sans Mono',consolas,'Courier New',monospace\">..|..\n",
       "sc|r \n",
       "</pre>\n"
      ],
      "text/plain": [
       "<rich.jupyter.JupyterRenderable at 0x7fe037884a00>"
      ]
     },
     "metadata": {},
     "output_type": "display_data"
    },
    {
     "data": {
      "text/html": [
       "<pre style=\"white-space:pre;overflow-x:auto;line-height:normal;font-family:Menlo,'DejaVu Sans Mono',consolas,'Courier New',monospace\">..|..\n",
       ".c|. \n",
       "</pre>\n"
      ],
      "text/plain": [
       "<rich.jupyter.JupyterRenderable at 0x7fe037884a00>"
      ]
     },
     "metadata": {},
     "output_type": "display_data"
    },
    {
     "data": {
      "text/html": [
       "<pre style=\"white-space:pre;overflow-x:auto;line-height:normal;font-family:Menlo,'DejaVu Sans Mono',consolas,'Courier New',monospace\">.s|.r\n",
       ".s|. \n",
       "</pre>\n"
      ],
      "text/plain": [
       "<rich.jupyter.JupyterRenderable at 0x7fe037884a00>"
      ]
     },
     "metadata": {},
     "output_type": "display_data"
    },
    {
     "data": {
      "text/html": [
       "<pre style=\"white-space:pre;overflow-x:auto;line-height:normal;font-family:Menlo,'DejaVu Sans Mono',consolas,'Courier New',monospace\">..|..\n",
       ".s|. \n",
       "</pre>\n"
      ],
      "text/plain": [
       "<rich.jupyter.JupyterRenderable at 0x7fe037884a00>"
      ]
     },
     "metadata": {},
     "output_type": "display_data"
    }
   ],
   "source": [
    "dO, rtype = (4,4,4,2),'M' \n",
    "display(lt(r'Let $\\mathcal O^\\vee$ has rows $%s$'%(list(dO),)))\n",
    "O = dualBVW(dO,rtype,partrc='c')\n",
    "display(lt(r'Then $\\mathcal O$ has columns $%s$'%(O,)))\n",
    "Wrepns = dualpart2Wrepn(dO,rtype)\n",
    "taus = Wrepns[0]\n",
    "tauns = Wrepns[1]\n",
    "display(lt(r'The special representation (columns) $\\tau =$ %s $\\times$  %s is paired with $\\bar\\tau = $ %s $\\times$ %s  (with $\\wp_{\\bar\\tau} = \\{(1,2)\\}$)'%(taus+tauns)))\n",
    "display(lt(r'The switching between  $\\mathrm{PBP}_C(\\mathcal O^\\vee,\\emptyset)$ and $\\mathrm{PBP}_C(\\mathcal O^\\vee, \\{(1,2)\\})$ is given by:'))\n",
    "Adrcs = [drc for drc in Wrepn2drcs(taus,rtype)]\n",
    "for drc in  Adrcs:\n",
    "    #nsdrc  = twist_M_nonspecial(drc)\n",
    "    #res = concat_strblocks(str_dgms(drc),\"<==>\",str_dgms(nsdrc))\n",
    "    print(str_dgms(drc))"
   ]
  },
  {
   "cell_type": "code",
   "execution_count": 63,
   "metadata": {},
   "outputs": [
    {
     "data": {
      "text/latex": [
       "Let $\\mathcal O^\\vee$ has rows $[9, 9, 9, 9, 9, 9, 9, 3, 3, 1]$"
      ],
      "text/plain": [
       "<IPython.core.display.Latex object>"
      ]
     },
     "metadata": {},
     "output_type": "display_data"
    },
    {
     "data": {
      "text/latex": [
       "Then $\\mathcal O$ has columns $(9, 9, 9, 7, 7, 7, 7, 7, 7, 1)$"
      ],
      "text/plain": [
       "<IPython.core.display.Latex object>"
      ]
     },
     "metadata": {},
     "output_type": "display_data"
    },
    {
     "data": {
      "text/html": [
       "<pre style=\"white-space:pre;overflow-x:auto;line-height:normal;font-family:Menlo,'DejaVu Sans Mono',consolas,'Courier New',monospace\"><span style=\"font-weight: bold\">[((</span><span style=\"color: #000080; font-weight: bold\">5</span>, <span style=\"color: #000080; font-weight: bold\">5</span>, <span style=\"color: #000080; font-weight: bold\">5</span>, <span style=\"color: #000080; font-weight: bold\">5</span>, <span style=\"color: #000080; font-weight: bold\">2</span><span style=\"font-weight: bold\">)</span>, <span style=\"font-weight: bold\">(</span><span style=\"color: #000080; font-weight: bold\">4</span>, <span style=\"color: #000080; font-weight: bold\">4</span>, <span style=\"color: #000080; font-weight: bold\">4</span>, <span style=\"color: #000080; font-weight: bold\">1</span><span style=\"font-weight: bold\">))]</span>\n",
       "<span style=\"color: #000080; font-weight: bold\">1</span>\n",
       "</pre>\n"
      ],
      "text/plain": [
       "<rich.jupyter.JupyterRenderable at 0x7fe16e452a60>"
      ]
     },
     "metadata": {},
     "output_type": "display_data"
    },
    {
     "data": {
      "text/html": [
       "<pre style=\"white-space:pre;overflow-x:auto;line-height:normal;font-family:Menlo,'DejaVu Sans Mono',consolas,'Courier New',monospace\">Type D dual-partition: <span style=\"font-weight: bold\">(</span><span style=\"color: #000080; font-weight: bold\">9</span>, <span style=\"color: #000080; font-weight: bold\">9</span>, <span style=\"color: #000080; font-weight: bold\">9</span>, <span style=\"color: #000080; font-weight: bold\">9</span>, <span style=\"color: #000080; font-weight: bold\">9</span>, <span style=\"color: #000080; font-weight: bold\">9</span>, <span style=\"color: #000080; font-weight: bold\">9</span>, <span style=\"color: #000080; font-weight: bold\">3</span>, <span style=\"color: #000080; font-weight: bold\">3</span>, <span style=\"color: #000080; font-weight: bold\">1</span><span style=\"font-weight: bold\">)</span>\n",
       "</pre>\n"
      ],
      "text/plain": [
       "<rich.jupyter.JupyterRenderable at 0x7fe037884ee0>"
      ]
     },
     "metadata": {},
     "output_type": "display_data"
    },
    {
     "data": {
      "text/html": [
       "<pre style=\"white-space:pre;overflow-x:auto;line-height:normal;font-family:Menlo,'DejaVu Sans Mono',consolas,'Courier New',monospace\"><span style=\"font-weight: bold\">[(((</span><span style=\"color: #000080; font-weight: bold\">5</span>, <span style=\"color: #000080; font-weight: bold\">5</span>, <span style=\"color: #000080; font-weight: bold\">5</span>, <span style=\"color: #000080; font-weight: bold\">5</span>, <span style=\"color: #000080; font-weight: bold\">2</span><span style=\"font-weight: bold\">)</span>, <span style=\"font-weight: bold\">(</span><span style=\"color: #000080; font-weight: bold\">4</span>, <span style=\"color: #000080; font-weight: bold\">4</span>, <span style=\"color: #000080; font-weight: bold\">4</span>, <span style=\"color: #000080; font-weight: bold\">1</span><span style=\"font-weight: bold\">))</span>, <span style=\"color: #000080; font-weight: bold\">644</span><span style=\"font-weight: bold\">)]</span>\n",
       "</pre>\n"
      ],
      "text/plain": [
       "<rich.jupyter.JupyterRenderable at 0x7fe16e7e5cd0>"
      ]
     },
     "metadata": {},
     "output_type": "display_data"
    },
    {
     "data": {
      "text/html": [
       "<pre style=\"white-space:pre;overflow-x:auto;line-height:normal;font-family:Menlo,'DejaVu Sans Mono',consolas,'Courier New',monospace\">┏━━━━━━━━━━━━━━━━━━━━━━━━━━━━━━━━━┳━━━━━┳━━━━━━━━━━┳━━━━━━━━━━┳━━━━━━━━━━┳━━━━━━━━━━┳━━━━━━━━━━┳━━━━━━━━━━┳━━━━━━━━━━┳━━━━━━━━━━┳━━━━━━━━━━┳━━━━━━━━━━┳━━━━━━━━━━┓\n",
       "┃<span style=\"font-weight: bold\">                                 </span>┃<span style=\"font-weight: bold\"> all </span>┃<span style=\"font-weight: bold\"> (40, 30) </span>┃<span style=\"font-weight: bold\"> (39, 31) </span>┃<span style=\"font-weight: bold\"> (38, 32) </span>┃<span style=\"font-weight: bold\"> (37, 33) </span>┃<span style=\"font-weight: bold\"> (36, 34) </span>┃<span style=\"font-weight: bold\"> (35, 35) </span>┃<span style=\"font-weight: bold\"> (34, 36) </span>┃<span style=\"font-weight: bold\"> (33, 37) </span>┃<span style=\"font-weight: bold\"> (32, 38) </span>┃<span style=\"font-weight: bold\"> (31, 39) </span>┃<span style=\"font-weight: bold\"> (30, 40) </span>┃\n",
       "┡━━━━━━━━━━━━━━━━━━━━━━━━━━━━━━━━━╇━━━━━╇━━━━━━━━━━╇━━━━━━━━━━╇━━━━━━━━━━╇━━━━━━━━━━╇━━━━━━━━━━╇━━━━━━━━━━╇━━━━━━━━━━╇━━━━━━━━━━╇━━━━━━━━━━╇━━━━━━━━━━╇━━━━━━━━━━┩\n",
       "│ ((5, 5, 5, 5, 2), (4, 4, 4, 1)) │ 644 │ 8        │ 30       │ 58       │ 82       │ 95       │ 98       │ 95       │ 82       │ 58       │ 30       │ 8        │\n",
       "└─────────────────────────────────┴─────┴──────────┴──────────┴──────────┴──────────┴──────────┴──────────┴──────────┴──────────┴──────────┴──────────┴──────────┘\n",
       "</pre>\n"
      ],
      "text/plain": [
       "<rich.jupyter.JupyterRenderable at 0x7fe048d448b0>"
      ]
     },
     "metadata": {},
     "output_type": "display_data"
    },
    {
     "data": {
      "text/html": [
       "<pre style=\"white-space:pre;overflow-x:auto;line-height:normal;font-family:Menlo,'DejaVu Sans Mono',consolas,'Courier New',monospace\">Number of drc diagrams: <span style=\"color: #000080; font-weight: bold\">644</span>\n",
       "</pre>\n"
      ],
      "text/plain": [
       "<rich.jupyter.JupyterRenderable at 0x7fe0491cb760>"
      ]
     },
     "metadata": {},
     "output_type": "display_data"
    },
    {
     "data": {
      "text/latex": [
       "$\\displaystyle 8 {p}^{40} {q}^{30} + 30 {p}^{39} {q}^{31} + 58 {p}^{38} {q}^{32} + 82 {p}^{37} {q}^{33} + 95 {p}^{36} {q}^{34} + 98 {p}^{35} {q}^{35} + 95 {p}^{34} {q}^{36} + 82 {p}^{33} {q}^{37} + 58 {p}^{32} {q}^{38} + 30 {p}^{31} {q}^{39} + 8 {p}^{30} {q}^{40}$"
      ],
      "text/plain": [
       "<IPython.core.display.Math object>"
      ]
     },
     "metadata": {},
     "output_type": "display_data"
    }
   ],
   "source": [
    "## example of good parity dual orbit\n",
    "\n",
    "#dO, rtype = (13,11,5,5,5,5,3,3,1,1),'D' \n",
    "#dO, rtype,drtype = (7,5,3,1),'D' ,'D'\n",
    "dO, rtype,drtype = (19,19,19,19,17,13,9,9,9,9,9,3,3,1),'D' ,'D'\n",
    "dO, rtype,drtype = (19,19,19,19,17,13,9,9,9,9,9,9,9,3,3,1),'D' ,'D'\n",
    "dO = (9,9,9,9,9,9,9,3,3,1)\n",
    "display(lt(r'Let $\\mathcal O^\\vee$ has rows $%s$'%(list(dO),)))\n",
    "O = dualBVW(dO,rtype,partrc='r')\n",
    "display(lt(r'Then $\\mathcal O$ has columns $%s$'%(O,)))\n",
    "# Broken\n",
    "#Wrepns = springer_part2family(dO,drtype)\n",
    "WrepnsB = dualpart2Wrepn(dO,rtype)\n",
    "#Wrepns, WrepnsB = set(Wrepns), set(WrepnsB)\n",
    "#print(Wrepns, len(Wrepns))\n",
    "print(WrepnsB, len(WrepnsB))\n",
    "#print(\"The left cell WrepnB is a subset of the family Wrepns by Lusztig's theory:\", WrepnsB.issubset(Wrepns))\n",
    "\n",
    "# run over repns in the Lusztig left cell\n",
    "AdrcD = dpart2drc(dO,rtype,getlist=False)\n",
    "\n",
    "countres = countunip(dO,rtype)\n",
    "display(Math(latex(countres)))\n",
    "\n",
    "#print(len(AdrcD))\n",
    "#print(AdrcD)\n",
    "\n",
    "\n",
    "\n",
    "# run over repns in the families\n",
    "#AdrcD = dpart2pbp(dO,rtype)\n",
    "#print(len(AdrcD))\n",
    "\n"
   ]
  },
  {
   "cell_type": "code",
   "execution_count": 95,
   "metadata": {},
   "outputs": [
    {
     "data": {
      "text/latex": [
       "Let $\\mathcal O^\\vee$ has rows $[8, 8, 8, 8, 4, 4, 4]$"
      ],
      "text/plain": [
       "<IPython.core.display.Latex object>"
      ]
     },
     "metadata": {},
     "output_type": "display_data"
    },
    {
     "data": {
      "text/latex": [
       "Then $\\mathcal O$ has columns $(7, 7, 7, 7, 5, 4, 4, 3, 1)$"
      ],
      "text/plain": [
       "<IPython.core.display.Latex object>"
      ]
     },
     "metadata": {},
     "output_type": "display_data"
    },
    {
     "data": {
      "text/html": [
       "<pre style=\"white-space:pre;overflow-x:auto;line-height:normal;font-family:Menlo,'DejaVu Sans Mono',consolas,'Courier New',monospace\">Type B dual-partition: <span style=\"font-weight: bold\">(</span><span style=\"color: #000080; font-weight: bold\">8</span>, <span style=\"color: #000080; font-weight: bold\">8</span>, <span style=\"color: #000080; font-weight: bold\">8</span>, <span style=\"color: #000080; font-weight: bold\">8</span>, <span style=\"color: #000080; font-weight: bold\">4</span>, <span style=\"color: #000080; font-weight: bold\">4</span>, <span style=\"color: #000080; font-weight: bold\">4</span><span style=\"font-weight: bold\">)</span>\n",
       "</pre>\n"
      ],
      "text/plain": [
       "<rich.jupyter.JupyterRenderable at 0x7fe048d454f0>"
      ]
     },
     "metadata": {},
     "output_type": "display_data"
    },
    {
     "data": {
      "text/html": [
       "<pre style=\"white-space:pre;overflow-x:auto;line-height:normal;font-family:Menlo,'DejaVu Sans Mono',consolas,'Courier New',monospace\">┏━━━━━━━━━━━━━━━━━━━━━━━━━━━┳━━━━━┳━━━━━━━━━━┳━━━━━━━━━━┳━━━━━━━━━━┳━━━━━━━━━━┓\n",
       "┃<span style=\"font-weight: bold\">                           </span>┃<span style=\"font-weight: bold\"> all </span>┃<span style=\"font-weight: bold\"> (26, 19) </span>┃<span style=\"font-weight: bold\"> (24, 21) </span>┃<span style=\"font-weight: bold\"> (22, 23) </span>┃<span style=\"font-weight: bold\"> (20, 25) </span>┃\n",
       "┡━━━━━━━━━━━━━━━━━━━━━━━━━━━╇━━━━━╇━━━━━━━━━━╇━━━━━━━━━━╇━━━━━━━━━━╇━━━━━━━━━━┩\n",
       "│ ((4, 4, 2), (4, 4, 2, 2)) │ 104 │ 4        │ 36       │ 46       │ 18       │\n",
       "├───────────────────────────┼─────┼──────────┼──────────┼──────────┼──────────┤\n",
       "│ ((4, 2, 2), (4, 4, 4, 2)) │ 104 │ 4        │ 36       │ 46       │ 18       │\n",
       "└───────────────────────────┴─────┴──────────┴──────────┴──────────┴──────────┘\n",
       "</pre>\n"
      ],
      "text/plain": [
       "<rich.jupyter.JupyterRenderable at 0x7fe048d45fd0>"
      ]
     },
     "metadata": {},
     "output_type": "display_data"
    },
    {
     "data": {
      "text/html": [
       "<pre style=\"white-space:pre;overflow-x:auto;line-height:normal;font-family:Menlo,'DejaVu Sans Mono',consolas,'Courier New',monospace\">The result of counting function: <span style=\"color: #000080; font-weight: bold\">4</span>*p**<span style=\"color: #000080; font-weight: bold\">26</span>*q**<span style=\"color: #000080; font-weight: bold\">19</span> + <span style=\"color: #000080; font-weight: bold\">18</span>*p**<span style=\"color: #000080; font-weight: bold\">25</span>*q**<span style=\"color: #000080; font-weight: bold\">20</span> + <span style=\"color: #000080; font-weight: bold\">36</span>*p**<span style=\"color: #000080; font-weight: bold\">24</span>*q**<span style=\"color: #000080; font-weight: bold\">21</span> + <span style=\"color: #000080; font-weight: bold\">46</span>*p**<span style=\"color: #000080; font-weight: bold\">23</span>*q**<span style=\"color: #000080; font-weight: bold\">22</span> + <span style=\"color: #000080; font-weight: bold\">46</span>*p**<span style=\"color: #000080; font-weight: bold\">22</span>*q**<span style=\"color: #000080; font-weight: bold\">23</span> + <span style=\"color: #000080; font-weight: bold\">36</span>*p**<span style=\"color: #000080; font-weight: bold\">21</span>*q**<span style=\"color: #000080; font-weight: bold\">24</span> + <span style=\"color: #000080; font-weight: bold\">18</span>*p**<span style=\"color: #000080; font-weight: bold\">20</span>*q**<span style=\"color: #000080; font-weight: bold\">25</span> + <span style=\"color: #000080; font-weight: bold\">4</span>*p**<span style=\"color: #000080; font-weight: bold\">19</span>*q**<span style=\"color: #000080; font-weight: bold\">26</span>\n",
       "</pre>\n"
      ],
      "text/plain": [
       "<rich.jupyter.JupyterRenderable at 0x7fe048d45d60>"
      ]
     },
     "metadata": {},
     "output_type": "display_data"
    },
    {
     "data": {
      "text/html": [
       "<pre style=\"white-space:pre;overflow-x:auto;line-height:normal;font-family:Menlo,'DejaVu Sans Mono',consolas,'Courier New',monospace\">Number of drc diagrams: <span style=\"color: #000080; font-weight: bold\">208</span>\n",
       "</pre>\n"
      ],
      "text/plain": [
       "<rich.jupyter.JupyterRenderable at 0x7fe048d45370>"
      ]
     },
     "metadata": {},
     "output_type": "display_data"
    }
   ],
   "source": [
    "## example of good parity dual orbit\n",
    "\n",
    "\n",
    "dO, rtype,drtype = (8,6,4,4,4,4,2,0),'B' ,'C'\n",
    "dO = (8,8,8,8,4,4,4,)\n",
    "display(lt(r'Let $\\mathcal O^\\vee$ has rows $%s$'%(list(dO),)))\n",
    "O = dualBVW(dO,rtype,partrc='r')\n",
    "display(lt(r'Then $\\mathcal O$ has columns $%s$'%(O,)))\n",
    "\n",
    "AdrcD = dpart2drc(dO,rtype,getlist=False)\n",
    "\n"
   ]
  },
  {
   "cell_type": "code",
   "execution_count": 88,
   "metadata": {},
   "outputs": [
    {
     "data": {
      "text/latex": [
       "Let $\\mathcal O^\\vee$ has rows $[8, 8, 8, 8, 4, 4, 4, 4]$"
      ],
      "text/plain": [
       "<IPython.core.display.Latex object>"
      ]
     },
     "metadata": {},
     "output_type": "display_data"
    },
    {
     "data": {
      "text/latex": [
       "Then $\\mathcal O$ has columns $(8, 8, 8, 8, 4, 4, 4, 4)$"
      ],
      "text/plain": [
       "<IPython.core.display.Latex object>"
      ]
     },
     "metadata": {},
     "output_type": "display_data"
    },
    {
     "data": {
      "text/html": [
       "<pre style=\"white-space:pre;overflow-x:auto;line-height:normal;font-family:Menlo,'DejaVu Sans Mono',consolas,'Courier New',monospace\">Type M dual-partition: <span style=\"font-weight: bold\">(</span><span style=\"color: #000080; font-weight: bold\">8</span>, <span style=\"color: #000080; font-weight: bold\">8</span>, <span style=\"color: #000080; font-weight: bold\">8</span>, <span style=\"color: #000080; font-weight: bold\">8</span>, <span style=\"color: #000080; font-weight: bold\">4</span>, <span style=\"color: #000080; font-weight: bold\">4</span>, <span style=\"color: #000080; font-weight: bold\">4</span>, <span style=\"color: #000080; font-weight: bold\">4</span><span style=\"font-weight: bold\">)</span>\n",
       "</pre>\n"
      ],
      "text/plain": [
       "<rich.jupyter.JupyterRenderable at 0x7fe16e452790>"
      ]
     },
     "metadata": {},
     "output_type": "display_data"
    },
    {
     "data": {
      "text/html": [
       "<pre style=\"white-space:pre;overflow-x:auto;line-height:normal;font-family:Menlo,'DejaVu Sans Mono',consolas,'Courier New',monospace\">┏━━━━━━━━━━━━━━━━━━━━━━━━━━━━━━┳━━━━━┳━━━━━━━━━━┓\n",
       "┃<span style=\"font-weight: bold\">                              </span>┃<span style=\"font-weight: bold\"> all </span>┃<span style=\"font-weight: bold\"> (24, 24) </span>┃\n",
       "┡━━━━━━━━━━━━━━━━━━━━━━━━━━━━━━╇━━━━━╇━━━━━━━━━━┩\n",
       "│ ((4, 4, 2, 2), (4, 4, 2, 2)) │ 305 │ 305      │\n",
       "└──────────────────────────────┴─────┴──────────┘\n",
       "</pre>\n"
      ],
      "text/plain": [
       "<rich.jupyter.JupyterRenderable at 0x7fe16e4524c0>"
      ]
     },
     "metadata": {},
     "output_type": "display_data"
    },
    {
     "data": {
      "text/html": [
       "<pre style=\"white-space:pre;overflow-x:auto;line-height:normal;font-family:Menlo,'DejaVu Sans Mono',consolas,'Courier New',monospace\">Number of drc diagrams: <span style=\"color: #000080; font-weight: bold\">305</span>\n",
       "</pre>\n"
      ],
      "text/plain": [
       "<rich.jupyter.JupyterRenderable at 0x7fe16e459940>"
      ]
     },
     "metadata": {},
     "output_type": "display_data"
    },
    {
     "data": {
      "text/latex": [
       "The result of counting function: $305$"
      ],
      "text/plain": [
       "<IPython.core.display.Latex object>"
      ]
     },
     "metadata": {},
     "output_type": "display_data"
    }
   ],
   "source": [
    "## example of good parity dual orbit\n",
    "\n",
    "\n",
    "dO, rtype,drtype = (8,6,4,4,4,4,2,0),'M','C'\n",
    "dO = (8,8,8,8,4,4,4,4)\n",
    "display(lt(r'Let $\\mathcal O^\\vee$ has rows $%s$'%(list(dO),)))\n",
    "O = dualBVW(dO,rtype,partrc='r')\n",
    "display(lt(r'Then $\\mathcal O$ has columns $%s$'%(O,)))\n",
    "\n",
    "AdrcD = dpart2drc(dO,rtype,getlist=False)\n",
    "\n"
   ]
  },
  {
   "cell_type": "code",
   "execution_count": 94,
   "metadata": {},
   "outputs": [
    {
     "data": {
      "text/latex": [
       "Let $\\mathcal O^\\vee$ has rows $[9, 9, 9, 9, 9, 3, 3]$"
      ],
      "text/plain": [
       "<IPython.core.display.Latex object>"
      ]
     },
     "metadata": {},
     "output_type": "display_data"
    },
    {
     "data": {
      "text/latex": [
       "Then $\\mathcal O$ has columns $(7, 7, 6, 6, 5, 5, 5, 5, 4)$"
      ],
      "text/plain": [
       "<IPython.core.display.Latex object>"
      ]
     },
     "metadata": {},
     "output_type": "display_data"
    },
    {
     "data": {
      "text/html": [
       "<pre style=\"white-space:pre;overflow-x:auto;line-height:normal;font-family:Menlo,'DejaVu Sans Mono',consolas,'Courier New',monospace\">Type C dual-partition: <span style=\"font-weight: bold\">(</span><span style=\"color: #000080; font-weight: bold\">9</span>, <span style=\"color: #000080; font-weight: bold\">9</span>, <span style=\"color: #000080; font-weight: bold\">9</span>, <span style=\"color: #000080; font-weight: bold\">9</span>, <span style=\"color: #000080; font-weight: bold\">9</span>, <span style=\"color: #000080; font-weight: bold\">3</span>, <span style=\"color: #000080; font-weight: bold\">3</span><span style=\"font-weight: bold\">)</span>\n",
       "</pre>\n"
      ],
      "text/plain": [
       "<rich.jupyter.JupyterRenderable at 0x7fe04962d3d0>"
      ]
     },
     "metadata": {},
     "output_type": "display_data"
    },
    {
     "data": {
      "text/html": [
       "<pre style=\"white-space:pre;overflow-x:auto;line-height:normal;font-family:Menlo,'DejaVu Sans Mono',consolas,'Courier New',monospace\">┏━━━━━━━━━━━━━━━━━━━━━━━━━━━┳━━━━━┳━━━━━━━━━━┓\n",
       "┃<span style=\"font-weight: bold\">                           </span>┃<span style=\"font-weight: bold\"> all </span>┃<span style=\"font-weight: bold\"> (25, 25) </span>┃\n",
       "┡━━━━━━━━━━━━━━━━━━━━━━━━━━━╇━━━━━╇━━━━━━━━━━┩\n",
       "│ ((5, 5, 2), (4, 4, 4, 1)) │ 20  │ 20       │\n",
       "├───────────────────────────┼─────┼──────────┤\n",
       "│ ((5, 5, 5), (4, 4, 1, 1)) │ 20  │ 20       │\n",
       "└───────────────────────────┴─────┴──────────┘\n",
       "</pre>\n"
      ],
      "text/plain": [
       "<rich.jupyter.JupyterRenderable at 0x7fe17c093a00>"
      ]
     },
     "metadata": {},
     "output_type": "display_data"
    },
    {
     "data": {
      "text/html": [
       "<pre style=\"white-space:pre;overflow-x:auto;line-height:normal;font-family:Menlo,'DejaVu Sans Mono',consolas,'Courier New',monospace\">The result of counting function: <span style=\"color: #000080; font-weight: bold\">20</span>\n",
       "</pre>\n"
      ],
      "text/plain": [
       "<rich.jupyter.JupyterRenderable at 0x7fe17c093e20>"
      ]
     },
     "metadata": {},
     "output_type": "display_data"
    },
    {
     "data": {
      "text/html": [
       "<pre style=\"white-space:pre;overflow-x:auto;line-height:normal;font-family:Menlo,'DejaVu Sans Mono',consolas,'Courier New',monospace\">Number of drc diagrams: <span style=\"color: #000080; font-weight: bold\">40</span>\n",
       "</pre>\n"
      ],
      "text/plain": [
       "<rich.jupyter.JupyterRenderable at 0x7fe17c093c40>"
      ]
     },
     "metadata": {},
     "output_type": "display_data"
    },
    {
     "name": "stdout",
     "output_type": "stream",
     "text": [
      "20\n"
     ]
    },
    {
     "data": {
      "text/latex": [
       "The result of counting function: $20$"
      ],
      "text/plain": [
       "<IPython.core.display.Latex object>"
      ]
     },
     "metadata": {},
     "output_type": "display_data"
    }
   ],
   "source": [
    "## example of good parity dual orbit\n",
    "\n",
    "\n",
    "dO, rtype,drtype = (19,19,19,19,17,13,9,9,9,9,9,9,9,3,3,),'C','B'\n",
    "dO = (9,9,9,9,9,3,3,)\n",
    "\n",
    "display(lt(r'Let $\\mathcal O^\\vee$ has rows $%s$'%(list(dO),)))\n",
    "O = dualBVW(dO,rtype,partrc='r')\n",
    "display(lt(r'Then $\\mathcal O$ has columns $%s$'%(O,)))\n",
    "\n",
    "AdrcD = dpart2drc(dO,rtype,getlist=False)\n",
    "\n",
    "\n",
    "countres = countunip(dO,rtype)\n",
    "pprint(countres)\n",
    "display(lt(f\"The result of counting function: ${latex(countres)}$\"))"
   ]
  },
  {
   "cell_type": "code",
   "execution_count": 87,
   "metadata": {},
   "outputs": [
    {
     "data": {
      "text/latex": [
       "Let $\\mathcal O^\\vee$ has rows $[35, 23, 19, 15, 11, 7, 3]$"
      ],
      "text/plain": [
       "<IPython.core.display.Latex object>"
      ]
     },
     "metadata": {},
     "output_type": "display_data"
    },
    {
     "data": {
      "text/latex": [
       "Then $\\mathcal O$ has columns $(7, 7, 6, 6, 6, 6, 6, 6, 5, 5, 4, 4, 4, 4, 4, 4, 3, 3, 2, 2, 2, 2, 2, 2, 1, 1, 1, 1, 1, 1, 1, 1, 1, 1)$"
      ],
      "text/plain": [
       "<IPython.core.display.Latex object>"
      ]
     },
     "metadata": {},
     "output_type": "display_data"
    },
    {
     "data": {
      "text/html": [
       "<pre style=\"white-space:pre;overflow-x:auto;line-height:normal;font-family:Menlo,'DejaVu Sans Mono',consolas,'Courier New',monospace\">Type CS dual-partition: <span style=\"font-weight: bold\">(</span><span style=\"color: #000080; font-weight: bold\">35</span>, <span style=\"color: #000080; font-weight: bold\">23</span>, <span style=\"color: #000080; font-weight: bold\">19</span>, <span style=\"color: #000080; font-weight: bold\">15</span>, <span style=\"color: #000080; font-weight: bold\">11</span>, <span style=\"color: #000080; font-weight: bold\">7</span>, <span style=\"color: #000080; font-weight: bold\">3</span><span style=\"font-weight: bold\">)</span>\n",
       "</pre>\n"
      ],
      "text/plain": [
       "<rich.jupyter.JupyterRenderable at 0x7fe0491cb9a0>"
      ]
     },
     "metadata": {},
     "output_type": "display_data"
    },
    {
     "data": {
      "text/html": [
       "<pre style=\"white-space:pre;overflow-x:auto;line-height:normal;font-family:Menlo,'DejaVu Sans Mono',consolas,'Courier New',monospace\">┏━━━━━━━━━━━━━━━━━━━━━━━━━━━━━━┳━━━━━┳━━━━━━━━━━┳━━━━━━━━━━┳━━━━━━━━━━┳━━━━━━━━━━┳━━━━━━━━━━┳━━━━━━━━━━┳━━━━━━━━━━┳━━━━━━━━━━┳━━━━━━━━━━┓\n",
       "┃<span style=\"font-weight: bold\">                              </span>┃<span style=\"font-weight: bold\"> all </span>┃<span style=\"font-weight: bold\"> (64, 48) </span>┃<span style=\"font-weight: bold\"> (62, 50) </span>┃<span style=\"font-weight: bold\"> (60, 52) </span>┃<span style=\"font-weight: bold\"> (58, 54) </span>┃<span style=\"font-weight: bold\"> (56, 56) </span>┃<span style=\"font-weight: bold\"> (54, 58) </span>┃<span style=\"font-weight: bold\"> (52, 60) </span>┃<span style=\"font-weight: bold\"> (50, 62) </span>┃<span style=\"font-weight: bold\"> (48, 64) </span>┃\n",
       "┡━━━━━━━━━━━━━━━━━━━━━━━━━━━━━━╇━━━━━╇━━━━━━━━━━╇━━━━━━━━━━╇━━━━━━━━━━╇━━━━━━━━━━╇━━━━━━━━━━╇━━━━━━━━━━╇━━━━━━━━━━╇━━━━━━━━━━╇━━━━━━━━━━┩\n",
       "│ ((12, 8, 4), (17, 9, 5, 1))  │ 48  │ 1        │ 4        │ 7        │ 8        │ 8        │ 8        │ 7        │ 4        │ 1        │\n",
       "├──────────────────────────────┼─────┼──────────┼──────────┼──────────┼──────────┼──────────┼──────────┼──────────┼──────────┼──────────┤\n",
       "│ ((18, 8, 4), (11, 9, 5, 1))  │ 0   │ 0        │ 0        │ 0        │ 0        │ 0        │ 0        │ 0        │ 0        │ 0        │\n",
       "├──────────────────────────────┼─────┼──────────┼──────────┼──────────┼──────────┼──────────┼──────────┼──────────┼──────────┼──────────┤\n",
       "│ ((12, 10, 4), (17, 7, 5, 1)) │ 0   │ 0        │ 0        │ 0        │ 0        │ 0        │ 0        │ 0        │ 0        │ 0        │\n",
       "├──────────────────────────────┼─────┼──────────┼──────────┼──────────┼──────────┼──────────┼──────────┼──────────┼──────────┼──────────┤\n",
       "│ ((12, 8, 6), (17, 9, 3, 1))  │ 0   │ 0        │ 0        │ 0        │ 0        │ 0        │ 0        │ 0        │ 0        │ 0        │\n",
       "├──────────────────────────────┼─────┼──────────┼──────────┼──────────┼──────────┼──────────┼──────────┼──────────┼──────────┼──────────┤\n",
       "│ ((18, 10, 4), (11, 7, 5, 1)) │ 0   │ 0        │ 0        │ 0        │ 0        │ 0        │ 0        │ 0        │ 0        │ 0        │\n",
       "├──────────────────────────────┼─────┼──────────┼──────────┼──────────┼──────────┼──────────┼──────────┼──────────┼──────────┼──────────┤\n",
       "│ ((18, 8, 6), (11, 9, 3, 1))  │ 0   │ 0        │ 0        │ 0        │ 0        │ 0        │ 0        │ 0        │ 0        │ 0        │\n",
       "├──────────────────────────────┼─────┼──────────┼──────────┼──────────┼──────────┼──────────┼──────────┼──────────┼──────────┼──────────┤\n",
       "│ ((12, 10, 6), (17, 7, 3, 1)) │ 0   │ 0        │ 0        │ 0        │ 0        │ 0        │ 0        │ 0        │ 0        │ 0        │\n",
       "├──────────────────────────────┼─────┼──────────┼──────────┼──────────┼──────────┼──────────┼──────────┼──────────┼──────────┼──────────┤\n",
       "│ ((18, 10, 6), (11, 7, 3, 1)) │ 0   │ 0        │ 0        │ 0        │ 0        │ 0        │ 0        │ 0        │ 0        │ 0        │\n",
       "└──────────────────────────────┴─────┴──────────┴──────────┴──────────┴──────────┴──────────┴──────────┴──────────┴──────────┴──────────┘\n",
       "</pre>\n"
      ],
      "text/plain": [
       "<rich.jupyter.JupyterRenderable at 0x7fe17c0750a0>"
      ]
     },
     "metadata": {},
     "output_type": "display_data"
    },
    {
     "data": {
      "text/html": [
       "<pre style=\"white-space:pre;overflow-x:auto;line-height:normal;font-family:Menlo,'DejaVu Sans Mono',consolas,'Courier New',monospace\">Number of drc diagrams: <span style=\"color: #000080; font-weight: bold\">48</span>\n",
       "</pre>\n"
      ],
      "text/plain": [
       "<rich.jupyter.JupyterRenderable at 0x7fe17c0750d0>"
      ]
     },
     "metadata": {},
     "output_type": "display_data"
    },
    {
     "data": {
      "text/latex": [
       "The result of counting function: ${p}^{64} {q}^{48} + 4 {p}^{62} {q}^{50} + 7 {p}^{60} {q}^{52} + 8 {p}^{58} {q}^{54} + 8 {p}^{56} {q}^{56} + 8 {p}^{54} {q}^{58} + 7 {p}^{52} {q}^{60} + 4 {p}^{50} {q}^{62} + {p}^{48} {q}^{64}$"
      ],
      "text/plain": [
       "<IPython.core.display.Latex object>"
      ]
     },
     "metadata": {},
     "output_type": "display_data"
    }
   ],
   "source": [
    "dO, rtype,drtype = (19,19,19,19,17,13,9,9,9,9,9,9,9,3,3,),'CS','B'\n",
    "dO = (35,23,19,15,11,7,3,)\n",
    "\n",
    "display(lt(r'Let $\\mathcal O^\\vee$ has rows $%s$'%(list(dO),)))\n",
    "O = dualBVW(dO,rtype,partrc='r')\n",
    "display(lt(r'Then $\\mathcal O$ has columns $%s$'%(O,)))\n",
    "\n",
    "AdrcD = dpart2drc(dO,rtype,printdig=False,getlist=False)\n",
    "\n",
    "\n",
    "countres = countunip(dO,rtype)\n",
    "display(lt(f\"The result of counting function: ${latex(countres)}$\"))"
   ]
  },
  {
   "cell_type": "code",
   "execution_count": 54,
   "metadata": {},
   "outputs": [
    {
     "data": {
      "text/latex": [
       "Let $\\mathcal O^\\vee$ has rows $[35, 35, 23, 23, 19, 15, 11, 7]$"
      ],
      "text/plain": [
       "<IPython.core.display.Latex object>"
      ]
     },
     "metadata": {},
     "output_type": "display_data"
    },
    {
     "data": {
      "text/latex": [
       "Then $\\mathcal O$ has columns $(8, 8, 8, 8, 8, 8, 7, 7, 7, 7, 7, 7, 6, 6, 5, 5, 5, 5, 5, 5, 4, 4, 3, 3, 2, 2, 2, 2, 2, 2, 2, 2, 2, 2, 1, 1)$"
      ],
      "text/plain": [
       "<IPython.core.display.Latex object>"
      ]
     },
     "metadata": {},
     "output_type": "display_data"
    },
    {
     "data": {
      "text/html": [
       "<pre style=\"white-space:pre;overflow-x:auto;line-height:normal;font-family:Menlo,'DejaVu Sans Mono',consolas,'Courier New',monospace\">Type DS dual-partition: <span style=\"font-weight: bold\">(</span><span style=\"color: #000080; font-weight: bold\">35</span>, <span style=\"color: #000080; font-weight: bold\">35</span>, <span style=\"color: #000080; font-weight: bold\">23</span>, <span style=\"color: #000080; font-weight: bold\">23</span>, <span style=\"color: #000080; font-weight: bold\">19</span>, <span style=\"color: #000080; font-weight: bold\">15</span>, <span style=\"color: #000080; font-weight: bold\">11</span>, <span style=\"color: #000080; font-weight: bold\">7</span><span style=\"font-weight: bold\">)</span>\n",
       "</pre>\n"
      ],
      "text/plain": [
       "<rich.jupyter.JupyterRenderable at 0x7fe048d44910>"
      ]
     },
     "metadata": {},
     "output_type": "display_data"
    },
    {
     "data": {
      "text/html": [
       "<pre style=\"white-space:pre;overflow-x:auto;line-height:normal;font-family:Menlo,'DejaVu Sans Mono',consolas,'Courier New',monospace\"><span style=\"font-weight: bold\">[</span>\n",
       "    <span style=\"font-weight: bold\">(((</span><span style=\"color: #000080; font-weight: bold\">18</span>, <span style=\"color: #000080; font-weight: bold\">12</span>, <span style=\"color: #000080; font-weight: bold\">10</span>, <span style=\"color: #000080; font-weight: bold\">6</span><span style=\"font-weight: bold\">)</span>, <span style=\"font-weight: bold\">(</span><span style=\"color: #000080; font-weight: bold\">17</span>, <span style=\"color: #000080; font-weight: bold\">11</span>, <span style=\"color: #000080; font-weight: bold\">7</span>, <span style=\"color: #000080; font-weight: bold\">3</span><span style=\"font-weight: bold\">))</span>, <span style=\"color: #000080; font-weight: bold\">96</span><span style=\"font-weight: bold\">)</span>,\n",
       "    <span style=\"font-weight: bold\">(((</span><span style=\"color: #000080; font-weight: bold\">18</span>, <span style=\"color: #000080; font-weight: bold\">18</span>, <span style=\"color: #000080; font-weight: bold\">10</span>, <span style=\"color: #000080; font-weight: bold\">6</span><span style=\"font-weight: bold\">)</span>, <span style=\"font-weight: bold\">(</span><span style=\"color: #000080; font-weight: bold\">11</span>, <span style=\"color: #000080; font-weight: bold\">11</span>, <span style=\"color: #000080; font-weight: bold\">7</span>, <span style=\"color: #000080; font-weight: bold\">3</span><span style=\"font-weight: bold\">))</span>, <span style=\"color: #000080; font-weight: bold\">0</span><span style=\"font-weight: bold\">)</span>,\n",
       "    <span style=\"font-weight: bold\">(((</span><span style=\"color: #000080; font-weight: bold\">18</span>, <span style=\"color: #000080; font-weight: bold\">12</span>, <span style=\"color: #000080; font-weight: bold\">12</span>, <span style=\"color: #000080; font-weight: bold\">6</span><span style=\"font-weight: bold\">)</span>, <span style=\"font-weight: bold\">(</span><span style=\"color: #000080; font-weight: bold\">17</span>, <span style=\"color: #000080; font-weight: bold\">9</span>, <span style=\"color: #000080; font-weight: bold\">7</span>, <span style=\"color: #000080; font-weight: bold\">3</span><span style=\"font-weight: bold\">))</span>, <span style=\"color: #000080; font-weight: bold\">0</span><span style=\"font-weight: bold\">)</span>,\n",
       "    <span style=\"font-weight: bold\">(((</span><span style=\"color: #000080; font-weight: bold\">18</span>, <span style=\"color: #000080; font-weight: bold\">12</span>, <span style=\"color: #000080; font-weight: bold\">10</span>, <span style=\"color: #000080; font-weight: bold\">8</span><span style=\"font-weight: bold\">)</span>, <span style=\"font-weight: bold\">(</span><span style=\"color: #000080; font-weight: bold\">17</span>, <span style=\"color: #000080; font-weight: bold\">11</span>, <span style=\"color: #000080; font-weight: bold\">5</span>, <span style=\"color: #000080; font-weight: bold\">3</span><span style=\"font-weight: bold\">))</span>, <span style=\"color: #000080; font-weight: bold\">0</span><span style=\"font-weight: bold\">)</span>,\n",
       "    <span style=\"font-weight: bold\">(((</span><span style=\"color: #000080; font-weight: bold\">18</span>, <span style=\"color: #000080; font-weight: bold\">18</span>, <span style=\"color: #000080; font-weight: bold\">12</span>, <span style=\"color: #000080; font-weight: bold\">6</span><span style=\"font-weight: bold\">)</span>, <span style=\"font-weight: bold\">(</span><span style=\"color: #000080; font-weight: bold\">11</span>, <span style=\"color: #000080; font-weight: bold\">9</span>, <span style=\"color: #000080; font-weight: bold\">7</span>, <span style=\"color: #000080; font-weight: bold\">3</span><span style=\"font-weight: bold\">))</span>, <span style=\"color: #000080; font-weight: bold\">0</span><span style=\"font-weight: bold\">)</span>,\n",
       "    <span style=\"font-weight: bold\">(((</span><span style=\"color: #000080; font-weight: bold\">18</span>, <span style=\"color: #000080; font-weight: bold\">18</span>, <span style=\"color: #000080; font-weight: bold\">10</span>, <span style=\"color: #000080; font-weight: bold\">8</span><span style=\"font-weight: bold\">)</span>, <span style=\"font-weight: bold\">(</span><span style=\"color: #000080; font-weight: bold\">11</span>, <span style=\"color: #000080; font-weight: bold\">11</span>, <span style=\"color: #000080; font-weight: bold\">5</span>, <span style=\"color: #000080; font-weight: bold\">3</span><span style=\"font-weight: bold\">))</span>, <span style=\"color: #000080; font-weight: bold\">0</span><span style=\"font-weight: bold\">)</span>,\n",
       "    <span style=\"font-weight: bold\">(((</span><span style=\"color: #000080; font-weight: bold\">18</span>, <span style=\"color: #000080; font-weight: bold\">12</span>, <span style=\"color: #000080; font-weight: bold\">12</span>, <span style=\"color: #000080; font-weight: bold\">8</span><span style=\"font-weight: bold\">)</span>, <span style=\"font-weight: bold\">(</span><span style=\"color: #000080; font-weight: bold\">17</span>, <span style=\"color: #000080; font-weight: bold\">9</span>, <span style=\"color: #000080; font-weight: bold\">5</span>, <span style=\"color: #000080; font-weight: bold\">3</span><span style=\"font-weight: bold\">))</span>, <span style=\"color: #000080; font-weight: bold\">0</span><span style=\"font-weight: bold\">)</span>,\n",
       "    <span style=\"font-weight: bold\">(((</span><span style=\"color: #000080; font-weight: bold\">18</span>, <span style=\"color: #000080; font-weight: bold\">18</span>, <span style=\"color: #000080; font-weight: bold\">12</span>, <span style=\"color: #000080; font-weight: bold\">8</span><span style=\"font-weight: bold\">)</span>, <span style=\"font-weight: bold\">(</span><span style=\"color: #000080; font-weight: bold\">11</span>, <span style=\"color: #000080; font-weight: bold\">9</span>, <span style=\"color: #000080; font-weight: bold\">5</span>, <span style=\"color: #000080; font-weight: bold\">3</span><span style=\"font-weight: bold\">))</span>, <span style=\"color: #000080; font-weight: bold\">0</span><span style=\"font-weight: bold\">)</span>\n",
       "<span style=\"font-weight: bold\">]</span>\n",
       "</pre>\n"
      ],
      "text/plain": [
       "<rich.jupyter.JupyterRenderable at 0x7fe048d44160>"
      ]
     },
     "metadata": {},
     "output_type": "display_data"
    },
    {
     "data": {
      "text/html": [
       "<pre style=\"white-space:pre;overflow-x:auto;line-height:normal;font-family:Menlo,'DejaVu Sans Mono',consolas,'Courier New',monospace\">┏━━━━━━━━━━━━━━━━━━━━━━━━━━━━━━━━━━━┳━━━━━━━━━━┓\n",
       "┃<span style=\"font-weight: bold\">                                   </span>┃<span style=\"font-weight: bold\"> (84, 84) </span>┃\n",
       "┡━━━━━━━━━━━━━━━━━━━━━━━━━━━━━━━━━━━╇━━━━━━━━━━┩\n",
       "│ ((18, 12, 10, 6), (17, 11, 7, 3)) │ 96       │\n",
       "├───────────────────────────────────┼──────────┤\n",
       "│ ((18, 18, 10, 6), (11, 11, 7, 3)) │ 0        │\n",
       "├───────────────────────────────────┼──────────┤\n",
       "│ ((18, 12, 12, 6), (17, 9, 7, 3))  │ 0        │\n",
       "├───────────────────────────────────┼──────────┤\n",
       "│ ((18, 12, 10, 8), (17, 11, 5, 3)) │ 0        │\n",
       "├───────────────────────────────────┼──────────┤\n",
       "│ ((18, 18, 12, 6), (11, 9, 7, 3))  │ 0        │\n",
       "├───────────────────────────────────┼──────────┤\n",
       "│ ((18, 18, 10, 8), (11, 11, 5, 3)) │ 0        │\n",
       "├───────────────────────────────────┼──────────┤\n",
       "│ ((18, 12, 12, 8), (17, 9, 5, 3))  │ 0        │\n",
       "├───────────────────────────────────┼──────────┤\n",
       "│ ((18, 18, 12, 8), (11, 9, 5, 3))  │ 0        │\n",
       "└───────────────────────────────────┴──────────┘\n",
       "</pre>\n"
      ],
      "text/plain": [
       "<rich.jupyter.JupyterRenderable at 0x7fe048d445b0>"
      ]
     },
     "metadata": {},
     "output_type": "display_data"
    },
    {
     "data": {
      "text/html": [
       "<pre style=\"white-space:pre;overflow-x:auto;line-height:normal;font-family:Menlo,'DejaVu Sans Mono',consolas,'Courier New',monospace\">Number of drc diagrams: <span style=\"color: #000080; font-weight: bold\">96</span>\n",
       "</pre>\n"
      ],
      "text/plain": [
       "<rich.jupyter.JupyterRenderable at 0x7fe048d44340>"
      ]
     },
     "metadata": {},
     "output_type": "display_data"
    },
    {
     "data": {
      "text/latex": [
       "$\\displaystyle 96$"
      ],
      "text/plain": [
       "<IPython.core.display.Math object>"
      ]
     },
     "metadata": {},
     "output_type": "display_data"
    }
   ],
   "source": [
    "\n",
    "dO, rtype,drtype = (19,19,19,19,17,13,9,9,9,9,9,9,9,3,3,),'DS','D'\n",
    "dO = (35,35,23,23,19,15,11,7)\n",
    "\n",
    "display(lt(r'Let $\\mathcal O^\\vee$ has rows $%s$'%(list(dO),)))\n",
    "O = dualBVW(dO,rtype,partrc='r')\n",
    "display(lt(r'Then $\\mathcal O$ has columns $%s$'%(O,)))\n",
    "\n",
    "AdrcD = dpart2drc(dO,rtype,printdig=False,getlist=False)\n",
    "\n",
    "\n",
    "countres = countunip(dO,rtype)\n",
    "display(Math(latex(countres)))"
   ]
  },
  {
   "cell_type": "code",
   "execution_count": 23,
   "metadata": {},
   "outputs": [
    {
     "data": {
      "text/latex": [
       "Let $\\mathcal O^\\vee$ has rows $[6, 6, 4, 4, 4, 4, 4, 2, 2, 2]$"
      ],
      "text/plain": [
       "<IPython.core.display.Latex object>"
      ]
     },
     "metadata": {},
     "output_type": "display_data"
    },
    {
     "data": {
      "text/latex": [
       "Then $\\mathcal O$ has columns $[6, 6, 4, 4, 4, 4, 4, 2, 2, 2]$"
      ],
      "text/plain": [
       "<IPython.core.display.Latex object>"
      ]
     },
     "metadata": {},
     "output_type": "display_data"
    },
    {
     "data": {
      "text/html": [
       "<pre style=\"white-space:pre;overflow-x:auto;line-height:normal;font-family:Menlo,'DejaVu Sans Mono',consolas,'Courier New',monospace\"><span style=\"font-weight: bold\">{((</span><span style=\"color: #000080; font-weight: bold\">3</span>, <span style=\"color: #000080; font-weight: bold\">2</span>, <span style=\"color: #000080; font-weight: bold\">2</span>, <span style=\"color: #000080; font-weight: bold\">2</span>, <span style=\"color: #000080; font-weight: bold\">1</span><span style=\"font-weight: bold\">)</span>, <span style=\"font-weight: bold\">(</span><span style=\"color: #000080; font-weight: bold\">2</span>, <span style=\"color: #000080; font-weight: bold\">1</span>, <span style=\"color: #000080; font-weight: bold\">1</span><span style=\"font-weight: bold\">))</span>, <span style=\"font-weight: bold\">((</span><span style=\"color: #000080; font-weight: bold\">3</span>, <span style=\"color: #000080; font-weight: bold\">3</span>, <span style=\"color: #000080; font-weight: bold\">2</span>, <span style=\"color: #000080; font-weight: bold\">2</span>, <span style=\"color: #000080; font-weight: bold\">1</span><span style=\"font-weight: bold\">)</span>, <span style=\"font-weight: bold\">(</span><span style=\"color: #000080; font-weight: bold\">1</span>, <span style=\"color: #000080; font-weight: bold\">1</span>, <span style=\"color: #000080; font-weight: bold\">1</span><span style=\"font-weight: bold\">))}</span>\n",
       "<span style=\"color: #000080; font-weight: bold\">2</span>\n",
       "</pre>\n"
      ],
      "text/plain": [
       "<rich.jupyter.JupyterRenderable at 0x7feb4c165340>"
      ]
     },
     "metadata": {},
     "output_type": "display_data"
    },
    {
     "data": {
      "text/html": [
       "<pre style=\"white-space:pre;overflow-x:auto;line-height:normal;font-family:Menlo,'DejaVu Sans Mono',consolas,'Courier New',monospace\">WrepnB is a subset of Wrepns by Springer theory: <span style=\"color: #ff0000; font-style: italic\">False</span>\n",
       "</pre>\n"
      ],
      "text/plain": [
       "<rich.jupyter.JupyterRenderable at 0x7feb4c165250>"
      ]
     },
     "metadata": {},
     "output_type": "display_data"
    },
    {
     "data": {
      "text/html": [
       "<pre style=\"white-space:pre;overflow-x:auto;line-height:normal;font-family:Menlo,'DejaVu Sans Mono',consolas,'Courier New',monospace\">Type D dual-partition: <span style=\"font-weight: bold\">(</span><span style=\"color: #000080; font-weight: bold\">6</span>, <span style=\"color: #000080; font-weight: bold\">6</span>, <span style=\"color: #000080; font-weight: bold\">4</span>, <span style=\"color: #000080; font-weight: bold\">4</span>, <span style=\"color: #000080; font-weight: bold\">4</span>, <span style=\"color: #000080; font-weight: bold\">4</span>, <span style=\"color: #000080; font-weight: bold\">4</span>, <span style=\"color: #000080; font-weight: bold\">2</span>, <span style=\"color: #000080; font-weight: bold\">2</span>, <span style=\"color: #000080; font-weight: bold\">2</span><span style=\"font-weight: bold\">)</span>\n",
       "</pre>\n"
      ],
      "text/plain": [
       "<rich.jupyter.JupyterRenderable at 0x7feb4c165ca0>"
      ]
     },
     "metadata": {},
     "output_type": "display_data"
    },
    {
     "data": {
      "text/html": [
       "<pre style=\"white-space:pre;overflow-x:auto;line-height:normal;font-family:Menlo,'DejaVu Sans Mono',consolas,'Courier New',monospace\"><span style=\"font-weight: bold\">[(((</span><span style=\"color: #000080; font-weight: bold\">3</span>, <span style=\"color: #000080; font-weight: bold\">2</span>, <span style=\"color: #000080; font-weight: bold\">2</span>, <span style=\"color: #000080; font-weight: bold\">2</span>, <span style=\"color: #000080; font-weight: bold\">1</span><span style=\"font-weight: bold\">)</span>, <span style=\"font-weight: bold\">(</span><span style=\"color: #000080; font-weight: bold\">2</span>, <span style=\"color: #000080; font-weight: bold\">1</span>, <span style=\"color: #000080; font-weight: bold\">1</span><span style=\"font-weight: bold\">))</span>, <span style=\"color: #000080; font-weight: bold\">304</span><span style=\"font-weight: bold\">)</span>, <span style=\"font-weight: bold\">(((</span><span style=\"color: #000080; font-weight: bold\">3</span>, <span style=\"color: #000080; font-weight: bold\">3</span>, <span style=\"color: #000080; font-weight: bold\">2</span>, <span style=\"color: #000080; font-weight: bold\">2</span>, <span style=\"color: #000080; font-weight: bold\">1</span><span style=\"font-weight: bold\">)</span>, <span style=\"font-weight: bold\">(</span><span style=\"color: #000080; font-weight: bold\">1</span>, <span style=\"color: #000080; font-weight: bold\">1</span>, <span style=\"color: #000080; font-weight: bold\">1</span><span style=\"font-weight: bold\">))</span>, <span style=\"color: #000080; font-weight: bold\">304</span><span style=\"font-weight: bold\">)]</span>\n",
       "</pre>\n"
      ],
      "text/plain": [
       "<rich.jupyter.JupyterRenderable at 0x7feb4c4440a0>"
      ]
     },
     "metadata": {},
     "output_type": "display_data"
    },
    {
     "data": {
      "text/html": [
       "<pre style=\"white-space:pre;overflow-x:auto;line-height:normal;font-family:Menlo,'DejaVu Sans Mono',consolas,'Courier New',monospace\"><span style=\"font-weight: bold\">{</span>\n",
       "    <span style=\"font-weight: bold\">((</span><span style=\"color: #000080; font-weight: bold\">3</span>, <span style=\"color: #000080; font-weight: bold\">2</span>, <span style=\"color: #000080; font-weight: bold\">2</span>, <span style=\"color: #000080; font-weight: bold\">2</span>, <span style=\"color: #000080; font-weight: bold\">1</span><span style=\"font-weight: bold\">)</span>, <span style=\"font-weight: bold\">(</span><span style=\"color: #000080; font-weight: bold\">2</span>, <span style=\"color: #000080; font-weight: bold\">1</span>, <span style=\"color: #000080; font-weight: bold\">1</span><span style=\"font-weight: bold\">))</span>: <span style=\"font-weight: bold\">{</span>\n",
       "        <span style=\"font-weight: bold\">(</span><span style=\"color: #000080; font-weight: bold\">14</span>, <span style=\"color: #000080; font-weight: bold\">14</span><span style=\"font-weight: bold\">)</span>: <span style=\"color: #000080; font-weight: bold\">90</span>,\n",
       "        <span style=\"font-weight: bold\">(</span><span style=\"color: #000080; font-weight: bold\">15</span>, <span style=\"color: #000080; font-weight: bold\">13</span><span style=\"font-weight: bold\">)</span>: <span style=\"color: #000080; font-weight: bold\">70</span>,\n",
       "        <span style=\"font-weight: bold\">(</span><span style=\"color: #000080; font-weight: bold\">13</span>, <span style=\"color: #000080; font-weight: bold\">15</span><span style=\"font-weight: bold\">)</span>: <span style=\"color: #000080; font-weight: bold\">70</span>,\n",
       "        <span style=\"font-weight: bold\">(</span><span style=\"color: #000080; font-weight: bold\">16</span>, <span style=\"color: #000080; font-weight: bold\">12</span><span style=\"font-weight: bold\">)</span>: <span style=\"color: #000080; font-weight: bold\">31</span>,\n",
       "        <span style=\"font-weight: bold\">(</span><span style=\"color: #000080; font-weight: bold\">12</span>, <span style=\"color: #000080; font-weight: bold\">16</span><span style=\"font-weight: bold\">)</span>: <span style=\"color: #000080; font-weight: bold\">31</span>,\n",
       "        <span style=\"font-weight: bold\">(</span><span style=\"color: #000080; font-weight: bold\">17</span>, <span style=\"color: #000080; font-weight: bold\">11</span><span style=\"font-weight: bold\">)</span>: <span style=\"color: #000080; font-weight: bold\">6</span>,\n",
       "        <span style=\"font-weight: bold\">(</span><span style=\"color: #000080; font-weight: bold\">11</span>, <span style=\"color: #000080; font-weight: bold\">17</span><span style=\"font-weight: bold\">)</span>: <span style=\"color: #000080; font-weight: bold\">6</span>\n",
       "    <span style=\"font-weight: bold\">}</span>,\n",
       "    <span style=\"font-weight: bold\">((</span><span style=\"color: #000080; font-weight: bold\">3</span>, <span style=\"color: #000080; font-weight: bold\">3</span>, <span style=\"color: #000080; font-weight: bold\">2</span>, <span style=\"color: #000080; font-weight: bold\">2</span>, <span style=\"color: #000080; font-weight: bold\">1</span><span style=\"font-weight: bold\">)</span>, <span style=\"font-weight: bold\">(</span><span style=\"color: #000080; font-weight: bold\">1</span>, <span style=\"color: #000080; font-weight: bold\">1</span>, <span style=\"color: #000080; font-weight: bold\">1</span><span style=\"font-weight: bold\">))</span>: <span style=\"font-weight: bold\">{</span>\n",
       "        <span style=\"font-weight: bold\">(</span><span style=\"color: #000080; font-weight: bold\">14</span>, <span style=\"color: #000080; font-weight: bold\">14</span><span style=\"font-weight: bold\">)</span>: <span style=\"color: #000080; font-weight: bold\">90</span>,\n",
       "        <span style=\"font-weight: bold\">(</span><span style=\"color: #000080; font-weight: bold\">15</span>, <span style=\"color: #000080; font-weight: bold\">13</span><span style=\"font-weight: bold\">)</span>: <span style=\"color: #000080; font-weight: bold\">70</span>,\n",
       "        <span style=\"font-weight: bold\">(</span><span style=\"color: #000080; font-weight: bold\">13</span>, <span style=\"color: #000080; font-weight: bold\">15</span><span style=\"font-weight: bold\">)</span>: <span style=\"color: #000080; font-weight: bold\">70</span>,\n",
       "        <span style=\"font-weight: bold\">(</span><span style=\"color: #000080; font-weight: bold\">16</span>, <span style=\"color: #000080; font-weight: bold\">12</span><span style=\"font-weight: bold\">)</span>: <span style=\"color: #000080; font-weight: bold\">31</span>,\n",
       "        <span style=\"font-weight: bold\">(</span><span style=\"color: #000080; font-weight: bold\">12</span>, <span style=\"color: #000080; font-weight: bold\">16</span><span style=\"font-weight: bold\">)</span>: <span style=\"color: #000080; font-weight: bold\">31</span>,\n",
       "        <span style=\"font-weight: bold\">(</span><span style=\"color: #000080; font-weight: bold\">17</span>, <span style=\"color: #000080; font-weight: bold\">11</span><span style=\"font-weight: bold\">)</span>: <span style=\"color: #000080; font-weight: bold\">6</span>,\n",
       "        <span style=\"font-weight: bold\">(</span><span style=\"color: #000080; font-weight: bold\">11</span>, <span style=\"color: #000080; font-weight: bold\">17</span><span style=\"font-weight: bold\">)</span>: <span style=\"color: #000080; font-weight: bold\">6</span>\n",
       "    <span style=\"font-weight: bold\">}</span>\n",
       "<span style=\"font-weight: bold\">}</span>\n",
       "</pre>\n"
      ],
      "text/plain": [
       "<rich.jupyter.JupyterRenderable at 0x7feb4c4440a0>"
      ]
     },
     "metadata": {},
     "output_type": "display_data"
    },
    {
     "data": {
      "text/html": [
       "<pre style=\"white-space:pre;overflow-x:auto;line-height:normal;font-family:Menlo,'DejaVu Sans Mono',consolas,'Courier New',monospace\">Number of drc diagrams: <span style=\"color: #000080; font-weight: bold\">608</span>\n",
       "</pre>\n"
      ],
      "text/plain": [
       "<rich.jupyter.JupyterRenderable at 0x7feb4c1fbd90>"
      ]
     },
     "metadata": {},
     "output_type": "display_data"
    },
    {
     "data": {
      "text/html": [
       "<pre style=\"white-space:pre;overflow-x:auto;line-height:normal;font-family:Menlo,'DejaVu Sans Mono',consolas,'Courier New',monospace\"><span style=\"color: #000080; font-weight: bold\">608</span>\n",
       "</pre>\n"
      ],
      "text/plain": [
       "<rich.jupyter.JupyterRenderable at 0x7feb4c1fbd90>"
      ]
     },
     "metadata": {},
     "output_type": "display_data"
    },
    {
     "data": {
      "text/html": [
       "<pre style=\"white-space:pre;overflow-x:auto;line-height:normal;font-family:Menlo,'DejaVu Sans Mono',consolas,'Courier New',monospace\">Type D partition: <span style=\"font-weight: bold\">(</span><span style=\"color: #000080; font-weight: bold\">6</span>, <span style=\"color: #000080; font-weight: bold\">6</span>, <span style=\"color: #000080; font-weight: bold\">4</span>, <span style=\"color: #000080; font-weight: bold\">4</span>, <span style=\"color: #000080; font-weight: bold\">4</span>, <span style=\"color: #000080; font-weight: bold\">4</span>, <span style=\"color: #000080; font-weight: bold\">4</span>, <span style=\"color: #000080; font-weight: bold\">2</span>, <span style=\"color: #000080; font-weight: bold\">2</span>, <span style=\"color: #000080; font-weight: bold\">2</span><span style=\"font-weight: bold\">)</span>\n",
       "</pre>\n"
      ],
      "text/plain": [
       "<rich.jupyter.JupyterRenderable at 0x7feb4c165d30>"
      ]
     },
     "metadata": {},
     "output_type": "display_data"
    },
    {
     "data": {
      "text/html": [
       "<pre style=\"white-space:pre;overflow-x:auto;line-height:normal;font-family:Menlo,'DejaVu Sans Mono',consolas,'Courier New',monospace\"><span style=\"font-weight: bold\">[</span><span style=\"color: #000080; font-weight: bold\">0</span>, <span style=\"color: #000080; font-weight: bold\">4</span><span style=\"font-weight: bold\">]</span>\n",
       "</pre>\n"
      ],
      "text/plain": [
       "<rich.jupyter.JupyterRenderable at 0x7feb4c165880>"
      ]
     },
     "metadata": {},
     "output_type": "display_data"
    },
    {
     "data": {
      "text/html": [
       "<pre style=\"white-space:pre;overflow-x:auto;line-height:normal;font-family:Menlo,'DejaVu Sans Mono',consolas,'Courier New',monospace\">Number of drc diagrams: <span style=\"color: #000080; font-weight: bold\">4</span>\n",
       "</pre>\n"
      ],
      "text/plain": [
       "<rich.jupyter.JupyterRenderable at 0x7feb4c1649d0>"
      ]
     },
     "metadata": {},
     "output_type": "display_data"
    },
    {
     "data": {
      "text/html": [
       "<pre style=\"white-space:pre;overflow-x:auto;line-height:normal;font-family:Menlo,'DejaVu Sans Mono',consolas,'Courier New',monospace\"><span style=\"color: #000080; font-weight: bold\">4</span>\n",
       "</pre>\n"
      ],
      "text/plain": [
       "<rich.jupyter.JupyterRenderable at 0x7feb4c1fbd90>"
      ]
     },
     "metadata": {},
     "output_type": "display_data"
    }
   ],
   "source": [
    "## example of good parity dual orbit\n",
    "\n",
    "dO, drtype = (6,6,4,4,4,4,4,2,2,2),'C' \n",
    "display(lt(r'Let $\\mathcal O^\\vee$ has rows $%s$'%(list(dO),)))\n",
    "O = dualBVW(dO,rtype,partrc='c')\n",
    "display(lt(r'Then $\\mathcal O$ has columns $%s$'%(O,)))\n",
    "Wrepns = springer_part2family(dO,rtype)\n",
    "WrepnsB = dualpart2Wrepn(dO,rtype)\n",
    "Wrepns, WrepnsB = set(Wrepns), set(WrepnsB)\n",
    "#print(Wrepns, len(Wrepns))\n",
    "print(WrepnsB, len(WrepnsB))\n",
    "print(\"WrepnB is a subset of Wrepns by Springer theory:\", WrepnsB.issubset(Wrepns))\n",
    "\n",
    "\n",
    "AdrcSp = dpart2drc(dO,rtype)\n",
    "print(len(AdrcSp))\n",
    "\n",
    "AdrcSp = dpart2pbp(dO,rtype)\n",
    "print(len(AdrcSp))"
   ]
  },
  {
   "cell_type": "code",
   "execution_count": null,
   "metadata": {},
   "outputs": [],
   "source": [
    "## example of good parity dual orbit\n",
    "\n",
    "dO, drtype = (6,6,4,4,4,4,4,2,2,2),'C' \n",
    "display(lt(r'Let $\\mathcal O^\\vee$ has rows $%s$'%(list(dO),)))\n",
    "O = dualBVW(dO,rtype,partrc='c')\n",
    "display(lt(r'Then $\\mathcal O$ has columns $%s$'%(O,)))\n",
    "Wrepns = springer_part2family(dO,rtype)\n",
    "WrepnsB = dualpart2Wrepn(dO,rtype)\n",
    "Wrepns, WrepnsB = set(Wrepns), set(WrepnsB)\n",
    "#print(Wrepns, len(Wrepns))\n",
    "print(WrepnsB, len(WrepnsB))\n",
    "print(\"WrepnB is a subset of Wrepns by Springer theory:\", WrepnsB.issubset(Wrepns))\n",
    "\n",
    "\n",
    "AdrcSp = dpart2drc(dO,rtype)\n",
    "print(len(AdrcSp))\n",
    "\n",
    "AdrcSp = dpart2pbp(dO,rtype)\n",
    "print(len(AdrcSp))\n"
   ]
  },
  {
   "cell_type": "code",
   "execution_count": null,
   "metadata": {},
   "outputs": [],
   "source": [
    "## example of bad parity dual orbit of type D\n",
    "\n",
    "dO, rtype = (6,6,6,6,2,2,2,2),'D' \n",
    "display(lt(r'Let $\\mathcal O^\\vee$ has rows $%s$'%(list(dO),)))\n",
    "O = dualBVW(dO,rtype,partrc='c')\n",
    "display(lt(r'Then $\\mathcal O$ has columns $%s$'%(O,)))\n",
    "Wrepns = springer_part2family(dO,rtype)\n",
    "Wrepns = set(Wrepns)\n",
    "print(Wrepns, len(Wrepns))\n",
    "#print(\"WrepnB is a subset of Wrepns by Springer theory:\", WrepnsB.issubset(Wrepns))\n",
    "\n",
    "AdrcSp = dpart2pbp(dO,rtype)\n",
    "print(len(AdrcSp))"
   ]
  },
  {
   "cell_type": "code",
   "execution_count": null,
   "metadata": {},
   "outputs": [],
   "source": [
    "## example of bad parity dual orbit of type C\n",
    "\n",
    "dO, drtype, rtype = (5,5,3,3,3,3,3,3,1,1),'C' , 'B'\n",
    "display(lt(r'Let $\\mathcal O^\\vee$ has rows $%s$'%(list(dO),)))\n",
    "O = dualBVW(dO,rtype,partrc='c')\n",
    "display(lt(r'Then $\\mathcal O$ has columns $%s$'%(O,)))\n",
    "Wrepns = springer_dpart2family(dO,drtype,symbol=False)\n",
    "Wrepns = set(Wrepns)\n",
    "print(Wrepns, len(Wrepns))\n",
    "\n",
    "AdrcSp = dpart2drc(dO,rtype)\n",
    "print(len(AdrcSp))\n",
    "\n",
    "AdrcSp = dpart2pbp(dO,rtype)\n",
    "print(len(AdrcSp))"
   ]
  },
  {
   "cell_type": "code",
   "execution_count": null,
   "metadata": {},
   "outputs": [],
   "source": [
    "s = \"abc\"\n",
    "s[1]='d'"
   ]
  },
  {
   "cell_type": "code",
   "execution_count": 56,
   "metadata": {},
   "outputs": [
    {
     "data": {
      "text/plain": [
       "ConsoleDimensions(width=93, height=100)"
      ]
     },
     "execution_count": 56,
     "metadata": {},
     "output_type": "execute_result"
    }
   ],
   "source": [
    "from rich.console import Console\n",
    "console = Console()\n",
    "console.size"
   ]
  },
  {
   "cell_type": "code",
   "execution_count": 48,
   "metadata": {},
   "outputs": [
    {
     "data": {
      "text/plain": [
       "()"
      ]
     },
     "execution_count": 48,
     "metadata": {},
     "output_type": "execute_result"
    }
   ],
   "source": [
    "a = tuple()\n",
    "a[1:]"
   ]
  },
  {
   "cell_type": "code",
   "execution_count": 4,
   "metadata": {},
   "outputs": [
    {
     "data": {
      "text/plain": [
       "'srrrrrrrrrrcd'"
      ]
     },
     "execution_count": 4,
     "metadata": {},
     "output_type": "execute_result"
    }
   ],
   "source": [
    "'s'+'r'*10+'cd'\n"
   ]
  },
  {
   "cell_type": "code",
   "execution_count": null,
   "metadata": {},
   "outputs": [],
   "source": []
  }
 ],
 "metadata": {
  "kernelspec": {
   "display_name": "Python 3",
   "language": "python",
   "name": "python3"
  },
  "language_info": {
   "codemirror_mode": {
    "name": "ipython",
    "version": 3
   },
   "file_extension": ".py",
   "mimetype": "text/x-python",
   "name": "python",
   "nbconvert_exporter": "python",
   "pygments_lexer": "ipython3",
   "version": "3.8.10"
  }
 },
 "nbformat": 4,
 "nbformat_minor": 4
}
