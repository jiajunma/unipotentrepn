{
 "cells": [
  {
   "cell_type": "code",
   "execution_count": null,
   "metadata": {},
   "outputs": [],
   "source": [
    "%load_ext autoreload\n",
    "%autoreload 2\n",
    "from combunipotent import *"
   ]
  },
  {
   "cell_type": "markdown",
   "metadata": {},
   "source": [
    "Notation: \n",
    "\n",
    "$[r_1, r_2, \\cdots, r_k]$ denote a Young diagram with rows $r_1, \\cdots, r_k$. \n",
    "\n",
    "$(c_1, c_2, \\cdots, c_k)$ denote a Young diagram with columns $c_1, \\cdots, c_k$. \n",
    "\n",
    "Let $\\mathcal O^\\vee = [r_1, r_2, \\cdots, r_k]$ be a nilpotent orbit, we can comput its Barbasch-Vogan dual.\n"
   ]
  },
  {
   "cell_type": "code",
   "execution_count": null,
   "metadata": {},
   "outputs": [],
   "source": [
    "O, rtype = (5,4,4,2), 'C'\n"
   ]
  },
  {
   "cell_type": "code",
   "execution_count": null,
   "metadata": {},
   "outputs": [],
   "source": []
  }
 ],
 "metadata": {
  "kernelspec": {
   "display_name": "Python 3",
   "language": "python",
   "name": "python3"
  },
  "language_info": {
   "codemirror_mode": {
    "name": "ipython",
    "version": 3
   },
   "file_extension": ".py",
   "mimetype": "text/x-python",
   "name": "python",
   "nbconvert_exporter": "python",
   "pygments_lexer": "ipython3",
   "version": "3.8.5"
  }
 },
 "nbformat": 4,
 "nbformat_minor": 4
}
