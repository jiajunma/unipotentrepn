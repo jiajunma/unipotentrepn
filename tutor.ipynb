{
 "cells": [
  {
   "cell_type": "code",
   "execution_count": null,
   "metadata": {},
   "outputs": [],
   "source": [
    "%load_ext autoreload\n",
    "%autoreload 2\n",
    "from IPython.display import Markdown as md\n",
    "from IPython.display import Latex as lt\n",
    "from IPython.display import Math\n",
    "from sympy import latex,pprint\n",
    "from combunipotent import *"
   ]
  },
  {
   "cell_type": "markdown",
   "metadata": {},
   "source": [
    "Notation: \n",
    "\n",
    "$[r_1, r_2, \\cdots, r_k]$ denote a Young diagram with rows $r_1, \\cdots, r_k$. \n",
    "\n",
    "$(c_1, c_2, \\cdots, c_k)$ denote a Young diagram with columns $c_1, \\cdots, c_k$. \n",
    "\n",
    "Let $\\mathcal O^\\vee = [r_1, r_2, \\cdots, r_k]$ be a nilpotent orbit, we can comput its Barbasch-Vogan dual.\n",
    "\n",
    "The following is an example of computing the Barbasch-Vogan dual {{aa}}"
   ]
  },
  {
   "cell_type": "code",
   "execution_count": null,
   "metadata": {},
   "outputs": [],
   "source": [
    "dO,rtype = (15,11,7,7,5,5,3,3,1,1),'D'\n",
    "display(lt(r'Let $\\mathcal O^\\vee$ (a orbit of type D) has rows $%s$'%(list(dO),)))\n",
    "O = dualBVW(dO,rtype,partrc='c')\n",
    "display(lt(r'Then $\\mathcal O$ (a orbit of type D) has columns $%s$'%(tuple(O),)))\n",
    "display(lt(r'The set of Weyl group representations attached to $\\mathcal O^\\vee$ are the follows (the first one is special)'))\n",
    "RR = dualpart2Wrepn(dO,rtype)\n",
    "aa = lt(r'%s'%(list(dO)))\n",
    "for tau in RR:\n",
    "    display(lt(r'$%s \\times %s$'%tau))\n",
    "#RRA = dualpart2WrepnA(dO,rtype)\n",
    "#print(len(RR), RR)\n",
    "#print(len(RRA), RRA)\n",
    "#set(RR) == set(RRA)"
   ]
  },
  {
   "cell_type": "markdown",
   "metadata": {},
   "source": [
    "Suppose $\\mathcal O^\\vee$ is a of type $\\star = C$ and $(1,2)\\in \\mathrm{PP}(\\mathcal O^\\vee)$ there is a switch between the set of painted bipartition of special shapes and \n",
    "non-special shapes. \n",
    "The following is an example:"
   ]
  },
  {
   "cell_type": "code",
   "execution_count": null,
   "metadata": {},
   "outputs": [],
   "source": [
    "dO, rtype = (5,3,3,3,1),'C' \n",
    "display(lt(r'Let $\\mathcal O^\\vee$ has rows $%s$'%(list(dO),)))\n",
    "O = dualBVW(dO,'C',partrc='c')\n",
    "display(lt(r'Then $\\mathcal O$ has columns $%s$'%(O,)))\n",
    "Wrepns = dualpart2Wrepn(dO,rtype)\n",
    "taus = Wrepns[0]\n",
    "tauns = Wrepns[1]\n",
    "display(lt(r'The special representation (columns) $\\tau =$ %s $\\times$  %s is paired with $\\bar\\tau = $ %s $\\times$ %s  (with $\\wp_{\\bar\\tau} = \\{(1,2)\\}$)'%(taus+tauns)))\n",
    "display(lt(r'The switching between  $\\mathrm{PBP}_C(\\mathcal O^\\vee,\\emptyset)$ and $\\mathrm{PBP}_C(\\mathcal O^\\vee, \\{(1,2)\\})$ is given by:'))\n",
    "Adrcs = [drc for drc in Wrepn2drcs(taus,'C')]\n",
    "for drc in  Adrcs:\n",
    "    nsdrc  = twist_C_nonspecial(drc)\n",
    "    res = concat_strblocks(str_dgms(drc),\"<==>\",str_dgms(nsdrc))\n",
    "    print(res)"
   ]
  },
  {
   "cell_type": "code",
   "execution_count": null,
   "metadata": {},
   "outputs": [],
   "source": [
    "dO, rtype = (6,0),'M' \n",
    "display(lt(r'Let $\\mathcal O^\\vee$ has rows $%s$'%(list(dO),)))\n",
    "O = dualBVW(dO,rtype,partrc='c')\n",
    "display(lt(r'Then $\\mathcal O$ has columns $%s$'%(O,)))\n",
    "Wrepns = dualpart2Wrepn(dO,rtype)\n",
    "taus = Wrepns[0]\n",
    "tauns = Wrepns[1]\n",
    "display(lt(r'The special representation (columns) $\\tau =$ %s $\\times$  %s is paired with $\\bar\\tau = $ %s $\\times$ %s  (with $\\wp_{\\bar\\tau} = \\{(1,2)\\}$)'%(taus+tauns)))\n",
    "display(lt(r'The switching between  $\\mathrm{PBP}_C(\\mathcal O^\\vee,\\emptyset)$ and $\\mathrm{PBP}_C(\\mathcal O^\\vee, \\{(1,2)\\})$ is given by:'))\n",
    "Adrcs = [drc for drc in Wrepn2drcs(taus,rtype)]\n",
    "for drc in  Adrcs:\n",
    "    #nsdrc  = twist_M_nonspecial(drc)\n",
    "    #res = concat_strblocks(str_dgms(drc),\"<==>\",str_dgms(nsdrc))\n",
    "    print(str_dgms(drc))"
   ]
  },
  {
   "cell_type": "code",
   "execution_count": null,
   "metadata": {},
   "outputs": [],
   "source": [
    "## example of good parity dual orbit\n",
    "\n",
    "#dO, rtype = (13,11,5,5,5,5,3,3,1,1),'D' \n",
    "#dO, rtype,drtype = (7,5,3,1),'D' ,'D'\n",
    "dO, rtype,drtype = (19,19,19,19,17,13,9,9,9,9,9,3,3,1),'D' ,'D'\n",
    "dO, rtype,drtype = (19,19,19,19,17,13,9,9,9,9,9,9,9,3,3,1),'D' ,'D'\n",
    "dO = (9,9,9,9,9,9,9,3,3,1)\n",
    "display(lt(r'Let $\\mathcal O^\\vee$ has rows $%s$'%(list(dO),)))\n",
    "O = dualBVW(dO,rtype,partrc='r')\n",
    "display(lt(r'Then $\\mathcal O$ has columns $%s$'%(O,)))\n",
    "# Broken\n",
    "#Wrepns = springer_part2family(dO,drtype)\n",
    "WrepnsB = dualpart2Wrepn(dO,rtype)\n",
    "#Wrepns, WrepnsB = set(Wrepns), set(WrepnsB)\n",
    "#print(Wrepns, len(Wrepns))\n",
    "print(WrepnsB, len(WrepnsB))\n",
    "#print(\"The left cell WrepnB is a subset of the family Wrepns by Lusztig's theory:\", WrepnsB.issubset(Wrepns))\n",
    "\n",
    "# run over repns in the Lusztig left cell\n",
    "AdrcD = dpart2drc(dO,rtype,getlist=False)\n",
    "\n",
    "countres = countunip(dO,rtype)\n",
    "display(Math(latex(countres)))\n",
    "\n",
    "#print(len(AdrcD))\n",
    "#print(AdrcD)\n",
    "\n",
    "\n",
    "\n",
    "# run over repns in the families\n",
    "#AdrcD = dpart2pbp(dO,rtype)\n",
    "#print(len(AdrcD))\n",
    "\n"
   ]
  },
  {
   "cell_type": "code",
   "execution_count": null,
   "metadata": {},
   "outputs": [],
   "source": [
    "## example of good parity dual orbit\n",
    "\n",
    "\n",
    "dO, rtype,drtype = (8,6,4,4,4,4,2,0),'B' ,'C'\n",
    "dO = (8,8,8,8,4,4,4,)\n",
    "display(lt(r'Let $\\mathcal O^\\vee$ has rows $%s$'%(list(dO),)))\n",
    "O = dualBVW(dO,rtype,partrc='r')\n",
    "display(lt(r'Then $\\mathcal O$ has columns $%s$'%(O,)))\n",
    "\n",
    "AdrcD = dpart2drc(dO,rtype,getlist=False)\n",
    "\n"
   ]
  },
  {
   "cell_type": "code",
   "execution_count": null,
   "metadata": {},
   "outputs": [],
   "source": [
    "## example of good parity dual orbit\n",
    "\n",
    "\n",
    "dO, rtype,drtype = (8,6,4,4,4,4,2,0),'M','C'\n",
    "dO = (8,8,8,8,4,4,4,4)\n",
    "display(lt(r'Let $\\mathcal O^\\vee$ has rows $%s$'%(list(dO),)))\n",
    "O = dualBVW(dO,rtype,partrc='r')\n",
    "display(lt(r'Then $\\mathcal O$ has columns $%s$'%(O,)))\n",
    "\n",
    "AdrcD = dpart2drc(dO,rtype,getlist=False)\n",
    "\n"
   ]
  },
  {
   "cell_type": "code",
   "execution_count": null,
   "metadata": {},
   "outputs": [],
   "source": [
    "## example of good parity dual orbit\n",
    "\n",
    "\n",
    "dO, rtype,drtype = (19,19,19,19,17,13,9,9,9,9,9,9,9,3,3,),'C','B'\n",
    "dO = (9,9,9,9,9,3,3,)\n",
    "\n",
    "display(lt(r'Let $\\mathcal O^\\vee$ has rows $%s$'%(list(dO),)))\n",
    "O = dualBVW(dO,rtype,partrc='r')\n",
    "display(lt(r'Then $\\mathcal O$ has columns $%s$'%(O,)))\n",
    "\n",
    "AdrcD = dpart2drc(dO,rtype,getlist=False)\n",
    "\n",
    "\n",
    "countres = countunip(dO,rtype)\n",
    "pprint(countres)\n",
    "display(lt(f\"The result of counting function: ${latex(countres)}$\"))"
   ]
  },
  {
   "cell_type": "code",
   "execution_count": null,
   "metadata": {},
   "outputs": [],
   "source": [
    "dO, rtype,drtype = (19,19,19,19,17,13,9,9,9,9,9,9,9,3,3,),'CS','B'\n",
    "dO = (35,23,19,15,11,7,3,)\n",
    "\n",
    "display(lt(r'Let $\\mathcal O^\\vee$ has rows $%s$'%(list(dO),)))\n",
    "O = dualBVW(dO,rtype,partrc='r')\n",
    "display(lt(r'Then $\\mathcal O$ has columns $%s$'%(O,)))\n",
    "\n",
    "AdrcD = dpart2drc(dO,rtype,printdig=False,getlist=False)\n",
    "\n",
    "\n",
    "countres = countunip(dO,rtype)\n",
    "display(lt(f\"The result of counting function: ${latex(countres)}$\"))"
   ]
  },
  {
   "cell_type": "code",
   "execution_count": null,
   "metadata": {},
   "outputs": [],
   "source": [
    "\n",
    "dO, rtype,drtype = (19,19,19,19,17,13,9,9,9,9,9,9,9,3,3,),'DS','D'\n",
    "dO = (35,35,23,23,19,15,11,7)\n",
    "\n",
    "display(lt(r'Let $\\mathcal O^\\vee$ has rows $%s$'%(list(dO),)))\n",
    "O = dualBVW(dO,rtype,partrc='r')\n",
    "display(lt(r'Then $\\mathcal O$ has columns $%s$'%(O,)))\n",
    "\n",
    "AdrcD = dpart2drc(dO,rtype,printdig=False,getlist=False)\n",
    "\n",
    "\n",
    "countres = countunip(dO,rtype)\n",
    "display(Math(latex(countres)))"
   ]
  },
  {
   "cell_type": "code",
   "execution_count": null,
   "metadata": {},
   "outputs": [],
   "source": [
    "## example of good parity dual orbit\n",
    "\n",
    "dO, drtype , rtype= (6,6,4,4,4,4,4,2,2,2),'C', 'B'\n",
    "display(lt(r'Let $\\mathcal O^\\vee$ has rows $%s$'%(list(dO),)))\n",
    "O = dualBVW(dO,rtype,partrc='c')\n",
    "display(lt(r'Then $\\mathcal O$ has columns $%s$'%(O,)))\n",
    "Wrepns = springer_part2family(dO,rtype)\n",
    "WrepnsB = dualpart2Wrepn(dO,rtype)\n",
    "Wrepns, WrepnsB = set(Wrepns), set(WrepnsB)\n",
    "#print(Wrepns, len(Wrepns))\n",
    "print(WrepnsB, len(WrepnsB))\n",
    "print(\"WrepnB is a subset of Wrepns by Springer theory:\", WrepnsB.issubset(Wrepns))\n",
    "\n",
    "print(rtype)\n",
    "AdrcSp = dpart2drc(dO,rtype)\n",
    "print(len(AdrcSp))\n",
    "\n",
    "AdrcSp = dpart2pbp(dO,rtype)\n",
    "print(len(AdrcSp))"
   ]
  },
  {
   "cell_type": "code",
   "execution_count": null,
   "metadata": {},
   "outputs": [],
   "source": [
    "## example of good parity dual orbit\n",
    "\n",
    "dO, drtype, rtype = (6,6,4,4,4,4,4,2,2,2),'C','B'\n",
    "display(lt(r'Let $\\mathcal O^\\vee$ has rows $%s$'%(list(dO),)))\n",
    "O = dualBVW(dO,rtype,partrc='c')\n",
    "display(lt(r'Then $\\mathcal O$ has columns $%s$'%(O,)))\n",
    "Wrepns = springer_part2family(dO,rtype)\n",
    "WrepnsB = dualpart2Wrepn(dO,rtype)\n",
    "Wrepns, WrepnsB = set(Wrepns), set(WrepnsB)\n",
    "#print(Wrepns, len(Wrepns))\n",
    "print(WrepnsB, len(WrepnsB))\n",
    "print(\"WrepnB is a subset of Wrepns by Springer theory:\", WrepnsB.issubset(Wrepns))\n",
    "\n",
    "\n",
    "AdrcSp = dpart2drc(dO,rtype)\n",
    "print(len(AdrcSp))\n",
    "\n",
    "AdrcSp = dpart2pbp(dO,rtype)\n",
    "print(len(AdrcSp))\n"
   ]
  },
  {
   "cell_type": "code",
   "execution_count": null,
   "metadata": {},
   "outputs": [],
   "source": [
    "## example of bad parity dual orbit of type D\n",
    "\n",
    "dO, rtype = (6,6,6,6,2,2,2,2),'D' \n",
    "display(lt(r'Let $\\mathcal O^\\vee$ has rows $%s$'%(list(dO),)))\n",
    "O = dualBVW(dO,rtype,partrc='c')\n",
    "display(lt(r'Then $\\mathcal O$ has columns $%s$'%(O,)))\n",
    "Wrepns = springer_part2family(dO,rtype)\n",
    "Wrepns = set(Wrepns)\n",
    "print(Wrepns, len(Wrepns))\n",
    "#print(\"WrepnB is a subset of Wrepns by Springer theory:\", WrepnsB.issubset(Wrepns))\n",
    "\n",
    "AdrcSp = dpart2pbp(dO,rtype)\n",
    "print(len(AdrcSp))"
   ]
  },
  {
   "cell_type": "code",
   "execution_count": null,
   "metadata": {},
   "outputs": [],
   "source": [
    "## example of bad parity dual orbit of type C\n",
    "\n",
    "dO, drtype, rtype = (5,5,3,3,3,3,3,3,1,1),'C' , 'B'\n",
    "display(lt(r'Let $\\mathcal O^\\vee$ has rows $%s$'%(list(dO),)))\n",
    "O = dualBVW(dO,rtype,partrc='c')\n",
    "display(lt(r'Then $\\mathcal O$ has columns $%s$'%(O,)))\n",
    "Wrepns = springer_dpart2family(dO,drtype,symbol=False)\n",
    "Wrepns = set(Wrepns)\n",
    "print(Wrepns, len(Wrepns))\n",
    "\n",
    "AdrcSp = dpart2drc(dO,rtype)\n",
    "print(len(AdrcSp))\n",
    "\n",
    "AdrcSp = dpart2pbp(dO,rtype)\n",
    "print(len(AdrcSp))"
   ]
  },
  {
   "cell_type": "code",
   "execution_count": null,
   "metadata": {},
   "outputs": [],
   "source": [
    "s = \"abc\"\n",
    "s[1]='d'"
   ]
  },
  {
   "cell_type": "code",
   "execution_count": null,
   "metadata": {},
   "outputs": [],
   "source": [
    "from rich.console import Console\n",
    "console = Console()\n",
    "console.size"
   ]
  },
  {
   "cell_type": "code",
   "execution_count": null,
   "metadata": {},
   "outputs": [],
   "source": [
    "a = tuple()\n",
    "a[1:]"
   ]
  },
  {
   "cell_type": "code",
   "execution_count": null,
   "metadata": {},
   "outputs": [],
   "source": [
    "'s'+'r'*10+'cd'\n"
   ]
  },
  {
   "cell_type": "code",
   "execution_count": null,
   "metadata": {},
   "outputs": [],
   "source": [
    "#dO, rtype = (6,2),'B' \n",
    "dO, rtype = (7,1,1),'D' \n",
    "display(lt(r'Let $\\mathcal O^\\vee$ has rows $%s$'%(list(dO),)))\n",
    "O = dualBVW(dO,rtype,partrc='c')\n",
    "display(lt(r'Then $\\mathcal O$ has columns $%s$'%(O,)))\n",
    "Wrepns = dualpart2Wrepn(dO,rtype)\n",
    "Adrcs = [drc for drc in Wrepn2drcs(taus,rtype)]\n",
    "for drc in  Adrcs:\n",
    "    #nsdrc  = twist_M_nonspecial(drc)\n",
    "    #res = concat_strblocks(str_dgms(drc),\"<==>\",str_dgms(nsdrc))\n",
    "    print(str_dgms(drc))"
   ]
  },
  {
   "cell_type": "code",
   "execution_count": null,
   "metadata": {},
   "outputs": [],
   "source": [
    "part, rtype = (2,2)+(1,)*7,'B'\n",
    "springer_part2repn(part,rtype)"
   ]
  },
  {
   "cell_type": "code",
   "execution_count": null,
   "metadata": {},
   "outputs": [],
   "source": [
    "part, rtype = (2,2)+(1,)*6,'D'\n",
    "springer_part2repn(part,rtype)"
   ]
  },
  {
   "cell_type": "code",
   "execution_count": null,
   "metadata": {},
   "outputs": [],
   "source": [
    "part, rtype = (2,2)+(1,)*8,'D'\n",
    "springer_part2family(part,rtype)"
   ]
  },
  {
   "cell_type": "code",
   "execution_count": null,
   "metadata": {},
   "outputs": [],
   "source": [
    "# From dual partition to Local systems\n",
    "\n",
    "dpart, rtype = (9,5,5,5,5,3,3,1,1,1), 'D'\n",
    "dpart, rtype = (5,5,5,3,1,1), 'D'\n",
    "res = test_dpart2drcLS(dpart,rtype,test=False)\n",
    "\n"
   ]
  },
  {
   "cell_type": "code",
   "execution_count": null,
   "metadata": {},
   "outputs": [],
   "source": [
    "# From dual partition to Local systems\n",
    "\n",
    "dpart, rtype = (14,14,8,8,8,6,6,6,6,6,4,4,2), 'B'\n",
    "\n",
    "dpart, rtype = (6,6,6,4,4,4,2,0,0,0), 'B'\n",
    "reg_purelyeven_dpart(dpart,rtype)\n",
    "\n",
    "res = test_dpart2drcLS(dpart,rtype,test=False)\n"
   ]
  },
  {
   "cell_type": "code",
   "execution_count": null,
   "metadata": {},
   "outputs": [],
   "source": [
    "# From dual partition to Local systems\n",
    "\n",
    "dpart, rtype = (5,5,5,3,1,1,), 'D'\n",
    "#dpart, rtype = (1,1), 'D'\n",
    "#dpart, rtype = (2,0,0,0), 'B'\n",
    "\n",
    "res = test_dpart2drcLS(dpart,rtype,test=False,report=False)"
   ]
  },
  {
   "cell_type": "code",
   "execution_count": null,
   "metadata": {},
   "outputs": [],
   "source": [
    "# From dual partition to Local systems\n",
    "\n",
    "dpart, rtype = (9,5,5,5,3,1,1,), 'C'\n",
    "\n",
    "\n",
    "res = test_dpart2drcLS(dpart,rtype,test=False,report=False)"
   ]
  },
  {
   "cell_type": "code",
   "execution_count": null,
   "metadata": {},
   "outputs": [],
   "source": [
    "#  tdLS\n",
    "\n",
    "part = (20,17,17,13,13,13,13,11,11,11,11,10,10,8,3,3)\n",
    "part = (8,5,5,5,5)\n",
    "tau = springer_part2repn(part, rtype = 'C')\n",
    "print(tau)\n",
    "ttau = W_repn_sgn(tau)\n",
    "sttau = repn2specialrepn(ttau, rtype='D')\n",
    "sttauc = (part_trans(sttau[0]),part_trans(sttau[1]))\n",
    "print(sttauc)\n"
   ]
  },
  {
   "cell_type": "code",
   "execution_count": null,
   "metadata": {},
   "outputs": [],
   "source": []
  }
 ],
 "metadata": {
  "kernelspec": {
   "display_name": "Python 3",
   "language": "python",
   "name": "python3"
  },
  "language_info": {
   "codemirror_mode": {
    "name": "ipython",
    "version": 3
   },
   "file_extension": ".py",
   "mimetype": "text/x-python",
   "name": "python",
   "nbconvert_exporter": "python",
   "pygments_lexer": "ipython3",
   "version": "3.8.10"
  }
 },
 "nbformat": 4,
 "nbformat_minor": 4
}
